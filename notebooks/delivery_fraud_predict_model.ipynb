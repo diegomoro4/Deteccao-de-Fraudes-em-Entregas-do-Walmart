{
 "cells": [
  {
   "cell_type": "markdown",
   "id": "e289e29b-b77d-4b99-928e-df3cdc2538f6",
   "metadata": {},
   "source": [
    "# Modelagem Preditiva"
   ]
  },
  {
   "cell_type": "markdown",
   "id": "4b835665-ae5f-40d2-a0d7-8277f2df69c0",
   "metadata": {},
   "source": [
    "## Introdução\n",
    "Neste notebook, vamos desenvolver um modelo preditivo para identificar entregas problemáticas ou possíveis fraudes no sistema de entregas do Walmart. Com base nos dados integrados e analisados nos notebooks anteriores, este modelo será treinado para prever se um pedido terá itens faltantes, permitindo uma identificação proativa de problemas e ajudando a mitigar fraudes ou falhas no processo de entrega.\n",
    "\n",
    "\n",
    "## Objetivo do Modelo Preditivo\n",
    "O objetivo principal é criar um modelo que seja capaz de prever fraudes ou problemas nas entregas com base nos dados disponíveis. Isso envolve:\n",
    "1. Identificar entregas problemáticas com alta precisão e recall, permitindo ações preventivas.\n",
    "2. Reduzir custos associados a entregas problemáticas, como reembolsos e auditorias manuais.\n",
    "3. Melhorar a eficiência logística ao priorizar pedidos com maior probabilidade de problemas.\n",
    "## Etapas\n",
    "* **Preparação dos Dados**\n",
    "\t1. Carregar e revisar o dataset integrado `df_final`.\n",
    "    2. Selecionar as variáveis relevantes.\n",
    "    3. Dividir os dados em conjuntos de treinamento e teste.\n",
    "*  **Criação da Variável-Alvo (`fraud_flag`):** \n",
    "   - A variável-alvo foi criada para identificar entregas problemáticas:\n",
    "     - `1` para pedidos com problemas (ex.: itens faltantes).\n",
    "     - `0` para pedidos sem problemas.\n",
    "* **Feature Engineering:**\n",
    "   - Criar novas variáveis relevantes para o modelo, incluindo:\n",
    "     - Taxa de reclamação do motorista.\n",
    "     - Taxa de reclamação do cliente.\n",
    "     - Valor total do pedido.\n",
    "     - Recorrência de motoristas e clientes.\n",
    "     - Período da entrega (manhã/tarde/noite).\n",
    "* **Seleção de Features Relevantes:**\n",
    "   - As features mais relevantes foram selecionadas com base na análise exploratória:\n",
    "     - `order_amount`, `region`, `items_delivered`, `delivery_period`, \n",
    "       `day_of_week`, `driver_age_group`, `Trips`, `customer_age_group`,\n",
    "       `driver_complaint_rate`, `customer_complaint_rate`, \n",
    "       `is_night_delivery`, `order_value_category`.\n",
    "* **Pré-Processamento dos Dados:**\n",
    "   - Codificação de variáveis categóricas usando `pd.get_dummies`.\n",
    "   - Normalização das variáveis numéricas para garantir escalas consistentes.\n",
    "* **Divisão dos Dados em Treino e Teste:**\n",
    "   - Os dados foram divididos em:\n",
    "     - Treino: 70% (7000 amostras).\n",
    "     - Teste: 30% (3000 amostras).\n",
    "* **Treinamento dos Modelos:**\n",
    "   - Modelos treinados:\n",
    "     1. Logistic Regression\n",
    "     2. Random Forest\n",
    "     3. XGBoost\n",
    "     4. Decision Tree\n",
    "     5. Gradient Boosting Classifier\n",
    "* **Avaliação dos Modelos:**\n",
    "    - As métricas avaliadas incluem:\n",
    "      - Recall, Precision, F1-Score (Classe Fraude).\n",
    "      - ROC-AUC.\n",
    "      - Balanced Accuracy.\n",
    "    - Curvas ROC-AUC foram geradas para cada modelo.\n",
    "    - Matrizes de confusão foram plotadas para entender os erros do modelo.\n",
    "* **Comparação dos Modelos:**\n",
    "    - Os resultados foram organizados em um DataFrame comparativo para facilitar a análise.\n",
    "    - Identificar possíveis melhorias no processo de entrega com base nos resultados do modelo.\n",
    "  \n",
    "Ao final deste notebook, esperamos obter um modelo robusto que possa ser utilizado para prever entregas problemáticas e fornecer insights valiosos para melhorar os processos logísticos e reduzir fraudes no sistema de entregas do Walmart.\n"
   ]
  },
  {
   "cell_type": "markdown",
   "id": "c640180f-92ae-45fd-bce2-408eae2a1f8f",
   "metadata": {},
   "source": [
    "### Importar Bibliotecas Necessárias"
   ]
  },
  {
   "cell_type": "code",
   "execution_count": 1,
   "id": "1fede80f-c3f6-4270-9f55-edf9d8bcf198",
   "metadata": {},
   "outputs": [],
   "source": [
    "import pandas as pd\n",
    "import numpy as np\n",
    "from sklearn.preprocessing import StandardScaler\n",
    "from sklearn.model_selection import train_test_split\n",
    "from sklearn.linear_model import LogisticRegression\n",
    "from sklearn.ensemble import GradientBoostingClassifier, AdaBoostClassifier\n",
    "from sklearn.tree import DecisionTreeClassifier\n",
    "from sklearn.svm import SVC\n",
    "from sklearn.metrics import accuracy_score, precision_score, recall_score, f1_score, precision_recall_curve, classification_report, roc_curve, roc_auc_score, precision_recall_curve\n",
    "import matplotlib.pyplot as plt\n",
    "import seaborn as sns\n",
    "from sklearn.model_selection import GridSearchCV\n",
    "import joblib\n"
   ]
  },
  {
   "cell_type": "markdown",
   "id": "cb7149f3-708f-4717-9b06-5053a8e6e4e0",
   "metadata": {},
   "source": [
    "### Carregar e revisar o dataset integrado `df_final`\n",
    "* Carregue o dataset integrado (`df_final`) criado no segundo notebook (Integração dos Datasets)"
   ]
  },
  {
   "cell_type": "code",
   "execution_count": 2,
   "id": "f4cefe28-cb9b-4b93-8b2b-178ca72dc8ee",
   "metadata": {},
   "outputs": [
    {
     "name": "stdout",
     "output_type": "stream",
     "text": [
      "<class 'pandas.core.frame.DataFrame'>\n",
      "RangeIndex: 10000 entries, 0 to 9999\n",
      "Data columns (total 32 columns):\n",
      " #   Column                   Non-Null Count  Dtype  \n",
      "---  ------                   --------------  -----  \n",
      " 0   date                     10000 non-null  object \n",
      " 1   order_id                 10000 non-null  object \n",
      " 2   order_amount             10000 non-null  float64\n",
      " 3   region                   10000 non-null  object \n",
      " 4   items_delivered          10000 non-null  int64  \n",
      " 5   items_missing            10000 non-null  int64  \n",
      " 6   delivery_hour            10000 non-null  object \n",
      " 7   driver_id                10000 non-null  object \n",
      " 8   customer_id              10000 non-null  object \n",
      " 9   missing_rate             10000 non-null  float64\n",
      " 10  month_name               10000 non-null  object \n",
      " 11  items_range              10000 non-null  object \n",
      " 12  customer_name            10000 non-null  object \n",
      " 13  customer_age             10000 non-null  int64  \n",
      " 14  customer_age_group       10000 non-null  object \n",
      " 15  driver_name              10000 non-null  object \n",
      " 16  age                      10000 non-null  int64  \n",
      " 17  Trips                    10000 non-null  int64  \n",
      " 18  driver_age_group         10000 non-null  object \n",
      " 19  products_missing         10000 non-null  object \n",
      " 20  product_name             10000 non-null  object \n",
      " 21  category                 10000 non-null  object \n",
      " 22  price                    10000 non-null  object \n",
      " 23  delivery_period          10000 non-null  object \n",
      " 24  day_of_week              10000 non-null  object \n",
      " 25  fraud_flag               10000 non-null  int64  \n",
      " 26  driver_complaint_rate    10000 non-null  float64\n",
      " 27  is_night_delivery        10000 non-null  bool   \n",
      " 28  customer_complaint_rate  10000 non-null  float64\n",
      " 29  order_value_category     10000 non-null  object \n",
      " 30  driver_recurrence        10000 non-null  int64  \n",
      " 31  customer_recurrence      10000 non-null  int64  \n",
      "dtypes: bool(1), float64(4), int64(8), object(19)\n",
      "memory usage: 2.4+ MB\n",
      "None\n"
     ]
    },
    {
     "data": {
      "text/html": [
       "<div>\n",
       "<style scoped>\n",
       "    .dataframe tbody tr th:only-of-type {\n",
       "        vertical-align: middle;\n",
       "    }\n",
       "\n",
       "    .dataframe tbody tr th {\n",
       "        vertical-align: top;\n",
       "    }\n",
       "\n",
       "    .dataframe thead th {\n",
       "        text-align: right;\n",
       "    }\n",
       "</style>\n",
       "<table border=\"1\" class=\"dataframe\">\n",
       "  <thead>\n",
       "    <tr style=\"text-align: right;\">\n",
       "      <th></th>\n",
       "      <th>date</th>\n",
       "      <th>order_id</th>\n",
       "      <th>order_amount</th>\n",
       "      <th>region</th>\n",
       "      <th>items_delivered</th>\n",
       "      <th>items_missing</th>\n",
       "      <th>delivery_hour</th>\n",
       "      <th>driver_id</th>\n",
       "      <th>customer_id</th>\n",
       "      <th>missing_rate</th>\n",
       "      <th>...</th>\n",
       "      <th>price</th>\n",
       "      <th>delivery_period</th>\n",
       "      <th>day_of_week</th>\n",
       "      <th>fraud_flag</th>\n",
       "      <th>driver_complaint_rate</th>\n",
       "      <th>is_night_delivery</th>\n",
       "      <th>customer_complaint_rate</th>\n",
       "      <th>order_value_category</th>\n",
       "      <th>driver_recurrence</th>\n",
       "      <th>customer_recurrence</th>\n",
       "    </tr>\n",
       "  </thead>\n",
       "  <tbody>\n",
       "    <tr>\n",
       "      <th>0</th>\n",
       "      <td>2023-01-01</td>\n",
       "      <td>c9da15aa-be24-4871-92a3-dfa7746fff69</td>\n",
       "      <td>1095.54</td>\n",
       "      <td>Winter Park</td>\n",
       "      <td>10</td>\n",
       "      <td>1</td>\n",
       "      <td>08:37:28</td>\n",
       "      <td>WDID10627</td>\n",
       "      <td>WCID5031</td>\n",
       "      <td>0.100000</td>\n",
       "      <td>...</td>\n",
       "      <td>[]</td>\n",
       "      <td>Manhã</td>\n",
       "      <td>Sunday</td>\n",
       "      <td>1</td>\n",
       "      <td>0.272727</td>\n",
       "      <td>False</td>\n",
       "      <td>0.500000</td>\n",
       "      <td>high</td>\n",
       "      <td>11</td>\n",
       "      <td>2</td>\n",
       "    </tr>\n",
       "    <tr>\n",
       "      <th>1</th>\n",
       "      <td>2023-01-01</td>\n",
       "      <td>ccacc183-09f8-4fd5-af35-009d18656326</td>\n",
       "      <td>659.11</td>\n",
       "      <td>Altamonte Springs</td>\n",
       "      <td>11</td>\n",
       "      <td>1</td>\n",
       "      <td>09:31:17</td>\n",
       "      <td>WDID10533</td>\n",
       "      <td>WCID5794</td>\n",
       "      <td>0.090909</td>\n",
       "      <td>...</td>\n",
       "      <td>[]</td>\n",
       "      <td>Manhã</td>\n",
       "      <td>Sunday</td>\n",
       "      <td>1</td>\n",
       "      <td>0.363636</td>\n",
       "      <td>False</td>\n",
       "      <td>0.142857</td>\n",
       "      <td>high</td>\n",
       "      <td>11</td>\n",
       "      <td>7</td>\n",
       "    </tr>\n",
       "    <tr>\n",
       "      <th>2</th>\n",
       "      <td>2023-01-01</td>\n",
       "      <td>f4e1d30b-c3d1-413f-99b8-93c0b46d68bf</td>\n",
       "      <td>251.45</td>\n",
       "      <td>Winter Park</td>\n",
       "      <td>18</td>\n",
       "      <td>1</td>\n",
       "      <td>10:43:49</td>\n",
       "      <td>WDID10559</td>\n",
       "      <td>WCID5599</td>\n",
       "      <td>0.055556</td>\n",
       "      <td>...</td>\n",
       "      <td>[]</td>\n",
       "      <td>Manhã</td>\n",
       "      <td>Sunday</td>\n",
       "      <td>1</td>\n",
       "      <td>0.272727</td>\n",
       "      <td>False</td>\n",
       "      <td>0.153846</td>\n",
       "      <td>high</td>\n",
       "      <td>11</td>\n",
       "      <td>13</td>\n",
       "    </tr>\n",
       "    <tr>\n",
       "      <th>3</th>\n",
       "      <td>2023-01-01</td>\n",
       "      <td>993d31f4-9358-41f0-a371-0021e55cef5d</td>\n",
       "      <td>598.83</td>\n",
       "      <td>Altamonte Springs</td>\n",
       "      <td>12</td>\n",
       "      <td>1</td>\n",
       "      <td>09:48:33</td>\n",
       "      <td>WDID10622</td>\n",
       "      <td>WCID5005</td>\n",
       "      <td>0.083333</td>\n",
       "      <td>...</td>\n",
       "      <td>[]</td>\n",
       "      <td>Manhã</td>\n",
       "      <td>Sunday</td>\n",
       "      <td>1</td>\n",
       "      <td>0.272727</td>\n",
       "      <td>False</td>\n",
       "      <td>0.181818</td>\n",
       "      <td>high</td>\n",
       "      <td>11</td>\n",
       "      <td>11</td>\n",
       "    </tr>\n",
       "    <tr>\n",
       "      <th>4</th>\n",
       "      <td>2023-01-01</td>\n",
       "      <td>3e0a8f1b-3cd6-4d64-90e3-6b38dc368925</td>\n",
       "      <td>27.18</td>\n",
       "      <td>Clermont</td>\n",
       "      <td>3</td>\n",
       "      <td>1</td>\n",
       "      <td>10:09:49</td>\n",
       "      <td>WDID10654</td>\n",
       "      <td>WCID5114</td>\n",
       "      <td>0.333333</td>\n",
       "      <td>...</td>\n",
       "      <td>[]</td>\n",
       "      <td>Manhã</td>\n",
       "      <td>Sunday</td>\n",
       "      <td>1</td>\n",
       "      <td>0.272727</td>\n",
       "      <td>False</td>\n",
       "      <td>0.375000</td>\n",
       "      <td>low</td>\n",
       "      <td>11</td>\n",
       "      <td>8</td>\n",
       "    </tr>\n",
       "  </tbody>\n",
       "</table>\n",
       "<p>5 rows × 32 columns</p>\n",
       "</div>"
      ],
      "text/plain": [
       "         date                              order_id  order_amount  \\\n",
       "0  2023-01-01  c9da15aa-be24-4871-92a3-dfa7746fff69       1095.54   \n",
       "1  2023-01-01  ccacc183-09f8-4fd5-af35-009d18656326        659.11   \n",
       "2  2023-01-01  f4e1d30b-c3d1-413f-99b8-93c0b46d68bf        251.45   \n",
       "3  2023-01-01  993d31f4-9358-41f0-a371-0021e55cef5d        598.83   \n",
       "4  2023-01-01  3e0a8f1b-3cd6-4d64-90e3-6b38dc368925         27.18   \n",
       "\n",
       "              region  items_delivered  items_missing delivery_hour  driver_id  \\\n",
       "0        Winter Park               10              1      08:37:28  WDID10627   \n",
       "1  Altamonte Springs               11              1      09:31:17  WDID10533   \n",
       "2        Winter Park               18              1      10:43:49  WDID10559   \n",
       "3  Altamonte Springs               12              1      09:48:33  WDID10622   \n",
       "4           Clermont                3              1      10:09:49  WDID10654   \n",
       "\n",
       "  customer_id  missing_rate  ... price delivery_period day_of_week  \\\n",
       "0    WCID5031      0.100000  ...    []           Manhã      Sunday   \n",
       "1    WCID5794      0.090909  ...    []           Manhã      Sunday   \n",
       "2    WCID5599      0.055556  ...    []           Manhã      Sunday   \n",
       "3    WCID5005      0.083333  ...    []           Manhã      Sunday   \n",
       "4    WCID5114      0.333333  ...    []           Manhã      Sunday   \n",
       "\n",
       "   fraud_flag driver_complaint_rate is_night_delivery  \\\n",
       "0           1              0.272727             False   \n",
       "1           1              0.363636             False   \n",
       "2           1              0.272727             False   \n",
       "3           1              0.272727             False   \n",
       "4           1              0.272727             False   \n",
       "\n",
       "   customer_complaint_rate  order_value_category driver_recurrence  \\\n",
       "0                 0.500000                  high                11   \n",
       "1                 0.142857                  high                11   \n",
       "2                 0.153846                  high                11   \n",
       "3                 0.181818                  high                11   \n",
       "4                 0.375000                   low                11   \n",
       "\n",
       "  customer_recurrence  \n",
       "0                   2  \n",
       "1                   7  \n",
       "2                  13  \n",
       "3                  11  \n",
       "4                   8  \n",
       "\n",
       "[5 rows x 32 columns]"
      ]
     },
     "execution_count": 2,
     "metadata": {},
     "output_type": "execute_result"
    }
   ],
   "source": [
    "# Carregar o dataset integrado\n",
    "df_final = pd.read_csv('df_final.csv')\n",
    "\n",
    "\n",
    "# Verificar informações gerais do dataset\n",
    "print(df_final.info())\n",
    "\n",
    "# Verificar as primeiras linhas do dataset\n",
    "\n",
    "df_final.head()"
   ]
  },
  {
   "cell_type": "markdown",
   "id": "ffdfc365-67c8-4ca9-bf6b-6326cf08a550",
   "metadata": {},
   "source": [
    " # Criar variavel-alvo\n",
    " * Criar a variável-alvo `fraud_flag`, que identifica se um pedido apresenta problemas. A definição da variável esta na presença de itens faltantes (`items_missing`):\n",
    "- **`fraud_flag = 1`:** Indica que o pedido teve itens faltantes.\n",
    "- **`fraud_flag = 0`:** Indica que o pedido foi entregue sem problemas."
   ]
  },
  {
   "cell_type": "code",
   "execution_count": 3,
   "id": "704ac28f-df16-4ace-801b-52e8bfdded30",
   "metadata": {},
   "outputs": [
    {
     "name": "stdout",
     "output_type": "stream",
     "text": [
      "fraud_flag\n",
      "0    0.8498\n",
      "1    0.1502\n",
      "Name: proportion, dtype: float64\n"
     ]
    }
   ],
   "source": [
    "# Criar a variável-alvo (fraud_flag)\n",
    "df_final['fraud_flag'] = (df_final['items_missing'] > 0).astype(int)\n",
    "\n",
    "# Verificar a distribuição da variável-alvo\n",
    "print(df_final['fraud_flag'].value_counts(normalize=True))\n",
    "\n"
   ]
  },
  {
   "cell_type": "markdown",
   "id": "083aaeca-0d90-4da2-a3cc-d75c8c3b8ea6",
   "metadata": {},
   "source": [
    "* O dataset apresenta um desbalanceamento significativo entre as classes, com a classe \"não problemático\" (0) sendo muito mais frequente do que a classe \"problemático\" (1)."
   ]
  },
  {
   "cell_type": "markdown",
   "id": "a701f62f-1eee-4f65-bd9a-3df1978e7aed",
   "metadata": {},
   "source": [
    "## Feature Engineering\n",
    "Para melhorar o aprendizado do modelo, criar colunas adicionais que ajudem a capturar padrões relevantes nos dados.\n",
    "### Taxa de Reclamação do Motorista\n",
    "* Proporção de reclamações em relação às entregas realizadas por cada motorista."
   ]
  },
  {
   "cell_type": "code",
   "execution_count": 4,
   "id": "cba06258-9abc-4420-bbe2-8c25ac3d5ddf",
   "metadata": {},
   "outputs": [],
   "source": [
    "driver_complaints = df_final.groupby('driver_id')['fraud_flag'].sum()\n",
    "driver_deliveries = df_final.groupby('driver_id')['order_id'].count()\n",
    "df_final['driver_complaint_rate'] = df_final['driver_id'].map(driver_complaints / driver_deliveries)"
   ]
  },
  {
   "cell_type": "markdown",
   "id": "ffb3a91a-d925-4a69-bf84-9447238de40e",
   "metadata": {},
   "source": [
    "### Horário e Região da Entrega:\n",
    "* Criar uma coluna indicando se a entrega foi feita à noite."
   ]
  },
  {
   "cell_type": "code",
   "execution_count": 5,
   "id": "aa47c145-538d-4047-9202-aa4f984ef699",
   "metadata": {},
   "outputs": [],
   "source": [
    "df_final['is_night_delivery'] = df_final['delivery_hour'].apply(lambda x: int(x.split(':')[0]) in range(0, 6))"
   ]
  },
  {
   "cell_type": "markdown",
   "id": "5c50a525-96e4-48a8-83ca-9d1d5ab62844",
   "metadata": {},
   "source": [
    "### Taxa de Reclamação do Cliente\n",
    "* Proporção de reclamações em relação aos pedidos feitos por cada cliente."
   ]
  },
  {
   "cell_type": "code",
   "execution_count": 6,
   "id": "040f357b-d208-47d9-afdc-d415d4cb371a",
   "metadata": {},
   "outputs": [],
   "source": [
    "customer_complaints = df_final.groupby('customer_id')['fraud_flag'].sum()\n",
    "customer_orders = df_final.groupby('customer_id')['order_id'].count()\n",
    "df_final['customer_complaint_rate'] = df_final['customer_id'].map(customer_complaints / customer_orders)"
   ]
  },
  {
   "cell_type": "markdown",
   "id": "c0313dd6-3ac6-49f3-a8fb-7c737c898f0b",
   "metadata": {},
   "source": [
    "### Valor do pedido\n",
    "* Categorizar por valor (baixo, médio, alto)"
   ]
  },
  {
   "cell_type": "code",
   "execution_count": 7,
   "id": "cb8cd6e2-1045-4f71-9313-66bdcc38275f",
   "metadata": {},
   "outputs": [],
   "source": [
    "df_final['order_value_category'] = pd.cut(df_final['order_amount'], bins=[0, 50, 200, float('inf')], \n",
    "                                          labels=['low', 'medium', 'high'])\n"
   ]
  },
  {
   "cell_type": "markdown",
   "id": "fe8c7553-733a-4a83-945f-a5c69d91693b",
   "metadata": {},
   "source": [
    "### Recorrência de Motoristas e Clientes:\n",
    "* Contar o número de ocorrências por motorista/cliente."
   ]
  },
  {
   "cell_type": "code",
   "execution_count": 8,
   "id": "98ed7d8e-937d-4ce8-ab03-3db88095ad98",
   "metadata": {},
   "outputs": [],
   "source": [
    "driver_recurrence = df_final.groupby('driver_id')['order_id'].count()\n",
    "customer_recurrence = df_final.groupby('customer_id')['order_id'].count()\n",
    "df_final['driver_recurrence'] = df_final['driver_id'].map(driver_recurrence)\n",
    "df_final['customer_recurrence'] = df_final['customer_id'].map(customer_recurrence)\n"
   ]
  },
  {
   "cell_type": "markdown",
   "id": "1a06770d-c2bf-45eb-b37d-47e82f297869",
   "metadata": {},
   "source": [
    "### Resumo das Features Criadas\n",
    "\n",
    "| Feature                    | Descrição                                                                 |\n",
    "|----------------------------|---------------------------------------------------------------------------|\n",
    "| `driver_complaint_rate`    | Taxa de reclamações por motorista.                                        |\n",
    "| `is_night_delivery`        | Indica se a entrega foi feita à noite (0h–6h).                           |\n",
    "| `customer_complaint_rate`  | Taxa de reclamações por cliente.                                          |\n",
    "| `order_value_category`     | Categoria do valor do pedido (baixo, médio, alto).                       |\n",
    "| `driver_recurrence`        | Número total de entregas realizadas por cada motorista.                  |\n",
    "| `customer_recurrence`      | Número total de pedidos realizados por cada cliente.                     |\n",
    "\n",
    "Essas features foram adicionadas ao dataset para fornecer informações adicionais que ajudam o modelo preditivo a identificar padrões associados a entregas problemáticas."
   ]
  },
  {
   "cell_type": "markdown",
   "id": "cb5422da-1a73-4231-9077-7218f2fc8f76",
   "metadata": {},
   "source": [
    "## Seleção de Features Relevantes\n",
    "Selecionar as features úteis para o modelo. Exclua colunas irrelevantes como IDs (`order_id`, `driver_id`, etc.) e listas (`products_missing`, etc.)."
   ]
  },
  {
   "cell_type": "code",
   "execution_count": 9,
   "id": "252bc57f-e951-42d1-84f6-64a834d0b1dd",
   "metadata": {},
   "outputs": [],
   "source": [
    "# Selecionar as colunas relevantes\n",
    "features = ['order_amount', 'region', 'items_delivered', 'delivery_period', \n",
    "            'day_of_week', 'driver_age_group', 'Trips', 'customer_age_group',\n",
    "            'driver_complaint_rate', 'customer_complaint_rate', \n",
    "            'is_night_delivery', 'order_value_category']\n",
    "X = df_final[features]\n",
    "y = df_final['fraud_flag']\n"
   ]
  },
  {
   "cell_type": "markdown",
   "id": "b659d82f-5fa7-4801-afdb-e615ee15af53",
   "metadata": {},
   "source": [
    "* Para garantir que o modelo preditivo receba apenas informações úteis e relevantes, foi realizada uma seleção cuidadosa das features (variáveis) do dataset. O objetivo dessa etapa é excluir colunas irrelevantes ou redundantes, como IDs (`order_id`, `driver_id`, etc.) e listas que não contribuem diretamente para o aprendizado do modelo.\n"
   ]
  },
  {
   "cell_type": "markdown",
   "id": "f8d6cd34-117c-4da8-8a1c-736e32a15a22",
   "metadata": {},
   "source": [
    "## Pré-Processamento dos Dados\n",
    "* Antes de treinar os modelos preditivos, é necessário preparar os dados para garantir que todas as variáveis estejam no formato adequado. Isso inclui identificar colunas numéricas e categóricas para tratá-las de forma apropriada.\n"
   ]
  },
  {
   "cell_type": "markdown",
   "id": "65aabe19-6bd7-4d00-ae55-9af348bb1ff7",
   "metadata": {},
   "source": [
    "### Identificar Colunas Numéricas e Categóricas\n",
    "As colunas do dataset seram divididas em dois grupos principais:\n",
    "1. **Colunas Numéricas:** Variáveis contínuas ou discretas que podem ser usadas diretamente no modelo após normalização.\n",
    "2. **Colunas Categóricas:** Variáveis categóricas que precisam ser codificadas para serem interpretadas pelos modelos."
   ]
  },
  {
   "cell_type": "code",
   "execution_count": 10,
   "id": "34bbfa37-3643-4519-b12b-81495f79b138",
   "metadata": {},
   "outputs": [
    {
     "name": "stdout",
     "output_type": "stream",
     "text": [
      "Colunas Numéricas: Index(['order_amount', 'items_delivered', 'Trips', 'driver_complaint_rate',\n",
      "       'customer_complaint_rate'],\n",
      "      dtype='object')\n",
      "Colunas Categóricas: Index(['region', 'delivery_period', 'day_of_week', 'driver_age_group',\n",
      "       'customer_age_group'],\n",
      "      dtype='object')\n"
     ]
    }
   ],
   "source": [
    "# Identificar colunas numéricas e categóricas\n",
    "numeric_cols = X.select_dtypes(include=['int64', 'float64']).columns\n",
    "categorical_cols = X.select_dtypes(include=['object']).columns\n",
    "\n",
    "print(\"Colunas Numéricas:\", numeric_cols)\n",
    "print(\"Colunas Categóricas:\", categorical_cols)\n"
   ]
  },
  {
   "cell_type": "markdown",
   "id": "985bcbb3-99c7-4ad5-8295-2e1700fc9956",
   "metadata": {},
   "source": [
    "#### Colunas Numérias\n",
    "* Preencher os valores nulos das colunas numéricas com a mediana."
   ]
  },
  {
   "cell_type": "code",
   "execution_count": 11,
   "id": "0f15e933-9430-499d-866e-75446f2b4c0a",
   "metadata": {},
   "outputs": [],
   "source": [
    "# Preencher valores nulos nas colunas numéricas com a mediana usando .loc\n",
    "for col in numeric_cols:\n",
    "    X.loc[:, col] = X[col].fillna(X[col].median())\n"
   ]
  },
  {
   "cell_type": "markdown",
   "id": "ebdf7ed4-858a-4fc0-9986-5e61349ad934",
   "metadata": {},
   "source": [
    "#### Colunas Categóricas\n",
    "* Preencher os valores nulos das colunas categóricas com o valor mais frequente (moda)."
   ]
  },
  {
   "cell_type": "code",
   "execution_count": 12,
   "id": "0ea09933-ed62-4250-a9ff-559fefe1da91",
   "metadata": {},
   "outputs": [],
   "source": [
    "# Preencher valores nulos nas colunas categóricas com a moda usando .loc\n",
    "for col in categorical_cols:\n",
    "    X.loc[:, col] = X[col].fillna(X[col].mode().iloc[0])\n"
   ]
  },
  {
   "cell_type": "code",
   "execution_count": 13,
   "id": "cb19e61a-48d1-4ba0-86cc-47fe9d5d4749",
   "metadata": {},
   "outputs": [],
   "source": [
    "# Criar uma cópia explícita do DataFrame\n",
    "X = X.copy()\n",
    "\n",
    "# Preencher valores nulos nas colunas numéricas com a mediana\n",
    "for col in numeric_cols:\n",
    "    X[col] = X[col].fillna(X[col].median())\n",
    "\n",
    "# Preencher valores nulos nas colunas categóricas com a moda\n",
    "for col in categorical_cols:\n",
    "    X[col] = X[col].fillna(X[col].mode().iloc[0])\n"
   ]
  },
  {
   "cell_type": "markdown",
   "id": "b7a5042e-24d9-48c4-89ec-1d466c7ec973",
   "metadata": {},
   "source": [
    "### Verificar Valores Nulos\n",
    "* Verificar se existe valores nulos nas novas features"
   ]
  },
  {
   "cell_type": "code",
   "execution_count": 14,
   "id": "6e959b38-05a8-4a9e-bace-0577342197e5",
   "metadata": {},
   "outputs": [
    {
     "name": "stdout",
     "output_type": "stream",
     "text": [
      "order_amount               0\n",
      "region                     0\n",
      "items_delivered            0\n",
      "delivery_period            0\n",
      "day_of_week                0\n",
      "driver_age_group           0\n",
      "Trips                      0\n",
      "customer_age_group         0\n",
      "driver_complaint_rate      0\n",
      "customer_complaint_rate    0\n",
      "is_night_delivery          0\n",
      "order_value_category       0\n",
      "dtype: int64\n"
     ]
    }
   ],
   "source": [
    "# Verificar se ainda existem valores nulos\n",
    "print(X.isnull().sum())\n"
   ]
  },
  {
   "cell_type": "markdown",
   "id": "b79425ad-efb8-4591-af13-fd4a63e43b0e",
   "metadata": {},
   "source": [
    "### Codificar Variáveis Categóricas\n",
    "* Transformar variáveis categóricas em numéricas usando OneHot Encoding ou Label Encoding"
   ]
  },
  {
   "cell_type": "code",
   "execution_count": 15,
   "id": "cd7daa2e-5ecf-4aa7-b3e5-cedb02e07fbd",
   "metadata": {},
   "outputs": [],
   "source": [
    "# Criar dummies para variáveis categóricas\n",
    "X = pd.get_dummies(X, columns=['region', 'delivery_period', 'day_of_week', \n",
    "                               'driver_age_group', 'customer_age_group', \n",
    "                               'order_value_category'], drop_first=True)\n"
   ]
  },
  {
   "cell_type": "markdown",
   "id": "a1ea3a3f-8143-4170-92c0-0f1709d4fc6d",
   "metadata": {},
   "source": [
    "As variáveis categóricas precisam ser transformadas em numéricas para serem interpretadas pelos modelos preditivos. Para isso, foi utilizada a técnica de **OneHot Encoding**, que cria colunas binárias para cada categoria, permitindo que os modelos lidem com variáveis categóricas sem perder informações.\n"
   ]
  },
  {
   "cell_type": "markdown",
   "id": "dcd1f8da-ee22-4c53-99b7-48e2a8bc6eb4",
   "metadata": {},
   "source": [
    "### Normalizar Variáveis Numéricas\n",
    "* Padronizar variáveis contínuas para garantir que todas estejam na mesma escala"
   ]
  },
  {
   "cell_type": "code",
   "execution_count": 16,
   "id": "7fc940c9-a7ab-4452-9bcc-3631cf117e7b",
   "metadata": {},
   "outputs": [],
   "source": [
    "# Selecionar variáveis numéricas\n",
    "numeric_features = ['order_amount', 'items_delivered', 'Trips']\n",
    "\n",
    "# Normalizar variáveis numéricas\n",
    "scaler = StandardScaler()\n",
    "X[numeric_features] = scaler.fit_transform(X[numeric_features])"
   ]
  },
  {
   "cell_type": "markdown",
   "id": "63fbc68c-1ed7-4f86-b210-7055717ea3f1",
   "metadata": {},
   "source": [
    "- Modelos como Logistic Regression e Gradient Boosting podem ser sensíveis à escala das variáveis.\n",
    "- A padronização melhora o desempenho do modelo ao garantir que nenhuma variável domine o aprendizado devido à sua magnitude."
   ]
  },
  {
   "cell_type": "markdown",
   "id": "a69e9c51-9420-4387-bd5c-3d9f3043cb86",
   "metadata": {},
   "source": [
    "## Dividir os Dados entre Treino e Teste\n",
    "* Usar `train_test_split()` para dividir os dados em 70% treino e 30% teste."
   ]
  },
  {
   "cell_type": "code",
   "execution_count": 17,
   "id": "0c44dfe8-d885-45cd-bdb2-2a57b1b1b220",
   "metadata": {},
   "outputs": [
    {
     "name": "stdout",
     "output_type": "stream",
     "text": [
      "Tamanho do conjunto de treino: (7000, 33)\n",
      "Tamanho do conjunto de teste: (3000, 33)\n"
     ]
    }
   ],
   "source": [
    "# Dividir os dados em treino e teste\n",
    "X_train, X_test, y_train, y_test = train_test_split(X, y, test_size=0.3, random_state=42)\n",
    "\n",
    "print(f\"Tamanho do conjunto de treino: {X_train.shape}\")\n",
    "print(f\"Tamanho do conjunto de teste: {X_test.shape}\")"
   ]
  },
  {
   "cell_type": "markdown",
   "id": "79808533-af33-4cf4-a163-ee8bb06b27c0",
   "metadata": {},
   "source": [
    "* Os dados foram divididos em 70% para treino e 30% para teste, uma proporção comumente utilizada em problemas de aprendizado de máquina. Essa divisão garante que o modelo tenha dados suficientes para aprender padrões enquanto reserva uma quantidade adequada para avaliação."
   ]
  },
  {
   "cell_type": "markdown",
   "id": "f4c017a3-7f89-4900-8c0b-407dd1790817",
   "metadata": {},
   "source": [
    "## Treinar Modelos preditivos\n",
    "* Testar diferentes modelos:\n",
    "    * Logistic Regression\n",
    "    * Gradient Boosting Classifier\n",
    "    * Support Vector Machine (SVM)\n",
    "    * AdaBoost Classifier"
   ]
  },
  {
   "cell_type": "markdown",
   "id": "b43ec944-5480-45c0-9830-0b9000c9c491",
   "metadata": {},
   "source": [
    "#### Logistic Regression"
   ]
  },
  {
   "cell_type": "code",
   "execution_count": 18,
   "id": "7b43df68-4a02-4f34-9790-3e7be3224e9e",
   "metadata": {},
   "outputs": [
    {
     "name": "stdout",
     "output_type": "stream",
     "text": [
      "Relatório de Classificação (Logistic Regression):\n",
      "              precision    recall  f1-score   support\n",
      "\n",
      "           0       0.98      0.79      0.87      2570\n",
      "           1       0.42      0.91      0.57       430\n",
      "\n",
      "    accuracy                           0.81      3000\n",
      "   macro avg       0.70      0.85      0.72      3000\n",
      "weighted avg       0.90      0.81      0.83      3000\n",
      "\n"
     ]
    }
   ],
   "source": [
    "# Treinar o modelo Logistic Regression\n",
    "log_reg = LogisticRegression(class_weight='balanced', max_iter=1000, random_state=42)\n",
    "log_reg.fit(X_train, y_train)\n",
    "\n",
    "# Fazer previsões no conjunto de teste\n",
    "y_pred_log_reg = log_reg.predict(X_test)\n",
    "\n",
    "# Avaliar o modelo\n",
    "print(\"Relatório de Classificação (Logistic Regression):\")\n",
    "print(classification_report(y_test, y_pred_log_reg))"
   ]
  },
  {
   "cell_type": "markdown",
   "id": "cfc2adef-e56a-4d27-9e22-a8d95c47c09c",
   "metadata": {},
   "source": [
    "#### Gradient Boosting Classifier"
   ]
  },
  {
   "cell_type": "code",
   "execution_count": 19,
   "id": "5f9420cf-c956-4df4-8d50-9a3fb9317ecb",
   "metadata": {},
   "outputs": [
    {
     "name": "stdout",
     "output_type": "stream",
     "text": [
      "Relatório de Classificação (Gradient Boosting):\n",
      "              precision    recall  f1-score   support\n",
      "\n",
      "           0       0.91      0.96      0.93      2570\n",
      "           1       0.64      0.40      0.50       430\n",
      "\n",
      "    accuracy                           0.88      3000\n",
      "   macro avg       0.77      0.68      0.71      3000\n",
      "weighted avg       0.87      0.88      0.87      3000\n",
      "\n"
     ]
    }
   ],
   "source": [
    "# Treinar o modelo Gradient Boosting\n",
    "gb_clf = GradientBoostingClassifier(random_state=42)\n",
    "gb_clf.fit(X_train, y_train)\n",
    "\n",
    "# Fazer previsões no conjunto de teste\n",
    "y_pred_gb = gb_clf.predict(X_test)\n",
    "\n",
    "# Avaliar o modelo\n",
    "print(\"Relatório de Classificação (Gradient Boosting):\")\n",
    "print(classification_report(y_test, y_pred_gb))"
   ]
  },
  {
   "cell_type": "markdown",
   "id": "2922485b-0ff1-44e0-8735-219a7fac06f7",
   "metadata": {},
   "source": [
    "#### SVM (Support Vector Machine)"
   ]
  },
  {
   "cell_type": "code",
   "execution_count": 20,
   "id": "34a47bed-0553-4602-ac15-333597ac83bb",
   "metadata": {},
   "outputs": [
    {
     "name": "stdout",
     "output_type": "stream",
     "text": [
      "Relatório de Classificação (SVM):\n",
      "              precision    recall  f1-score   support\n",
      "\n",
      "           0       0.90      0.97      0.94      2570\n",
      "           1       0.70      0.35      0.46       430\n",
      "\n",
      "    accuracy                           0.88      3000\n",
      "   macro avg       0.80      0.66      0.70      3000\n",
      "weighted avg       0.87      0.88      0.87      3000\n",
      "\n"
     ]
    }
   ],
   "source": [
    "# Treinar modelo SVM\n",
    "svm_clf = SVC(kernel='linear', probability=True, random_state=42)\n",
    "svm_clf.fit(X_train, y_train)\n",
    "\n",
    "# Avaliar o modelo\n",
    "y_pred_svm = svm_clf.predict(X_test)\n",
    "print(\"Relatório de Classificação (SVM):\")\n",
    "print(classification_report(y_test, y_pred_svm))\n"
   ]
  },
  {
   "cell_type": "markdown",
   "id": "569e23b1-dcbd-4a2f-b07d-1f091ce4b2c2",
   "metadata": {},
   "source": [
    "#### AdaBoost"
   ]
  },
  {
   "cell_type": "code",
   "execution_count": 21,
   "id": "6e644374-fcfd-4f4e-827e-57faa854d8b2",
   "metadata": {},
   "outputs": [
    {
     "name": "stderr",
     "output_type": "stream",
     "text": [
      "/Users/moro/anaconda3/lib/python3.11/site-packages/sklearn/ensemble/_weight_boosting.py:527: FutureWarning: The SAMME.R algorithm (the default) is deprecated and will be removed in 1.6. Use the SAMME algorithm to circumvent this warning.\n",
      "  warnings.warn(\n"
     ]
    },
    {
     "name": "stdout",
     "output_type": "stream",
     "text": [
      "Relatório de Classificação (AdaBoost):\n",
      "              precision    recall  f1-score   support\n",
      "\n",
      "           0       0.91      0.97      0.94      2570\n",
      "           1       0.67      0.41      0.51       430\n",
      "\n",
      "    accuracy                           0.89      3000\n",
      "   macro avg       0.79      0.69      0.72      3000\n",
      "weighted avg       0.87      0.89      0.87      3000\n",
      "\n"
     ]
    }
   ],
   "source": [
    "# Treinar modelo AdaBoost\n",
    "ada_clf = AdaBoostClassifier(n_estimators=200, learning_rate=0.05, random_state=42)\n",
    "ada_clf.fit(X_train, y_train)\n",
    "\n",
    "# Avaliar o modelo\n",
    "y_pred_ada = ada_clf.predict(X_test)\n",
    "print(\"Relatório de Classificação (AdaBoost):\")\n",
    "print(classification_report(y_test, y_pred_ada))"
   ]
  },
  {
   "cell_type": "markdown",
   "id": "cd165f6b-7433-4288-b91b-99d7c0d70f78",
   "metadata": {},
   "source": [
    "Cada modelo apresentou vantagens e desvantagens:\n",
    "* **Logistic Regression** apresentou o maior recall para a classe “fraude” (91%), indicando que ele detecta a maioria das fraudes reais. No entanto, sua precisão baixa para essa classe (42%) pode gerar muitos falsos positivos, impactando negativamente a experiência dos clientes legítimos.\n",
    "* **Gradient Boosting** apresentou um bom equilíbrio entre precisão (64%) e recall (40%) para a classe “fraude”. É um modelo robusto que detecta fraudes reais enquanto minimiza falsos positivos.\n",
    "* **SVM** apresentou alta precisão para a classe “fraude” (70%), indicando que ele reduz falsos positivos. No entanto, seu recall moderado (35%) limita sua capacidade de detectar fraudes reais.\n",
    "* **AdaBoost** apresentou alta precisão para a classe “fraude” (89%), mas seu recall muito baixo (6%) limita sua eficácia na detecção de fraudes reais. Apesar disso, é um modelo adaptável que pode ser ajustado para melhorar sua performance."
   ]
  },
  {
   "cell_type": "markdown",
   "id": "ac684544-d603-4025-bd6b-589a7e214826",
   "metadata": {},
   "source": [
    "### Avaliação dos Modelos com Curva ROC-AUC\n",
    "* Utilizar Curva ROC (Receiver Operating Characteristic) para avaliar a capacidade dos modelos de separar as classes \"fraude\" (1) e \"não fraude\" (0).\n",
    "* Utilizar AUC (Area Under the Curve) para medir a área sob a curva ROC, indicando o desempenho geral do modelo."
   ]
  },
  {
   "cell_type": "code",
   "execution_count": 22,
   "id": "82775228-2802-4d03-9cf5-27a126bb33fd",
   "metadata": {},
   "outputs": [
    {
     "data": {
      "image/png": "[encoded data removed]",
      "text/plain": [
       "<Figure size 1000x600 with 1 Axes>"
      ]
     },
     "metadata": {},
     "output_type": "display_data"
    }
   ],
   "source": [
    "# Função para plotar curva ROC\n",
    "def plot_roc_auc(model, X_test, y_test, model_name):\n",
    "    # Calcular probabilidades preditas para a classe \"fraude\"\n",
    "    try:\n",
    "        y_proba = model.predict_proba(X_test)[:, 1]  # Para modelos com predict_proba\n",
    "    except AttributeError:\n",
    "        y_proba = model.decision_function(X_test)  # Para modelos como SVM sem predict_proba\n",
    "    \n",
    "    # Calcular curva ROC\n",
    "    fpr, tpr, thresholds = roc_curve(y_test, y_proba)\n",
    "    auc_roc = roc_auc_score(y_test, y_proba)\n",
    "    \n",
    "    # Plotar curva ROC\n",
    "    plt.plot(fpr, tpr, label=f'{model_name} (AUC = {auc_roc:.2f})')\n",
    "    return auc_roc\n",
    "\n",
    "# Plotar curvas ROC para todos os modelos selecionados\n",
    "plt.figure(figsize=(10, 6))\n",
    "\n",
    "# Logistic Regression\n",
    "auc_log_reg = plot_roc_auc(log_reg, X_test, y_test, \"Logistic Regression\")\n",
    "\n",
    "# Gradient Boosting\n",
    "auc_gb = plot_roc_auc(gb_clf, X_test, y_test, \"Gradient Boosting\")\n",
    "\n",
    "# SVM (Support Vector Machine)\n",
    "auc_svm = plot_roc_auc(svm_clf, X_test, y_test, \"SVM\")\n",
    "\n",
    "# AdaBoost\n",
    "auc_ada = plot_roc_auc(ada_clf, X_test, y_test, \"AdaBoost\")\n",
    "\n",
    "# Configurar o gráfico final\n",
    "plt.plot([0, 1], [0, 1], 'k--', label='Random Guess')\n",
    "plt.xlabel('False Positive Rate')\n",
    "plt.ylabel('True Positive Rate')\n",
    "plt.title('Curvas ROC - Comparação de Modelos Selecionados')\n",
    "plt.legend()\n",
    "plt.show()"
   ]
  },
  {
   "cell_type": "markdown",
   "id": "1522c4a8-34b5-4bc1-9c7f-3b2a1d20790d",
   "metadata": {},
   "source": [
    "Os valores de AUC-ROC foram utilizados para comparar os modelos em termos de sua capacidade geral de separação entre as classes.\n",
    "\n",
    "\n",
    "* Todos os modelos apresentaram valores AUC-ROC altos (entre 0.91 e 0.93), indicando boa capacidade de separar as classes \"fraude\" e \"não fraude\".\n",
    "* Com base nos resultados da Curva ROC-AUC e nas métricas anteriores (precisão e recall), o `Gradient Boosting` e `AdaBoost` foram identificados como os modelos mais equilibrados para atender aos objetivos do negócio."
   ]
  },
  {
   "cell_type": "markdown",
   "id": "920c72fe-5b93-475e-a2b6-226503a86852",
   "metadata": {},
   "source": [
    "## Ajuste de Hiperparâmetros para Gradient Boosting e AdaBoost\n",
    "* Ajustados os hiperparâmetros dos modelos `Gradient Boosting` e `AdaBoost` para maximizar a precisão na detecção de fraudes.\n",
    "* Avaliar as metricas do modelos ajustados."
   ]
  },
  {
   "cell_type": "markdown",
   "id": "a20b813c-caf9-4b74-ac24-fdc7f1fd0407",
   "metadata": {},
   "source": [
    "#### Gradient Boosting"
   ]
  },
  {
   "cell_type": "code",
   "execution_count": 23,
   "id": "55f6c4fa-59c4-4d3d-89cd-179d8cddafdd",
   "metadata": {},
   "outputs": [
    {
     "name": "stdout",
     "output_type": "stream",
     "text": [
      "Fitting 3 folds for each of 54 candidates, totalling 162 fits\n",
      "Melhores hiperparâmetros Gradient Boosting: {'learning_rate': 0.01, 'max_depth': 3, 'n_estimators': 100, 'subsample': 0.8}\n"
     ]
    }
   ],
   "source": [
    "# Definir os hiperparâmetros para busca\n",
    "param_grid_gb = {\n",
    "    'n_estimators': [100, 200, 300],\n",
    "    'learning_rate': [0.01, 0.05, 0.1],\n",
    "    'max_depth': [3, 5, 7],\n",
    "    'subsample': [0.8, 1.0]\n",
    "}\n",
    "\n",
    "# Configurar GridSearchCV\n",
    "grid_search_gb = GridSearchCV(\n",
    "    GradientBoostingClassifier(random_state=42),\n",
    "    param_grid_gb,\n",
    "    scoring='precision',  # Priorizando precisão\n",
    "    cv=3,\n",
    "    verbose=2,\n",
    "    n_jobs=-1\n",
    ")\n",
    "\n",
    "# Treinar o modelo com busca de hiperparâmetros\n",
    "grid_search_gb.fit(X_train, y_train)\n",
    "\n",
    "# Melhor modelo encontrado\n",
    "best_gb_model = grid_search_gb.best_estimator_\n",
    "print(\"Melhores hiperparâmetros Gradient Boosting:\", grid_search_gb.best_params_)\n"
   ]
  },
  {
   "cell_type": "markdown",
   "id": "6205fa71-5faa-4ce0-b6f4-bfbc292d073a",
   "metadata": {},
   "source": [
    "* Essa configuração prioriza estabilidade e precisão, reduzindo o risco de overfitting."
   ]
  },
  {
   "cell_type": "markdown",
   "id": "d47ed48f-b3c6-4f61-8c71-a82983a262f4",
   "metadata": {},
   "source": [
    "#### AdaBoost"
   ]
  },
  {
   "cell_type": "code",
   "execution_count": 24,
   "id": "4c01b923-7f52-4601-b3c4-01d51edfb3a3",
   "metadata": {},
   "outputs": [
    {
     "name": "stdout",
     "output_type": "stream",
     "text": [
      "Fitting 3 folds for each of 27 candidates, totalling 81 fits\n"
     ]
    },
    {
     "name": "stderr",
     "output_type": "stream",
     "text": [
      "/Users/moro/anaconda3/lib/python3.11/site-packages/sklearn/ensemble/_weight_boosting.py:527: FutureWarning: The SAMME.R algorithm (the default) is deprecated and will be removed in 1.6. Use the SAMME algorithm to circumvent this warning.\n",
      "  warnings.warn(\n",
      "/Users/moro/anaconda3/lib/python3.11/site-packages/sklearn/ensemble/_weight_boosting.py:527: FutureWarning: The SAMME.R algorithm (the default) is deprecated and will be removed in 1.6. Use the SAMME algorithm to circumvent this warning.\n",
      "  warnings.warn(\n",
      "/Users/moro/anaconda3/lib/python3.11/site-packages/sklearn/ensemble/_weight_boosting.py:527: FutureWarning: The SAMME.R algorithm (the default) is deprecated and will be removed in 1.6. Use the SAMME algorithm to circumvent this warning.\n",
      "  warnings.warn(\n",
      "/Users/moro/anaconda3/lib/python3.11/site-packages/sklearn/ensemble/_weight_boosting.py:527: FutureWarning: The SAMME.R algorithm (the default) is deprecated and will be removed in 1.6. Use the SAMME algorithm to circumvent this warning.\n",
      "  warnings.warn(\n",
      "/Users/moro/anaconda3/lib/python3.11/site-packages/sklearn/ensemble/_weight_boosting.py:527: FutureWarning: The SAMME.R algorithm (the default) is deprecated and will be removed in 1.6. Use the SAMME algorithm to circumvent this warning.\n",
      "  warnings.warn(\n",
      "/Users/moro/anaconda3/lib/python3.11/site-packages/sklearn/ensemble/_weight_boosting.py:527: FutureWarning: The SAMME.R algorithm (the default) is deprecated and will be removed in 1.6. Use the SAMME algorithm to circumvent this warning.\n",
      "  warnings.warn(\n",
      "/Users/moro/anaconda3/lib/python3.11/site-packages/sklearn/metrics/_classification.py:1531: UndefinedMetricWarning: Precision is ill-defined and being set to 0.0 due to no predicted samples. Use `zero_division` parameter to control this behavior.\n",
      "  _warn_prf(average, modifier, f\"{metric.capitalize()} is\", len(result))\n",
      "/Users/moro/anaconda3/lib/python3.11/site-packages/sklearn/ensemble/_weight_boosting.py:527: FutureWarning: The SAMME.R algorithm (the default) is deprecated and will be removed in 1.6. Use the SAMME algorithm to circumvent this warning.\n",
      "  warnings.warn(\n",
      "/Users/moro/anaconda3/lib/python3.11/site-packages/sklearn/metrics/_classification.py:1531: UndefinedMetricWarning: Precision is ill-defined and being set to 0.0 due to no predicted samples. Use `zero_division` parameter to control this behavior.\n",
      "  _warn_prf(average, modifier, f\"{metric.capitalize()} is\", len(result))\n",
      "/Users/moro/anaconda3/lib/python3.11/site-packages/sklearn/metrics/_classification.py:1531: UndefinedMetricWarning: Precision is ill-defined and being set to 0.0 due to no predicted samples. Use `zero_division` parameter to control this behavior.\n",
      "  _warn_prf(average, modifier, f\"{metric.capitalize()} is\", len(result))\n",
      "/Users/moro/anaconda3/lib/python3.11/site-packages/sklearn/ensemble/_weight_boosting.py:527: FutureWarning: The SAMME.R algorithm (the default) is deprecated and will be removed in 1.6. Use the SAMME algorithm to circumvent this warning.\n",
      "  warnings.warn(\n",
      "/Users/moro/anaconda3/lib/python3.11/site-packages/sklearn/ensemble/_weight_boosting.py:527: FutureWarning: The SAMME.R algorithm (the default) is deprecated and will be removed in 1.6. Use the SAMME algorithm to circumvent this warning.\n",
      "  warnings.warn(\n",
      "/Users/moro/anaconda3/lib/python3.11/site-packages/sklearn/ensemble/_weight_boosting.py:527: FutureWarning: The SAMME.R algorithm (the default) is deprecated and will be removed in 1.6. Use the SAMME algorithm to circumvent this warning.\n",
      "  warnings.warn(\n",
      "/Users/moro/anaconda3/lib/python3.11/site-packages/sklearn/ensemble/_weight_boosting.py:527: FutureWarning: The SAMME.R algorithm (the default) is deprecated and will be removed in 1.6. Use the SAMME algorithm to circumvent this warning.\n",
      "  warnings.warn(\n",
      "/Users/moro/anaconda3/lib/python3.11/site-packages/sklearn/ensemble/_weight_boosting.py:527: FutureWarning: The SAMME.R algorithm (the default) is deprecated and will be removed in 1.6. Use the SAMME algorithm to circumvent this warning.\n",
      "  warnings.warn(\n",
      "/Users/moro/anaconda3/lib/python3.11/site-packages/sklearn/ensemble/_weight_boosting.py:527: FutureWarning: The SAMME.R algorithm (the default) is deprecated and will be removed in 1.6. Use the SAMME algorithm to circumvent this warning.\n",
      "  warnings.warn(\n",
      "/Users/moro/anaconda3/lib/python3.11/site-packages/sklearn/ensemble/_weight_boosting.py:527: FutureWarning: The SAMME.R algorithm (the default) is deprecated and will be removed in 1.6. Use the SAMME algorithm to circumvent this warning.\n",
      "  warnings.warn(\n",
      "/Users/moro/anaconda3/lib/python3.11/site-packages/sklearn/ensemble/_weight_boosting.py:527: FutureWarning: The SAMME.R algorithm (the default) is deprecated and will be removed in 1.6. Use the SAMME algorithm to circumvent this warning.\n",
      "  warnings.warn(\n",
      "/Users/moro/anaconda3/lib/python3.11/site-packages/sklearn/ensemble/_weight_boosting.py:527: FutureWarning: The SAMME.R algorithm (the default) is deprecated and will be removed in 1.6. Use the SAMME algorithm to circumvent this warning.\n",
      "  warnings.warn(\n",
      "/Users/moro/anaconda3/lib/python3.11/site-packages/sklearn/ensemble/_weight_boosting.py:527: FutureWarning: The SAMME.R algorithm (the default) is deprecated and will be removed in 1.6. Use the SAMME algorithm to circumvent this warning.\n",
      "  warnings.warn(\n",
      "/Users/moro/anaconda3/lib/python3.11/site-packages/sklearn/ensemble/_weight_boosting.py:527: FutureWarning: The SAMME.R algorithm (the default) is deprecated and will be removed in 1.6. Use the SAMME algorithm to circumvent this warning.\n",
      "  warnings.warn(\n",
      "/Users/moro/anaconda3/lib/python3.11/site-packages/sklearn/ensemble/_weight_boosting.py:527: FutureWarning: The SAMME.R algorithm (the default) is deprecated and will be removed in 1.6. Use the SAMME algorithm to circumvent this warning.\n",
      "  warnings.warn(\n",
      "/Users/moro/anaconda3/lib/python3.11/site-packages/sklearn/ensemble/_weight_boosting.py:527: FutureWarning: The SAMME.R algorithm (the default) is deprecated and will be removed in 1.6. Use the SAMME algorithm to circumvent this warning.\n",
      "  warnings.warn(\n",
      "/Users/moro/anaconda3/lib/python3.11/site-packages/sklearn/ensemble/_weight_boosting.py:527: FutureWarning: The SAMME.R algorithm (the default) is deprecated and will be removed in 1.6. Use the SAMME algorithm to circumvent this warning.\n",
      "  warnings.warn(\n",
      "/Users/moro/anaconda3/lib/python3.11/site-packages/sklearn/ensemble/_weight_boosting.py:527: FutureWarning: The SAMME.R algorithm (the default) is deprecated and will be removed in 1.6. Use the SAMME algorithm to circumvent this warning.\n",
      "  warnings.warn(\n",
      "/Users/moro/anaconda3/lib/python3.11/site-packages/sklearn/ensemble/_weight_boosting.py:527: FutureWarning: The SAMME.R algorithm (the default) is deprecated and will be removed in 1.6. Use the SAMME algorithm to circumvent this warning.\n",
      "  warnings.warn(\n",
      "/Users/moro/anaconda3/lib/python3.11/site-packages/sklearn/ensemble/_weight_boosting.py:527: FutureWarning: The SAMME.R algorithm (the default) is deprecated and will be removed in 1.6. Use the SAMME algorithm to circumvent this warning.\n",
      "  warnings.warn(\n",
      "/Users/moro/anaconda3/lib/python3.11/site-packages/sklearn/ensemble/_weight_boosting.py:527: FutureWarning: The SAMME.R algorithm (the default) is deprecated and will be removed in 1.6. Use the SAMME algorithm to circumvent this warning.\n",
      "  warnings.warn(\n",
      "/Users/moro/anaconda3/lib/python3.11/site-packages/sklearn/ensemble/_weight_boosting.py:527: FutureWarning: The SAMME.R algorithm (the default) is deprecated and will be removed in 1.6. Use the SAMME algorithm to circumvent this warning.\n",
      "  warnings.warn(\n",
      "/Users/moro/anaconda3/lib/python3.11/site-packages/sklearn/ensemble/_weight_boosting.py:527: FutureWarning: The SAMME.R algorithm (the default) is deprecated and will be removed in 1.6. Use the SAMME algorithm to circumvent this warning.\n",
      "  warnings.warn(\n",
      "/Users/moro/anaconda3/lib/python3.11/site-packages/sklearn/ensemble/_weight_boosting.py:527: FutureWarning: The SAMME.R algorithm (the default) is deprecated and will be removed in 1.6. Use the SAMME algorithm to circumvent this warning.\n",
      "  warnings.warn(\n",
      "/Users/moro/anaconda3/lib/python3.11/site-packages/sklearn/ensemble/_weight_boosting.py:527: FutureWarning: The SAMME.R algorithm (the default) is deprecated and will be removed in 1.6. Use the SAMME algorithm to circumvent this warning.\n",
      "  warnings.warn(\n",
      "/Users/moro/anaconda3/lib/python3.11/site-packages/sklearn/ensemble/_weight_boosting.py:527: FutureWarning: The SAMME.R algorithm (the default) is deprecated and will be removed in 1.6. Use the SAMME algorithm to circumvent this warning.\n",
      "  warnings.warn(\n",
      "/Users/moro/anaconda3/lib/python3.11/site-packages/sklearn/ensemble/_weight_boosting.py:527: FutureWarning: The SAMME.R algorithm (the default) is deprecated and will be removed in 1.6. Use the SAMME algorithm to circumvent this warning.\n",
      "  warnings.warn(\n",
      "/Users/moro/anaconda3/lib/python3.11/site-packages/sklearn/ensemble/_weight_boosting.py:527: FutureWarning: The SAMME.R algorithm (the default) is deprecated and will be removed in 1.6. Use the SAMME algorithm to circumvent this warning.\n",
      "  warnings.warn(\n",
      "/Users/moro/anaconda3/lib/python3.11/site-packages/sklearn/ensemble/_weight_boosting.py:527: FutureWarning: The SAMME.R algorithm (the default) is deprecated and will be removed in 1.6. Use the SAMME algorithm to circumvent this warning.\n",
      "  warnings.warn(\n",
      "/Users/moro/anaconda3/lib/python3.11/site-packages/sklearn/ensemble/_weight_boosting.py:527: FutureWarning: The SAMME.R algorithm (the default) is deprecated and will be removed in 1.6. Use the SAMME algorithm to circumvent this warning.\n",
      "  warnings.warn(\n",
      "/Users/moro/anaconda3/lib/python3.11/site-packages/sklearn/ensemble/_weight_boosting.py:527: FutureWarning: The SAMME.R algorithm (the default) is deprecated and will be removed in 1.6. Use the SAMME algorithm to circumvent this warning.\n",
      "  warnings.warn(\n",
      "/Users/moro/anaconda3/lib/python3.11/site-packages/sklearn/ensemble/_weight_boosting.py:527: FutureWarning: The SAMME.R algorithm (the default) is deprecated and will be removed in 1.6. Use the SAMME algorithm to circumvent this warning.\n",
      "  warnings.warn(\n",
      "/Users/moro/anaconda3/lib/python3.11/site-packages/sklearn/ensemble/_weight_boosting.py:527: FutureWarning: The SAMME.R algorithm (the default) is deprecated and will be removed in 1.6. Use the SAMME algorithm to circumvent this warning.\n",
      "  warnings.warn(\n",
      "/Users/moro/anaconda3/lib/python3.11/site-packages/sklearn/ensemble/_weight_boosting.py:527: FutureWarning: The SAMME.R algorithm (the default) is deprecated and will be removed in 1.6. Use the SAMME algorithm to circumvent this warning.\n",
      "  warnings.warn(\n",
      "/Users/moro/anaconda3/lib/python3.11/site-packages/sklearn/ensemble/_weight_boosting.py:527: FutureWarning: The SAMME.R algorithm (the default) is deprecated and will be removed in 1.6. Use the SAMME algorithm to circumvent this warning.\n",
      "  warnings.warn(\n",
      "/Users/moro/anaconda3/lib/python3.11/site-packages/sklearn/ensemble/_weight_boosting.py:527: FutureWarning: The SAMME.R algorithm (the default) is deprecated and will be removed in 1.6. Use the SAMME algorithm to circumvent this warning.\n",
      "  warnings.warn(\n",
      "/Users/moro/anaconda3/lib/python3.11/site-packages/sklearn/ensemble/_weight_boosting.py:527: FutureWarning: The SAMME.R algorithm (the default) is deprecated and will be removed in 1.6. Use the SAMME algorithm to circumvent this warning.\n",
      "  warnings.warn(\n",
      "/Users/moro/anaconda3/lib/python3.11/site-packages/sklearn/ensemble/_weight_boosting.py:527: FutureWarning: The SAMME.R algorithm (the default) is deprecated and will be removed in 1.6. Use the SAMME algorithm to circumvent this warning.\n",
      "  warnings.warn(\n",
      "/Users/moro/anaconda3/lib/python3.11/site-packages/sklearn/ensemble/_weight_boosting.py:527: FutureWarning: The SAMME.R algorithm (the default) is deprecated and will be removed in 1.6. Use the SAMME algorithm to circumvent this warning.\n",
      "  warnings.warn(\n",
      "/Users/moro/anaconda3/lib/python3.11/site-packages/sklearn/ensemble/_weight_boosting.py:527: FutureWarning: The SAMME.R algorithm (the default) is deprecated and will be removed in 1.6. Use the SAMME algorithm to circumvent this warning.\n",
      "  warnings.warn(\n",
      "/Users/moro/anaconda3/lib/python3.11/site-packages/sklearn/ensemble/_weight_boosting.py:527: FutureWarning: The SAMME.R algorithm (the default) is deprecated and will be removed in 1.6. Use the SAMME algorithm to circumvent this warning.\n",
      "  warnings.warn(\n",
      "/Users/moro/anaconda3/lib/python3.11/site-packages/sklearn/ensemble/_weight_boosting.py:527: FutureWarning: The SAMME.R algorithm (the default) is deprecated and will be removed in 1.6. Use the SAMME algorithm to circumvent this warning.\n",
      "  warnings.warn(\n",
      "/Users/moro/anaconda3/lib/python3.11/site-packages/sklearn/ensemble/_weight_boosting.py:527: FutureWarning: The SAMME.R algorithm (the default) is deprecated and will be removed in 1.6. Use the SAMME algorithm to circumvent this warning.\n",
      "  warnings.warn(\n",
      "/Users/moro/anaconda3/lib/python3.11/site-packages/sklearn/ensemble/_weight_boosting.py:527: FutureWarning: The SAMME.R algorithm (the default) is deprecated and will be removed in 1.6. Use the SAMME algorithm to circumvent this warning.\n",
      "  warnings.warn(\n",
      "/Users/moro/anaconda3/lib/python3.11/site-packages/sklearn/ensemble/_weight_boosting.py:527: FutureWarning: The SAMME.R algorithm (the default) is deprecated and will be removed in 1.6. Use the SAMME algorithm to circumvent this warning.\n",
      "  warnings.warn(\n",
      "/Users/moro/anaconda3/lib/python3.11/site-packages/sklearn/ensemble/_weight_boosting.py:527: FutureWarning: The SAMME.R algorithm (the default) is deprecated and will be removed in 1.6. Use the SAMME algorithm to circumvent this warning.\n",
      "  warnings.warn(\n",
      "/Users/moro/anaconda3/lib/python3.11/site-packages/sklearn/ensemble/_weight_boosting.py:527: FutureWarning: The SAMME.R algorithm (the default) is deprecated and will be removed in 1.6. Use the SAMME algorithm to circumvent this warning.\n",
      "  warnings.warn(\n",
      "/Users/moro/anaconda3/lib/python3.11/site-packages/sklearn/ensemble/_weight_boosting.py:527: FutureWarning: The SAMME.R algorithm (the default) is deprecated and will be removed in 1.6. Use the SAMME algorithm to circumvent this warning.\n",
      "  warnings.warn(\n",
      "/Users/moro/anaconda3/lib/python3.11/site-packages/sklearn/ensemble/_weight_boosting.py:527: FutureWarning: The SAMME.R algorithm (the default) is deprecated and will be removed in 1.6. Use the SAMME algorithm to circumvent this warning.\n",
      "  warnings.warn(\n",
      "/Users/moro/anaconda3/lib/python3.11/site-packages/sklearn/ensemble/_weight_boosting.py:527: FutureWarning: The SAMME.R algorithm (the default) is deprecated and will be removed in 1.6. Use the SAMME algorithm to circumvent this warning.\n",
      "  warnings.warn(\n",
      "/Users/moro/anaconda3/lib/python3.11/site-packages/sklearn/ensemble/_weight_boosting.py:527: FutureWarning: The SAMME.R algorithm (the default) is deprecated and will be removed in 1.6. Use the SAMME algorithm to circumvent this warning.\n",
      "  warnings.warn(\n",
      "/Users/moro/anaconda3/lib/python3.11/site-packages/sklearn/ensemble/_weight_boosting.py:527: FutureWarning: The SAMME.R algorithm (the default) is deprecated and will be removed in 1.6. Use the SAMME algorithm to circumvent this warning.\n",
      "  warnings.warn(\n",
      "/Users/moro/anaconda3/lib/python3.11/site-packages/sklearn/ensemble/_weight_boosting.py:527: FutureWarning: The SAMME.R algorithm (the default) is deprecated and will be removed in 1.6. Use the SAMME algorithm to circumvent this warning.\n",
      "  warnings.warn(\n",
      "/Users/moro/anaconda3/lib/python3.11/site-packages/sklearn/ensemble/_weight_boosting.py:527: FutureWarning: The SAMME.R algorithm (the default) is deprecated and will be removed in 1.6. Use the SAMME algorithm to circumvent this warning.\n",
      "  warnings.warn(\n",
      "/Users/moro/anaconda3/lib/python3.11/site-packages/sklearn/ensemble/_weight_boosting.py:527: FutureWarning: The SAMME.R algorithm (the default) is deprecated and will be removed in 1.6. Use the SAMME algorithm to circumvent this warning.\n",
      "  warnings.warn(\n",
      "/Users/moro/anaconda3/lib/python3.11/site-packages/sklearn/ensemble/_weight_boosting.py:527: FutureWarning: The SAMME.R algorithm (the default) is deprecated and will be removed in 1.6. Use the SAMME algorithm to circumvent this warning.\n",
      "  warnings.warn(\n",
      "/Users/moro/anaconda3/lib/python3.11/site-packages/sklearn/ensemble/_weight_boosting.py:527: FutureWarning: The SAMME.R algorithm (the default) is deprecated and will be removed in 1.6. Use the SAMME algorithm to circumvent this warning.\n",
      "  warnings.warn(\n",
      "/Users/moro/anaconda3/lib/python3.11/site-packages/sklearn/ensemble/_weight_boosting.py:527: FutureWarning: The SAMME.R algorithm (the default) is deprecated and will be removed in 1.6. Use the SAMME algorithm to circumvent this warning.\n",
      "  warnings.warn(\n",
      "/Users/moro/anaconda3/lib/python3.11/site-packages/sklearn/ensemble/_weight_boosting.py:527: FutureWarning: The SAMME.R algorithm (the default) is deprecated and will be removed in 1.6. Use the SAMME algorithm to circumvent this warning.\n",
      "  warnings.warn(\n",
      "/Users/moro/anaconda3/lib/python3.11/site-packages/sklearn/ensemble/_weight_boosting.py:527: FutureWarning: The SAMME.R algorithm (the default) is deprecated and will be removed in 1.6. Use the SAMME algorithm to circumvent this warning.\n",
      "  warnings.warn(\n",
      "/Users/moro/anaconda3/lib/python3.11/site-packages/sklearn/ensemble/_weight_boosting.py:527: FutureWarning: The SAMME.R algorithm (the default) is deprecated and will be removed in 1.6. Use the SAMME algorithm to circumvent this warning.\n",
      "  warnings.warn(\n",
      "/Users/moro/anaconda3/lib/python3.11/site-packages/sklearn/ensemble/_weight_boosting.py:527: FutureWarning: The SAMME.R algorithm (the default) is deprecated and will be removed in 1.6. Use the SAMME algorithm to circumvent this warning.\n",
      "  warnings.warn(\n",
      "/Users/moro/anaconda3/lib/python3.11/site-packages/sklearn/ensemble/_weight_boosting.py:527: FutureWarning: The SAMME.R algorithm (the default) is deprecated and will be removed in 1.6. Use the SAMME algorithm to circumvent this warning.\n",
      "  warnings.warn(\n",
      "/Users/moro/anaconda3/lib/python3.11/site-packages/sklearn/ensemble/_weight_boosting.py:527: FutureWarning: The SAMME.R algorithm (the default) is deprecated and will be removed in 1.6. Use the SAMME algorithm to circumvent this warning.\n",
      "  warnings.warn(\n",
      "/Users/moro/anaconda3/lib/python3.11/site-packages/sklearn/ensemble/_weight_boosting.py:527: FutureWarning: The SAMME.R algorithm (the default) is deprecated and will be removed in 1.6. Use the SAMME algorithm to circumvent this warning.\n",
      "  warnings.warn(\n",
      "/Users/moro/anaconda3/lib/python3.11/site-packages/sklearn/ensemble/_weight_boosting.py:527: FutureWarning: The SAMME.R algorithm (the default) is deprecated and will be removed in 1.6. Use the SAMME algorithm to circumvent this warning.\n",
      "  warnings.warn(\n",
      "/Users/moro/anaconda3/lib/python3.11/site-packages/sklearn/ensemble/_weight_boosting.py:527: FutureWarning: The SAMME.R algorithm (the default) is deprecated and will be removed in 1.6. Use the SAMME algorithm to circumvent this warning.\n",
      "  warnings.warn(\n",
      "/Users/moro/anaconda3/lib/python3.11/site-packages/sklearn/ensemble/_weight_boosting.py:527: FutureWarning: The SAMME.R algorithm (the default) is deprecated and will be removed in 1.6. Use the SAMME algorithm to circumvent this warning.\n",
      "  warnings.warn(\n",
      "/Users/moro/anaconda3/lib/python3.11/site-packages/sklearn/ensemble/_weight_boosting.py:527: FutureWarning: The SAMME.R algorithm (the default) is deprecated and will be removed in 1.6. Use the SAMME algorithm to circumvent this warning.\n",
      "  warnings.warn(\n",
      "/Users/moro/anaconda3/lib/python3.11/site-packages/sklearn/ensemble/_weight_boosting.py:527: FutureWarning: The SAMME.R algorithm (the default) is deprecated and will be removed in 1.6. Use the SAMME algorithm to circumvent this warning.\n",
      "  warnings.warn(\n",
      "/Users/moro/anaconda3/lib/python3.11/site-packages/sklearn/ensemble/_weight_boosting.py:527: FutureWarning: The SAMME.R algorithm (the default) is deprecated and will be removed in 1.6. Use the SAMME algorithm to circumvent this warning.\n",
      "  warnings.warn(\n",
      "/Users/moro/anaconda3/lib/python3.11/site-packages/sklearn/ensemble/_weight_boosting.py:527: FutureWarning: The SAMME.R algorithm (the default) is deprecated and will be removed in 1.6. Use the SAMME algorithm to circumvent this warning.\n",
      "  warnings.warn(\n",
      "/Users/moro/anaconda3/lib/python3.11/site-packages/sklearn/ensemble/_weight_boosting.py:527: FutureWarning: The SAMME.R algorithm (the default) is deprecated and will be removed in 1.6. Use the SAMME algorithm to circumvent this warning.\n",
      "  warnings.warn(\n",
      "/Users/moro/anaconda3/lib/python3.11/site-packages/sklearn/ensemble/_weight_boosting.py:527: FutureWarning: The SAMME.R algorithm (the default) is deprecated and will be removed in 1.6. Use the SAMME algorithm to circumvent this warning.\n",
      "  warnings.warn(\n",
      "/Users/moro/anaconda3/lib/python3.11/site-packages/sklearn/ensemble/_weight_boosting.py:527: FutureWarning: The SAMME.R algorithm (the default) is deprecated and will be removed in 1.6. Use the SAMME algorithm to circumvent this warning.\n",
      "  warnings.warn(\n",
      "/Users/moro/anaconda3/lib/python3.11/site-packages/sklearn/ensemble/_weight_boosting.py:527: FutureWarning: The SAMME.R algorithm (the default) is deprecated and will be removed in 1.6. Use the SAMME algorithm to circumvent this warning.\n",
      "  warnings.warn(\n",
      "/Users/moro/anaconda3/lib/python3.11/site-packages/sklearn/ensemble/_weight_boosting.py:527: FutureWarning: The SAMME.R algorithm (the default) is deprecated and will be removed in 1.6. Use the SAMME algorithm to circumvent this warning.\n",
      "  warnings.warn(\n",
      "/Users/moro/anaconda3/lib/python3.11/site-packages/sklearn/ensemble/_weight_boosting.py:527: FutureWarning: The SAMME.R algorithm (the default) is deprecated and will be removed in 1.6. Use the SAMME algorithm to circumvent this warning.\n",
      "  warnings.warn(\n"
     ]
    },
    {
     "name": "stdout",
     "output_type": "stream",
     "text": [
      "Melhores hiperparâmetros AdaBoost: {'estimator__max_depth': 1, 'learning_rate': 0.01, 'n_estimators': 100}\n"
     ]
    }
   ],
   "source": [
    "# Definir os hiperparâmetros para busca\n",
    "param_grid_ada = {\n",
    "    'n_estimators': [50, 100, 200],\n",
    "    'learning_rate': [0.01, 0.05, 0.1],\n",
    "    'estimator__max_depth': [1, 3, 5]  # Profundidade da árvore base\n",
    "}\n",
    "\n",
    "# Configurar GridSearchCV\n",
    "grid_search_ada = GridSearchCV(\n",
    "    AdaBoostClassifier(estimator=DecisionTreeClassifier(random_state=42), random_state=42),\n",
    "    param_grid_ada,\n",
    "    scoring='precision',  # Priorizando precisão\n",
    "    cv=3,\n",
    "    verbose=2,\n",
    "    n_jobs=-1\n",
    ")\n",
    "\n",
    "# Treinar o modelo com busca de hiperparâmetros\n",
    "grid_search_ada.fit(X_train, y_train)\n",
    "\n",
    "# Melhor modelo encontrado\n",
    "best_ada_model = grid_search_ada.best_estimator_\n",
    "print(\"Melhores hiperparâmetros AdaBoost:\", grid_search_ada.best_params_)\n"
   ]
  },
  {
   "cell_type": "markdown",
   "id": "41f7a05b-5b1b-4066-bc04-4965c0244239",
   "metadata": {},
   "source": [
    "* Essa configuração é ideal para problemas com desbalanceamento entre as classes."
   ]
  },
  {
   "cell_type": "markdown",
   "id": "ba1ef413-a597-4053-85fb-dda044a8794b",
   "metadata": {},
   "source": [
    "### Resultados dos Modelos Ajustados"
   ]
  },
  {
   "cell_type": "code",
   "execution_count": 25,
   "id": "f7cf5c0b-4ea9-4844-b280-942ae6d0ce23",
   "metadata": {},
   "outputs": [
    {
     "name": "stdout",
     "output_type": "stream",
     "text": [
      "Relatório de Classificação Gradient Boosting Ajustado:\n",
      "              precision    recall  f1-score   support\n",
      "\n",
      "           0       0.86      1.00      0.93      2570\n",
      "           1       0.88      0.05      0.10       430\n",
      "\n",
      "    accuracy                           0.86      3000\n",
      "   macro avg       0.87      0.52      0.51      3000\n",
      "weighted avg       0.87      0.86      0.81      3000\n",
      "\n",
      "Relatório de Classificação AdaBoost Ajustado:\n",
      "              precision    recall  f1-score   support\n",
      "\n",
      "           0       0.86      1.00      0.93      2570\n",
      "           1       0.89      0.06      0.11       430\n",
      "\n",
      "    accuracy                           0.86      3000\n",
      "   macro avg       0.88      0.53      0.52      3000\n",
      "weighted avg       0.87      0.86      0.81      3000\n",
      "\n"
     ]
    }
   ],
   "source": [
    "# Avaliar Gradient Boosting Ajustado\n",
    "y_pred_gb = best_gb_model.predict(X_test)\n",
    "print(\"Relatório de Classificação Gradient Boosting Ajustado:\")\n",
    "print(classification_report(y_test, y_pred_gb))\n",
    "\n",
    "# Avaliar AdaBoost Ajustado\n",
    "y_pred_ada = best_ada_model.predict(X_test)\n",
    "print(\"Relatório de Classificação AdaBoost Ajustado:\")\n",
    "print(classification_report(y_test, y_pred_ada))\n"
   ]
  },
  {
   "cell_type": "markdown",
   "id": "9feb3168-ef5c-43ab-b706-238e6acc2d84",
   "metadata": {},
   "source": [
    "* **Gradient Boosting** apresentou alta precisão para a classe “fraude” (88%), indicando que ele minimiza falsos positivos. No entanto, seu recall muito baixo (5%) limita sua capacidade de detectar fraudes reais.\n",
    "* **AdaBoost** apresentou resultados semelhantes ao Gradient Boosting, com uma precisão ligeiramente superior na classe “fraude” (89%). No entanto, seu recall também é muito baixo (6%), limitando sua eficácia na detecção de fraudes reais."
   ]
  },
  {
   "cell_type": "markdown",
   "id": "c310e00e-ac11-4ccc-9871-17eab9c856df",
   "metadata": {},
   "source": [
    "## Ajuste do Threshold com Curva Precisão x Recall\n",
    "* Utilizar a curva Precisão x Recall para ajustar o threshold dos modelos `Gradient Boosting` e `AdaBoost`, buscando um equilíbrio entre precisão e recall."
   ]
  },
  {
   "cell_type": "code",
   "execution_count": 26,
   "id": "249b6180-658a-4ba4-b704-91f0b1271c57",
   "metadata": {},
   "outputs": [
    {
     "data": {
      "image/png": "[encoded data removed]",
      "text/plain": [
       "<Figure size 800x600 with 1 Axes>"
      ]
     },
     "metadata": {},
     "output_type": "display_data"
    },
    {
     "data": {
      "image/png": "[encoded data removed]",
      "text/plain": [
       "<Figure size 800x600 with 1 Axes>"
      ]
     },
     "metadata": {},
     "output_type": "display_data"
    }
   ],
   "source": [
    "# Função para plotar curva Precisão x Recall\n",
    "def plot_precision_recall_curve(model, X_test, y_test, model_name):\n",
    "    y_proba = model.predict_proba(X_test)[:, 1]\n",
    "    precision, recall, thresholds = precision_recall_curve(y_test, y_proba)\n",
    "    \n",
    "    plt.figure(figsize=(8, 6))\n",
    "    plt.plot(thresholds, precision[:-1], label=\"Precisão\")\n",
    "    plt.plot(thresholds, recall[:-1], label=\"Recall\")\n",
    "    plt.xlabel(\"Threshold\")\n",
    "    plt.ylabel(\"Precisão / Recall\")\n",
    "    plt.title(f\"Curva Precisão x Recall ({model_name})\")\n",
    "    plt.legend()\n",
    "    plt.show()\n",
    "\n",
    "# Plotar para Gradient Boosting\n",
    "plot_precision_recall_curve(best_gb_model, X_test, y_test, \"Gradient Boosting\")\n",
    "\n",
    "# Plotar para AdaBoost\n",
    "plot_precision_recall_curve(best_ada_model, X_test, y_test, \"AdaBoost\")\n"
   ]
  },
  {
   "cell_type": "markdown",
   "id": "a996ebaf-b717-4f06-af25-9d7c96093d57",
   "metadata": {},
   "source": [
    "A curva Precisão x Recall foi gerada para avaliar como as métricas variam em diferentes thresholds. O gráfico mostra a relação entre precisão e recall ao longo dos thresholds:\n",
    "* **Gradient Boosting:** O modelo apresentou alta precisão em thresholds mais altos, mas com redução significativa no recall.\n",
    "* **AdaBoost:** O comportamento foi semelhante ao Gradient Boosting, mas com recall ainda mais limitado."
   ]
  },
  {
   "cell_type": "code",
   "execution_count": 27,
   "id": "f9611e5f-1d35-4c2f-9e2a-a5dae1497793",
   "metadata": {},
   "outputs": [
    {
     "name": "stdout",
     "output_type": "stream",
     "text": [
      "Relatório de Classificação Gradient Boosting com Threshold Ajustado:\n",
      "              precision    recall  f1-score   support\n",
      "\n",
      "           0       0.87      1.00      0.93      2570\n",
      "           1       0.84      0.10      0.18       430\n",
      "\n",
      "    accuracy                           0.87      3000\n",
      "   macro avg       0.86      0.55      0.55      3000\n",
      "weighted avg       0.87      0.87      0.82      3000\n",
      "\n"
     ]
    }
   ],
   "source": [
    "# Ajustar previsões com novo threshold (exemplo com Gradient Boosting)\n",
    "best_threshold = 0.45  # Substitua pelo melhor threshold encontrado na curva\n",
    "\n",
    "y_proba_gb = best_gb_model.predict_proba(X_test)[:, 1]\n",
    "y_pred_thresholded = (y_proba_gb >= best_threshold).astype(int)\n",
    "\n",
    "# Avaliar o modelo ajustado com novo threshold\n",
    "print(\"Relatório de Classificação Gradient Boosting com Threshold Ajustado:\")\n",
    "print(classification_report(y_test, y_pred_thresholded))\n"
   ]
  },
  {
   "cell_type": "markdown",
   "id": "dc366aa4-35fb-4aee-9bbe-d5405b1bf683",
   "metadata": {},
   "source": [
    "* Com base na análise da curva Precisão x Recall, o threshold foi ajustado para `0.45`, priorizando alta precisão.\n",
    "\n",
    "O ajuste do threshold para `0.45` no modelo `Gradient Boosting` resultou em um desempenho alinhado às necessidades do negócio:\n",
    "* Alta precisão reduz falsos positivos.\n",
    "* Recall moderado permite detectar fraudes reais suficientes para gerar economia significativa.\n",
    "\n",
    "\n",
    "Este modelo é adequado para implementação em produção, desde que seja complementado por:\n",
    "* Revisões manuais em casos críticos.\n",
    "* Regras específicas para revisar pedidos classificados como “não fraude” com características suspeitas (ex.: valor alto ou entregas noturnas)."
   ]
  },
  {
   "cell_type": "markdown",
   "id": "fb6850f9-a7eb-4c4b-8622-88d179e9e24f",
   "metadata": {},
   "source": [
    "### Escolha do Modelo Final: Gradient Boosting\n",
    "\n",
    "Após comparar diferentes modelos (Logistic Regression, Gradient Boosting, SVM e AdaBoost), optamos por usar o Gradient Boosting como modelo final para prever entregas problemáticas. A decisão foi baseada nos seguintes fatores:\n",
    "\n",
    "\n",
    "1.\t**Alta Precisão (84%) na Classe “Fraude”:**\n",
    "    * O modelo classifica pedidos fraudulentos com alta precisão, reduzindo falsos positivos e minimizando insatisfação de clientes legítimos.\n",
    "    * Isso é essencial para evitar impactos negativos na experiência do cliente.\n",
    "2.\t**Recall Moderado (10%) na Classe “Fraude”:**\n",
    "    * O modelo detecta cerca de 10% das fraudes reais, representando uma redução significativa nos prejuízos associados a pedidos fraudulentos.\n",
    "    * Embora o recall seja baixo, ele é suficiente para gerar economia financeira relevante.\n",
    "3.\t**Impacto no Negócio:**\n",
    "    * A combinação de alta precisão e recall moderado oferece um equilíbrio robusto entre economia e satisfação dos clientes legítimos.\n",
    "    * A redução estimada de 10% nas fraudes representa um impacto positivo direto no lucro operacional."
   ]
  },
  {
   "cell_type": "markdown",
   "id": "9af375fa-23dc-4b0e-8bc2-44fdb68dc225",
   "metadata": {},
   "source": [
    "# Implementação do Modelo Preditivo\n",
    "\n",
    "## Introdução\n",
    "\n",
    "Após o desenvolvimento e avaliação do modelo Logistic Regression, foi realizada sua implementação prática para demonstrar como ele pode ser utilizado para prever entregas problemáticas em tempo real. Essa etapa é crucial para mostrar a aplicabilidade do modelo no mundo real, permitindo que novos dados sejam processados e classificados como \"fraude\" ou \"não fraude\".\n",
    "\n",
    "A implementação inclui:\n",
    "1. Exportação do modelo treinado para uso futuro.\n",
    "2. Criação de uma função para pré-processar novos dados e realizar previsões.\n",
    "3. Teste com dados simulados para validar o funcionamento da implementação.\n",
    "\n",
    "O objetivo principal dessa etapa é garantir que o modelo possa ser utilizado de forma prática e eficiente em sistemas logísticos."
   ]
  },
  {
   "cell_type": "markdown",
   "id": "cdf4b48b-5bd6-4f78-836e-d96635fe7aa0",
   "metadata": {},
   "source": [
    "### Exportar o Modelo Treinado\n",
    "* Salvar o modelo Logistic Regression para uso Futuro"
   ]
  },
  {
   "cell_type": "code",
   "execution_count": 28,
   "id": "f65125d4-f6e7-4f26-9593-8e90d93f0cb8",
   "metadata": {},
   "outputs": [
    {
     "name": "stdout",
     "output_type": "stream",
     "text": [
      "Modelo e threshold salvos com sucesso!\n"
     ]
    }
   ],
   "source": [
    "# Salvar o modelo treinado\n",
    "joblib.dump(best_gb_model, 'gradient_boosting_model.pkl')\n",
    "\n",
    "# Salvar o threshold ajustado\n",
    "with open('threshold.txt', 'w') as f:\n",
    "    f.write(str(0.45))\n",
    "\n",
    "print(\"Modelo e threshold salvos com sucesso!\")\n"
   ]
  },
  {
   "cell_type": "markdown",
   "id": "f1ed63fb-f4f1-4b31-ab64-4211a3dc71e3",
   "metadata": {},
   "source": [
    "## Criar uma Função para Previsão\n",
    "* Desenvolver uma função que recebe novos dados, aplica pre-processamento e retorna as previsões."
   ]
  },
  {
   "cell_type": "code",
   "execution_count": 29,
   "id": "3df4b172-96e4-4910-b5cf-cc22b433579f",
   "metadata": {},
   "outputs": [],
   "source": [
    "def predict_delivery_problems(new_data):\n",
    "    # Pré-processar os dados\n",
    "    new_data = pd.get_dummies(new_data, columns=['region', 'delivery_period', 'day_of_week', \n",
    "                                                 'driver_age_group', 'customer_age_group', \n",
    "                                                 'order_value_category'], drop_first=True)\n",
    "    \n",
    "    # Garantir que o DataFrame tenha todas as colunas esperadas pelo modelo\n",
    "    missing_cols = set(X_train.columns) - set(new_data.columns)\n",
    "    for col in missing_cols:\n",
    "        new_data[col] = 0  # Preencher categorias ausentes com 0\n",
    "    \n",
    "    # Garantir que as colunas estejam na mesma ordem\n",
    "    new_data = new_data[X_train.columns]\n",
    "    \n",
    "    # Normalizar variáveis numéricas\n",
    "    new_data[numeric_features] = scaler.transform(new_data[numeric_features])\n",
    "    \n",
    "    # Fazer previsões (probabilidades)\n",
    "    probabilities = best_gb_model.predict_proba(new_data)[:, 1]\n",
    "    \n",
    "    # Aplicar o threshold ajustado\n",
    "    predictions = (probabilities >= 0.45).astype(int)\n",
    "    \n",
    "    # Interpretar a previsão\n",
    "    if predictions[0] == 0:\n",
    "        return \"Não Fraude\"\n",
    "    elif predictions[0] == 1:\n",
    "        return \"Fraude\"\n"
   ]
  },
  {
   "cell_type": "markdown",
   "id": "309e6686-1d37-4d74-a953-b4a15cfb736b",
   "metadata": {},
   "source": [
    "## Testar com Novos Dados\n",
    "* Simular dados novos para testar a função"
   ]
  },
  {
   "cell_type": "code",
   "execution_count": 30,
   "id": "0d3ea34c-2e96-48c6-82b4-e4d8bbddf72f",
   "metadata": {},
   "outputs": [
    {
     "name": "stdout",
     "output_type": "stream",
     "text": [
      "Resultado da Previsão: Não Fraude\n"
     ]
    }
   ],
   "source": [
    "# Exemplo de novos dados simulados\n",
    "new_data = pd.DataFrame({\n",
    "    'order_amount': [150],\n",
    "    'region': ['North'],\n",
    "    'items_delivered': [5],\n",
    "    'delivery_period': ['Afternoon'],\n",
    "    'day_of_week': ['Monday'],\n",
    "    'driver_age_group': ['30-40'],\n",
    "    'customer_age_group': ['20-30'],\n",
    "    'driver_complaint_rate': [0.1],\n",
    "    'customer_complaint_rate': [0.05],\n",
    "    'is_night_delivery': [0],\n",
    "    'order_value_category': ['medium']\n",
    "})\n",
    "\n",
    "# Fazer previsão\n",
    "prediction_result = predict_delivery_problems(new_data)\n",
    "print(f\"Resultado da Previsão: {prediction_result}\")\n"
   ]
  },
  {
   "cell_type": "markdown",
   "id": "13cd44f9-4217-4933-b4a7-8222dd41137d",
   "metadata": {},
   "source": [
    "\n",
    "A implementação do modelo `Gradient Boosting` demonstrou sua aplicabilidade prática, permitindo que novos dados sejam processados e classificados como `“fraude”` ou `“não fraude”`. Os principais pontos desta etapa incluem:\n",
    "\n",
    "1.\t**Exportação do Modelo:** O modelo foi salvo para uso futuro, garantindo reprodutibilidade e eficiência.\n",
    "2.\t**Função de Previsão:** A função criada realiza pré-processamento automático dos dados e retorna previsões interpretadas.\n",
    "3.\t**Validação com Dados Simulados:** A função foi testada com novos dados, retornando resultados consistentes e interpretáveis.\n",
    "\n",
    "\n",
    "Essa implementação pode ser integrada a sistemas logísticos para prever entregas problemáticas em tempo real, auxiliando na tomada de decisões operacionais e na redução de custos associados a fraudes ou problemas nas entregas."
   ]
  },
  {
   "cell_type": "markdown",
   "id": "ae1bc88f-997f-4158-9d7a-dac743ce7d22",
   "metadata": {},
   "source": [
    "### Salvar arquivo df_final"
   ]
  },
  {
   "cell_type": "code",
   "execution_count": 31,
   "id": "2f8dc81e-4d4e-4401-ab9e-6e5819eccaa5",
   "metadata": {},
   "outputs": [
    {
     "name": "stdout",
     "output_type": "stream",
     "text": [
      "Dataset salvo como 'df_final_walmart.csv' com sucesso!\n"
     ]
    }
   ],
   "source": [
    "# Salvar o dataset df_final como CSV\n",
    "df_final.to_csv('df_final_walmart.csv', index=False)\n",
    "\n",
    "print(\"Dataset salvo como 'df_final_walmart.csv' com sucesso!\")"
   ]
  },
  {
   "cell_type": "markdown",
   "id": "ac62909e-709d-4124-b629-02c5f6b241e7",
   "metadata": {},
   "source": [
    "## **Conclusão Geral: Escolha do Modelo para Detecção de Fraudes**\n",
    "\n",
    "#### **Contexto**\n",
    "Neste notebook, foi desenvolvido e implementado um modelo preditivo para detectar fraudes em entregas realizadas pelo Walmart. A escolha do modelo foi baseada em análises detalhadas de métricas como precisão, recall, F1-score e ROC-AUC, além de ajustes de hiperparâmetros e threshold para garantir que o desempenho do modelo esteja alinhado aos objetivos do negócio.\n",
    "\n",
    "#### **Modelos Avaliados**\n",
    "Diversos algoritmos foram testados, incluindo Logistic Regression, Gradient Boosting, SVM e AdaBoost. Cada modelo foi avaliado com base em métricas como precisão, recall, F1-score e ROC-AUC. Após ajustes nos hiperparâmetros e análise das curvas Precisão x Recall, o modelo `Gradient` Boosting foi escolhido como o modelo final.\n",
    "\n",
    "#### **Por Que Escolher Gradient Boosting?**\n",
    "1. **Equilíbrio Entre Precisão e Recall:**\n",
    "   - O Gradient Boosting apresentou alta precisão (84%) na classe \"fraude\", garantindo que a maioria dos pedidos classificados como fraudulentos sejam realmente fraudulentos.\n",
    "   - Embora o recall seja moderado (10%), ele ainda permite detectar fraudes reais suficientes para gerar economia significativa.\n",
    "\n",
    "2. **Threshold Ajustado:**\n",
    "   - Com o threshold ajustado para 0.45, o modelo foi capaz de priorizar alta precisão enquanto mantém um recall suficiente para reduzir cerca de 10% dos prejuízos associados a fraudes.\n",
    "\n",
    "3. **Impacto no Negócio:**\n",
    "   - Alta precisão minimiza falsos positivos, reduzindo insatisfação de clientes legítimos.\n",
    "   - A redução estimada de 10% nas fraudes representa um impacto positivo direto nos resultados financeiros da empresa.\n",
    "\n",
    "4. **Desempenho Geral:**\n",
    "   - O Gradient Boosting alcançou um ROC-AUC de 0.93, indicando excelente capacidade geral de separação entre as classes \"fraude\" e \"não fraude\".\n",
    "\n",
    "#### **Comparação com Outros Modelos**\n",
    "- O Logistic Regression apresentou alto recall (91%), mas sua baixa precisão (42%) geraria muitos falsos positivos, impactando negativamente a experiência dos clientes.\n",
    "- O AdaBoost teve alta precisão (89%), mas seu recall extremamente baixo (6%) limita sua eficácia na detecção de fraudes reais.\n",
    "- O SVM apresentou boa precisão (70%) e recall moderado (35%), mas não superou o Gradient Boosting em termos de equilíbrio geral.\n",
    "\n",
    "---\n",
    "\n",
    "#### **Implementação Prática:**\n",
    "* O modelo Gradient Boosting foi exportado para uso futuro.\n",
    "* Uma função foi criada para pré-processar novos dados e realizar previsões em tempo real.\n",
    "* Dados simulados foram utilizados para validar a funcionalidade da implementação.\n",
    "\n",
    "---\n",
    "\n",
    "\n",
    "### **Conclusões Finais**\n",
    "O modelo Gradient Boosting com threshold ajustado foi escolhido como o modelo final por oferecer:\n",
    "1. Alta precisão para minimizar falsos positivos.\n",
    "2. Recall suficiente para detectar fraudes reais e gerar economia financeira relevante.\n",
    "3. Um equilíbrio robusto entre desempenho técnico e impacto no negócio.\n",
    "\n",
    "Embora o recall seja limitado, a redução estimada de 10% nos pedidos fraudulentos é um ponto de partida sólido para melhorar os processos internos do Walmart e fortalecer sua operação de e-commerce.\n",
    "\n",
    "---\n",
    "\n",
    "### Recomendações Finais\n",
    "1.\tMonitoramento Contínuo:\n",
    "    * Avaliar continuamente o desempenho do modelo em produção para garantir sua eficácia ao longo do tempo.\n",
    "    * Re-treinar o modelo periodicamente com novos dados para capturar mudanças nos padrões de fraude.\n",
    "2.\tRevisão Manual de Casos Críticos:\n",
    "    * Implementar revisões manuais em pedidos classificados como “fraude” pelo modelo.\n",
    "    * Revisar também pedidos classificados como “não fraude” que apresentem características suspeitas (ex.: valor alto ou entregas noturnas).\n",
    "3.\tMelhoria na Coleta de Dados:\n",
    "    * Adicionar novas variáveis ao dataset que possam ajudar na detecção de fraudes, como histórico financeiro do cliente ou dados comportamentais.\n",
    "4.\tExpansão Regional:\n",
    "    * Caso os resultados sejam positivos na região Central da Flórida, expandir a aplicação do modelo para outras regiões dos EUA.\n",
    "\n",
    "---\n",
    "\n"
   ]
  },
  {
   "cell_type": "code",
   "execution_count": null,
   "id": "13eb99f9-d361-4c59-9372-e66dbbbe04ad",
   "metadata": {},
   "outputs": [],
   "source": []
  }
 ],
 "metadata": {
  "kernelspec": {
   "display_name": "Python 3 (ipykernel)",
   "language": "python",
   "name": "python3"
  },
  "language_info": {
   "codemirror_mode": {
    "name": "ipython",
    "version": 3
   },
   "file_extension": ".py",
   "mimetype": "text/x-python",
   "name": "python",
   "nbconvert_exporter": "python",
   "pygments_lexer": "ipython3",
   "version": "3.11.10"
  }
 },
 "nbformat": 4,
 "nbformat_minor": 5
}
