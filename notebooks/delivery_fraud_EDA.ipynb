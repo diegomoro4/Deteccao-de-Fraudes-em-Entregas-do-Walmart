{
 "cells": [
  {
   "cell_type": "markdown",
   "id": "bd192972-e65c-4888-bd01-23dfe7d543bc",
   "metadata": {},
   "source": [
    "# Análise Exploratória de Dados (EDA)\n",
    "Este notebook é dedicado à análise exploratória dos dados fornecidos para o projeto de detecção de fraudes em entregas do Walmart. O objetivo é:\n",
    "1. Entender as características de cada dataset.\n",
    "2. Identificar valores ausentes, inconsistências ou anomalias.\n",
    "3. Observar padrões iniciais que possam indicar fraudes ou problemas no processo de entrega.\n"
   ]
  },
  {
   "cell_type": "markdown",
   "id": "1c6f682d-8650-4ae3-98d3-3916dfccecb3",
   "metadata": {},
   "source": [
    "## Importar as bibliotecas necessárias"
   ]
  },
  {
   "cell_type": "code",
   "execution_count": 1,
   "id": "dcbe2525-fcb8-4dc1-9ca1-a6f766c94c41",
   "metadata": {},
   "outputs": [],
   "source": [
    "import pandas as pd\n",
    "import numpy as np\n",
    "from datetime import datetime\n",
    "import seaborn as sns\n",
    "import matplotlib.pyplot as plt"
   ]
  },
  {
   "cell_type": "markdown",
   "id": "279544f3-efc0-489c-9ae7-3db76a856fd1",
   "metadata": {},
   "source": [
    "## Carregar os datasets fornecidos para a realização do projeto"
   ]
  },
  {
   "cell_type": "code",
   "execution_count": 2,
   "id": "956558f2-bf37-4ac2-8946-281eae3f579e",
   "metadata": {},
   "outputs": [],
   "source": [
    "products = pd.read_csv('https://query.data.world/s/uex6zjqbcuq7ud72jdxqzc7o6wep5d?dws=00000')\n",
    "orders = pd.read_csv('https://query.data.world/s/5ncozr3rqt5jh65qzagdgm7em2fcrz?dws=00000')\n",
    "missing_data = pd.read_csv('https://query.data.world/s/p3fx33f424cqnpyzida5vzyzsbq4we?dws=00000')\n",
    "drivers_data = pd.read_csv('https://query.data.world/s/wg37aepfhmgkttceuo3xquslpluxd6?dws=00000')\n",
    "customer_data = pd.read_csv('https://query.data.world/s/tyv2ovzlourq5ikz3pch2bmvqfk67h?dws=00000')"
   ]
  },
  {
   "cell_type": "markdown",
   "id": "e18e3f7e-9c0b-4fa3-abef-00b25766937a",
   "metadata": {},
   "source": [
    "# Realizar EDA individual por dataset\n",
    "## 1. Products\n",
    "Realizar análise preliminar do dataset `product`, para garantir consistência e clareza."
   ]
  },
  {
   "cell_type": "markdown",
   "id": "cc1b71ac-2655-4464-a6e6-2e93d2bb6950",
   "metadata": {},
   "source": [
    "### Exploração Inicial\n",
    "\n",
    "* #### Verificar Valores Ausentes"
   ]
  },
  {
   "cell_type": "code",
   "execution_count": 3,
   "id": "16669e77-a41f-44aa-91d2-a08b05cbe86f",
   "metadata": {},
   "outputs": [
    {
     "data": {
      "text/plain": [
       "produc_id       0\n",
       "product_name    0\n",
       "category        0\n",
       "price           0\n",
       "dtype: int64"
      ]
     },
     "execution_count": 3,
     "metadata": {},
     "output_type": "execute_result"
    }
   ],
   "source": [
    "products.isnull().sum()"
   ]
  },
  {
   "cell_type": "markdown",
   "id": "6765fc04-cc4e-4ee4-8f5a-f9cf25c9cf25",
   "metadata": {},
   "source": [
    "* #### Analisar Estrutura do Dataset"
   ]
  },
  {
   "cell_type": "code",
   "execution_count": 4,
   "id": "b308f5a8-d913-48d4-a86d-e0742f1b2970",
   "metadata": {},
   "outputs": [
    {
     "name": "stdout",
     "output_type": "stream",
     "text": [
      "<class 'pandas.core.frame.DataFrame'>\n",
      "RangeIndex: 314 entries, 0 to 313\n",
      "Data columns (total 4 columns):\n",
      " #   Column        Non-Null Count  Dtype \n",
      "---  ------        --------------  ----- \n",
      " 0   produc_id     314 non-null    object\n",
      " 1   product_name  314 non-null    object\n",
      " 2   category      314 non-null    object\n",
      " 3   price         314 non-null    object\n",
      "dtypes: object(4)\n",
      "memory usage: 9.9+ KB\n"
     ]
    }
   ],
   "source": [
    "products.info()"
   ]
  },
  {
   "cell_type": "markdown",
   "id": "4f90aa74-235f-48fb-a769-29c6a135fe4f",
   "metadata": {},
   "source": [
    "* #### Corrigir Nome da Coluna"
   ]
  },
  {
   "cell_type": "code",
   "execution_count": 5,
   "id": "b22f04c3-c2f5-4015-84cd-5a66e7527661",
   "metadata": {},
   "outputs": [],
   "source": [
    "# Corrigir nome da primeira coluna 'produc_id' para 'product_id'\n",
    "products.rename(columns={'produc_id': 'product_id'}, inplace=True)"
   ]
  },
  {
   "cell_type": "markdown",
   "id": "d5757a33-6497-44a9-bdb5-47067849c814",
   "metadata": {},
   "source": [
    "#### Corrigir a Coluna `price`\n",
    "A coluna `price` ainda está no formato `object`. Para problemas futuros precisamos corrigir isso:\n",
    "* Remover o símbolo `$` e converta para `float`."
   ]
  },
  {
   "cell_type": "code",
   "execution_count": 6,
   "id": "fb5606c7-8863-4263-8dd8-50d7e990bcb6",
   "metadata": {},
   "outputs": [],
   "source": [
    "products['price'] = products['price'].str.replace('$', '').astype(float)"
   ]
  },
  {
   "cell_type": "markdown",
   "id": "e8ec85eb-c7e9-42eb-bacc-f2b2bbef4bcc",
   "metadata": {},
   "source": [
    "* #### Visualizar Primeiras Linhas"
   ]
  },
  {
   "cell_type": "code",
   "execution_count": 7,
   "id": "5f4d7901-67a5-441c-9ccd-3eaa98723408",
   "metadata": {},
   "outputs": [
    {
     "data": {
      "text/html": [
       "<div>\n",
       "<style scoped>\n",
       "    .dataframe tbody tr th:only-of-type {\n",
       "        vertical-align: middle;\n",
       "    }\n",
       "\n",
       "    .dataframe tbody tr th {\n",
       "        vertical-align: top;\n",
       "    }\n",
       "\n",
       "    .dataframe thead th {\n",
       "        text-align: right;\n",
       "    }\n",
       "</style>\n",
       "<table border=\"1\" class=\"dataframe\">\n",
       "  <thead>\n",
       "    <tr style=\"text-align: right;\">\n",
       "      <th></th>\n",
       "      <th>product_id</th>\n",
       "      <th>product_name</th>\n",
       "      <th>category</th>\n",
       "      <th>price</th>\n",
       "    </tr>\n",
       "  </thead>\n",
       "  <tbody>\n",
       "    <tr>\n",
       "      <th>0</th>\n",
       "      <td>PWPX0982761090982</td>\n",
       "      <td>Kellogg's Frosties</td>\n",
       "      <td>Supermarket</td>\n",
       "      <td>12.53</td>\n",
       "    </tr>\n",
       "    <tr>\n",
       "      <th>1</th>\n",
       "      <td>PWPX0982761090983</td>\n",
       "      <td>Uncured Bacon</td>\n",
       "      <td>Supermarket</td>\n",
       "      <td>4.67</td>\n",
       "    </tr>\n",
       "    <tr>\n",
       "      <th>2</th>\n",
       "      <td>PWPX0982761090984</td>\n",
       "      <td>Whole Milk</td>\n",
       "      <td>Supermarket</td>\n",
       "      <td>9.95</td>\n",
       "    </tr>\n",
       "    <tr>\n",
       "      <th>3</th>\n",
       "      <td>PWPX0982761090985</td>\n",
       "      <td>Organic Bananas</td>\n",
       "      <td>Supermarket</td>\n",
       "      <td>3.94</td>\n",
       "    </tr>\n",
       "    <tr>\n",
       "      <th>4</th>\n",
       "      <td>PWPX0982761090986</td>\n",
       "      <td>Sourdough Bread</td>\n",
       "      <td>Supermarket</td>\n",
       "      <td>19.77</td>\n",
       "    </tr>\n",
       "  </tbody>\n",
       "</table>\n",
       "</div>"
      ],
      "text/plain": [
       "          product_id        product_name     category  price\n",
       "0  PWPX0982761090982  Kellogg's Frosties  Supermarket  12.53\n",
       "1  PWPX0982761090983       Uncured Bacon  Supermarket   4.67\n",
       "2  PWPX0982761090984          Whole Milk  Supermarket   9.95\n",
       "3  PWPX0982761090985     Organic Bananas  Supermarket   3.94\n",
       "4  PWPX0982761090986     Sourdough Bread  Supermarket  19.77"
      ]
     },
     "execution_count": 7,
     "metadata": {},
     "output_type": "execute_result"
    }
   ],
   "source": [
    "products.head()"
   ]
  },
  {
   "cell_type": "markdown",
   "id": "88bfb71b-56a9-458e-9afa-7559435ab926",
   "metadata": {},
   "source": [
    "### 2. Gerar Gráficos\n"
   ]
  },
  {
   "cell_type": "markdown",
   "id": "753f5f69-fe96-4c75-b237-b67e48b6c0dc",
   "metadata": {},
   "source": [
    "* #### Grafico de Distribuição de Preços"
   ]
  },
  {
   "cell_type": "code",
   "execution_count": 8,
   "id": "24cc54af-7448-4340-b6e5-6fb08d056a18",
   "metadata": {},
   "outputs": [
    {
     "data": {
      "image/png": "[encoded data removed]",
      "text/plain": [
       "<Figure size 640x480 with 1 Axes>"
      ]
     },
     "metadata": {},
     "output_type": "display_data"
    }
   ],
   "source": [
    "# Gerar gráfico de distribuição\n",
    "sns.histplot(products['price'], bins=30, kde=True)\n",
    "plt.title(\"Distribuição dos Preços dos Produtos\")\n",
    "plt.xlabel(\"Preço\")\n",
    "plt.ylabel(\"Frequência\")\n",
    "plt.show()"
   ]
  },
  {
   "cell_type": "markdown",
   "id": "dedd0536-4f82-4630-8a73-6328591a3587",
   "metadata": {},
   "source": [
    "Observamos uma distribuição alta para produtos de baixo valor em comparação aos produtos com valor mais alto, vamos entender o porque:\n",
    "* Realizar resumo estatistico\n",
    "* Identificar outliers"
   ]
  },
  {
   "cell_type": "code",
   "execution_count": 9,
   "id": "e11f77bb-cc72-4b7e-a446-494d03895086",
   "metadata": {},
   "outputs": [
    {
     "name": "stdout",
     "output_type": "stream",
     "text": [
      "count    314.000000\n",
      "mean      59.129936\n",
      "std      164.990844\n",
      "min        2.070000\n",
      "25%        7.302500\n",
      "50%       11.275000\n",
      "75%       17.105000\n",
      "max      908.870000\n",
      "Name: price, dtype: float64\n"
     ]
    }
   ],
   "source": [
    "# Resumo estatístico dos preços\n",
    "print(products['price'].describe(include='all'))"
   ]
  },
  {
   "cell_type": "code",
   "execution_count": 10,
   "id": "f7912c02-8a55-4166-8673-de298432b19e",
   "metadata": {},
   "outputs": [
    {
     "data": {
      "text/html": [
       "<div>\n",
       "<style scoped>\n",
       "    .dataframe tbody tr th:only-of-type {\n",
       "        vertical-align: middle;\n",
       "    }\n",
       "\n",
       "    .dataframe tbody tr th {\n",
       "        vertical-align: top;\n",
       "    }\n",
       "\n",
       "    .dataframe thead th {\n",
       "        text-align: right;\n",
       "    }\n",
       "</style>\n",
       "<table border=\"1\" class=\"dataframe\">\n",
       "  <thead>\n",
       "    <tr style=\"text-align: right;\">\n",
       "      <th></th>\n",
       "      <th>product_id</th>\n",
       "      <th>product_name</th>\n",
       "      <th>category</th>\n",
       "      <th>price</th>\n",
       "    </tr>\n",
       "  </thead>\n",
       "  <tbody>\n",
       "    <tr>\n",
       "      <th>115</th>\n",
       "      <td>PWPX0982761091097</td>\n",
       "      <td>Beats Studio Pro Headphone</td>\n",
       "      <td>Electronics</td>\n",
       "      <td>690.88</td>\n",
       "    </tr>\n",
       "    <tr>\n",
       "      <th>117</th>\n",
       "      <td>PWPX0982761091099</td>\n",
       "      <td>Samsung Galaxy S21</td>\n",
       "      <td>Electronics</td>\n",
       "      <td>783.07</td>\n",
       "    </tr>\n",
       "    <tr>\n",
       "      <th>119</th>\n",
       "      <td>PWPX0982761091101</td>\n",
       "      <td>Bose QuietComfort Earbuds</td>\n",
       "      <td>Electronics</td>\n",
       "      <td>585.52</td>\n",
       "    </tr>\n",
       "    <tr>\n",
       "      <th>120</th>\n",
       "      <td>PWPX0982761091102</td>\n",
       "      <td>Sony PlayStation 5</td>\n",
       "      <td>Electronics</td>\n",
       "      <td>880.38</td>\n",
       "    </tr>\n",
       "    <tr>\n",
       "      <th>122</th>\n",
       "      <td>PWPX0982761091104</td>\n",
       "      <td>Canon EOS Rebel Camera</td>\n",
       "      <td>Electronics</td>\n",
       "      <td>808.21</td>\n",
       "    </tr>\n",
       "    <tr>\n",
       "      <th>123</th>\n",
       "      <td>PWPX0982761091105</td>\n",
       "      <td>Microsoft Surface Pro</td>\n",
       "      <td>Electronics</td>\n",
       "      <td>497.46</td>\n",
       "    </tr>\n",
       "    <tr>\n",
       "      <th>124</th>\n",
       "      <td>PWPX0982761091106</td>\n",
       "      <td>NVIDIA GeForce RTX 3060</td>\n",
       "      <td>Electronics</td>\n",
       "      <td>647.73</td>\n",
       "    </tr>\n",
       "    <tr>\n",
       "      <th>127</th>\n",
       "      <td>PWPX0982761091109</td>\n",
       "      <td>GoPro Hero 9</td>\n",
       "      <td>Electronics</td>\n",
       "      <td>908.87</td>\n",
       "    </tr>\n",
       "    <tr>\n",
       "      <th>128</th>\n",
       "      <td>PWPX0982761091110</td>\n",
       "      <td>Kindle Paperwhite</td>\n",
       "      <td>Electronics</td>\n",
       "      <td>738.81</td>\n",
       "    </tr>\n",
       "    <tr>\n",
       "      <th>130</th>\n",
       "      <td>PWPX0982761091112</td>\n",
       "      <td>Apple Watch Series 6</td>\n",
       "      <td>Electronics</td>\n",
       "      <td>579.00</td>\n",
       "    </tr>\n",
       "    <tr>\n",
       "      <th>131</th>\n",
       "      <td>PWPX0982761091113</td>\n",
       "      <td>Google Chromecast</td>\n",
       "      <td>Electronics</td>\n",
       "      <td>750.72</td>\n",
       "    </tr>\n",
       "    <tr>\n",
       "      <th>133</th>\n",
       "      <td>PWPX0982761091115</td>\n",
       "      <td>Garmin Forerunner</td>\n",
       "      <td>Electronics</td>\n",
       "      <td>840.38</td>\n",
       "    </tr>\n",
       "    <tr>\n",
       "      <th>135</th>\n",
       "      <td>PWPX0982761091117</td>\n",
       "      <td>Samsung QLED TV</td>\n",
       "      <td>Electronics</td>\n",
       "      <td>710.27</td>\n",
       "    </tr>\n",
       "    <tr>\n",
       "      <th>140</th>\n",
       "      <td>PWPX0982761091122</td>\n",
       "      <td>Roku Ultra Streaming Device</td>\n",
       "      <td>Electronics</td>\n",
       "      <td>632.85</td>\n",
       "    </tr>\n",
       "    <tr>\n",
       "      <th>142</th>\n",
       "      <td>PWPX0982761091124</td>\n",
       "      <td>Nest Thermostat</td>\n",
       "      <td>Electronics</td>\n",
       "      <td>528.96</td>\n",
       "    </tr>\n",
       "    <tr>\n",
       "      <th>143</th>\n",
       "      <td>PWPX0982761091125</td>\n",
       "      <td>Nintendo Switch</td>\n",
       "      <td>Electronics</td>\n",
       "      <td>725.50</td>\n",
       "    </tr>\n",
       "  </tbody>\n",
       "</table>\n",
       "</div>"
      ],
      "text/plain": [
       "            product_id                 product_name     category   price\n",
       "115  PWPX0982761091097   Beats Studio Pro Headphone  Electronics  690.88\n",
       "117  PWPX0982761091099           Samsung Galaxy S21  Electronics  783.07\n",
       "119  PWPX0982761091101    Bose QuietComfort Earbuds  Electronics  585.52\n",
       "120  PWPX0982761091102           Sony PlayStation 5  Electronics  880.38\n",
       "122  PWPX0982761091104       Canon EOS Rebel Camera  Electronics  808.21\n",
       "123  PWPX0982761091105        Microsoft Surface Pro  Electronics  497.46\n",
       "124  PWPX0982761091106      NVIDIA GeForce RTX 3060  Electronics  647.73\n",
       "127  PWPX0982761091109                 GoPro Hero 9  Electronics  908.87\n",
       "128  PWPX0982761091110            Kindle Paperwhite  Electronics  738.81\n",
       "130  PWPX0982761091112         Apple Watch Series 6  Electronics  579.00\n",
       "131  PWPX0982761091113            Google Chromecast  Electronics  750.72\n",
       "133  PWPX0982761091115            Garmin Forerunner  Electronics  840.38\n",
       "135  PWPX0982761091117              Samsung QLED TV  Electronics  710.27\n",
       "140  PWPX0982761091122  Roku Ultra Streaming Device  Electronics  632.85\n",
       "142  PWPX0982761091124              Nest Thermostat  Electronics  528.96\n",
       "143  PWPX0982761091125              Nintendo Switch  Electronics  725.50"
      ]
     },
     "execution_count": 10,
     "metadata": {},
     "output_type": "execute_result"
    }
   ],
   "source": [
    "# Identificar produtos com preços acima do percentil 95\n",
    "outliers = products[products['price'] > products['price'].quantile(0.95)]\n",
    "outliers"
   ]
  },
  {
   "cell_type": "markdown",
   "id": "4b29ba86-4cd2-4552-8e74-d0e6c8d7a3db",
   "metadata": {},
   "source": [
    "Esses produtos possuem preços significativamente mais altos em comparação com a maioria dos itens, que estão concentrados na categoria `Supermarket`. No entanto, os valores identificados não podem ser considerados outliers no sentido de serem erros ou anomalias, pois são consistentes com o mercado para produtos eletrônicos premium"
   ]
  },
  {
   "cell_type": "markdown",
   "id": "302b48ed-7408-401f-9d25-3252ff3ca554",
   "metadata": {},
   "source": [
    "### Visualizaçao de Possiveis Outliers"
   ]
  },
  {
   "cell_type": "code",
   "execution_count": 11,
   "id": "3ad6f363-0186-4a10-b027-f960aeb1cdca",
   "metadata": {},
   "outputs": [],
   "source": [
    "# Filtrar para excluir produtos da categoria 'Electronics'\n",
    "filtered_products = products[products['category'] != 'Electronics']"
   ]
  },
  {
   "cell_type": "code",
   "execution_count": 12,
   "id": "dfb07449-0e2f-4299-b5ab-965c66823720",
   "metadata": {},
   "outputs": [
    {
     "data": {
      "image/png": "[encoded data removed]",
      "text/plain": [
       "<Figure size 800x600 with 1 Axes>"
      ]
     },
     "metadata": {},
     "output_type": "display_data"
    }
   ],
   "source": [
    "# Criar o boxplot\n",
    "plt.figure(figsize=(8, 6))\n",
    "sns.boxplot(data=filtered_products, x='category', y='price', hue='category',  palette='pastel')\n",
    "plt.title('Distribuição de Preços por Categoria (Excluindo Eletrônicos)', fontsize=14)\n",
    "plt.xlabel('Categoria', fontsize=12)\n",
    "plt.ylabel('Preço', fontsize=12)\n",
    "plt.xticks(rotation=45)\n",
    "plt.show()"
   ]
  },
  {
   "cell_type": "markdown",
   "id": "cac3e204-036a-4c9d-9b04-89643abbe849",
   "metadata": {},
   "source": [
    "O gráfico acima mostra a distribuição de preços por categoria, excluindo os produtos da categoria `Electronics`.\n",
    "\n",
    "* A maioria das categorias apresenta uma faixa de preços bem definida e consistente. \n",
    "\n",
    "Os outliers identificados serão mantidos no dataset, pois são legítimos e não comprometem a análise. Eles podem ser analisados mais detalhadamente em etapas futuras, caso necessário."
   ]
  },
  {
   "cell_type": "markdown",
   "id": "a58c1a37-f1d5-4d82-a5b7-19dec59733f7",
   "metadata": {},
   "source": [
    "* #### Analisar Categorias de Produtos\n",
    "  Explorar a coluna 'category'para entender melhor a distribuição dos produtos por categoria"
   ]
  },
  {
   "cell_type": "code",
   "execution_count": 13,
   "id": "c0f64472-baab-4069-ad82-88c95a57ed39",
   "metadata": {},
   "outputs": [
    {
     "data": {
      "image/png": "[encoded data removed]",
      "text/plain": [
       "<Figure size 800x500 with 1 Axes>"
      ]
     },
     "metadata": {},
     "output_type": "display_data"
    }
   ],
   "source": [
    "# Contar produtos por categoria\n",
    "category_counts = products['category'].value_counts()\n",
    "\n",
    "# Plotar gráfico de barras\n",
    "category_counts.plot(kind='bar', figsize=(8, 5), color='skyblue')\n",
    "plt.title(\"Distribuição de Produtos por Categoria\")\n",
    "plt.xlabel(\"Categoria\")\n",
    "plt.ylabel(\"Número de Produtos\")\n",
    "plt.xticks(rotation=45)\n",
    "plt.show()"
   ]
  },
  {
   "cell_type": "markdown",
   "id": "77d97359-8839-434f-92d8-ba6eb94b8ecf",
   "metadata": {},
   "source": [
    "### Conclusão da Análise do Dataset `Products`\n",
    "\n",
    "A análise exploratória do dataset `products` foi realizada com o objetivo de entender melhor as características dos produtos vendidos, como categorias, preços e possíveis outliers. Aqui estão os principais pontos abordados:\n",
    "\n",
    "1. **Estrutura dos Dados:**\n",
    "   - O dataset contém 314 produtos distribuídos em diversas categorias.\n",
    "   - Não foram encontrados valores ausentes, e a coluna `price` foi convertida para o formato numérico para facilitar as análises.\n",
    "\n",
    "2. **Distribuição de Preços:**\n",
    "   - A maioria dos produtos tem preços concentrados entre `$7` e `$15`, com algumas variações entre as categorias.\n",
    "   - A categoria `Supermarket` domina em quantidade de produtos, o que explica a alta frequência de itens de baixo custo.\n",
    "\n",
    "3. **Análise de Outliers:**\n",
    "   - Produtos da categoria `Electronics` apresentaram preços significativamente mais altos (ex.: \"Sony PlayStation 5\" e \"Samsung QLED TV\"), mas esses valores são legítimos e consistentes com o mercado.\n",
    "   - Para uma análise mais clara, foi gerado um boxplot excluindo a categoria `Electronics`, permitindo observar melhor a distribuição de preços das demais categorias.\n",
    "\n",
    "4. **Insights por Categoria:**\n",
    "   - A categoria `Household` apresenta faixa de preço bem definida, com poucos outliers.\n",
    "   - A categoria `Produce` teve os preços mais altos entre as categorias restantes.\n",
    "\n",
    "**Decisão Final:**\n",
    "Os dados do dataset `products` estão prontos para serem integrados com outros datasets no projeto. Os valores extremos identificados foram considerados legítimos e mantidos no dataset para análises futuras.\n"
   ]
  },
  {
   "cell_type": "markdown",
   "id": "ad7a54eb-085f-478c-8edc-d2c3f7579ca7",
   "metadata": {},
   "source": [
    "#### Sugestões\n",
    "Dados que poderiam ser úteis para uma análise mais detalhada.\n",
    "1. **Fragilidade dos Produtos:**\n",
    "    * Classificação dos produtos quanto à fragilidade (ex.: frágil, moderado, resistente).\n",
    "    * **Por quê?** Produtos frágeis podem ser mais propensos a avarias durante o transporte.\n",
    "2. **Volume e Peso dos Produtos:**\n",
    "    * Informações sobre o volume e peso total dos pedidos.\n",
    "    * **Por quê?** Pedidos volumosos ou pesados podem ser mais difíceis de manusear, aumentando o risco de itens faltantes."
   ]
  },
  {
   "cell_type": "markdown",
   "id": "31d5c6e8-f8c6-44ef-a81c-c453a51f3b0f",
   "metadata": {},
   "source": [
    "## 2. Orders"
   ]
  },
  {
   "cell_type": "markdown",
   "id": "044ed56e-876f-4b51-b40d-20c0893273c5",
   "metadata": {},
   "source": [
    "### Exploração Inicial\n",
    "Realizada a análise exploratória do dataset `orders`, que contém informações sobre os pedidos realizados. \n",
    "* #### Verificar Valores Ausentes"
   ]
  },
  {
   "cell_type": "code",
   "execution_count": 14,
   "id": "54973625-8476-4cf1-bd37-7b177c8a542e",
   "metadata": {},
   "outputs": [
    {
     "data": {
      "text/plain": [
       "date               0\n",
       "order_id           0\n",
       "order_amount       0\n",
       "region             0\n",
       "items_delivered    0\n",
       "items_missing      0\n",
       "delivery_hour      0\n",
       "driver_id          0\n",
       "customer_id        0\n",
       "dtype: int64"
      ]
     },
     "execution_count": 14,
     "metadata": {},
     "output_type": "execute_result"
    }
   ],
   "source": [
    "orders.isnull().sum()"
   ]
  },
  {
   "cell_type": "markdown",
   "id": "ea01aeed-de8e-4e7e-b120-d5efd3f51900",
   "metadata": {},
   "source": [
    "Não foram encontrados valores ausentes em nenhuma das colunas do dataset"
   ]
  },
  {
   "cell_type": "markdown",
   "id": "0b979167-b10a-4eb2-b211-286c161d1f4c",
   "metadata": {},
   "source": [
    "* ### Analisar Estrutura do Dataset"
   ]
  },
  {
   "cell_type": "code",
   "execution_count": 15,
   "id": "eca25c4c-8bba-4fbe-8766-51132ceef0e7",
   "metadata": {},
   "outputs": [
    {
     "name": "stdout",
     "output_type": "stream",
     "text": [
      "<class 'pandas.core.frame.DataFrame'>\n",
      "RangeIndex: 10000 entries, 0 to 9999\n",
      "Data columns (total 9 columns):\n",
      " #   Column           Non-Null Count  Dtype \n",
      "---  ------           --------------  ----- \n",
      " 0   date             10000 non-null  object\n",
      " 1   order_id         10000 non-null  object\n",
      " 2   order_amount     10000 non-null  object\n",
      " 3   region           10000 non-null  object\n",
      " 4   items_delivered  10000 non-null  int64 \n",
      " 5   items_missing    10000 non-null  int64 \n",
      " 6   delivery_hour    10000 non-null  object\n",
      " 7   driver_id        10000 non-null  object\n",
      " 8   customer_id      10000 non-null  object\n",
      "dtypes: int64(2), object(7)\n",
      "memory usage: 703.3+ KB\n"
     ]
    }
   ],
   "source": [
    "orders.info()"
   ]
  },
  {
   "cell_type": "markdown",
   "id": "6b198588-e82d-451e-940c-6d28d6df6251",
   "metadata": {},
   "source": [
    "Algumas colunas como `date`, `order_amount` e `delivery_hour` estão em formato `object` e precisam ser convertidas para tipos mais apropriados:\n",
    "* `date` e `delivery_hour` podem ser convertidos para `datetime` .\n",
    "* `order_amount` contem o simbolo `$` e precisa ser convertido para valor numérico."
   ]
  },
  {
   "cell_type": "markdown",
   "id": "5980af34-ac2f-41d5-a261-bd791c84eaeb",
   "metadata": {},
   "source": [
    "* #### Converter `date` para datetime"
   ]
  },
  {
   "cell_type": "code",
   "execution_count": 16,
   "id": "8b6b34de-1def-4cb7-9cd4-837c2f0514b5",
   "metadata": {},
   "outputs": [],
   "source": [
    "orders['date'] = pd.to_datetime(orders['date'])"
   ]
  },
  {
   "cell_type": "markdown",
   "id": "70a94118-bcfd-412d-980e-7027c7dff88f",
   "metadata": {},
   "source": [
    "* #### Converter `order_amount` para float e remover simbolo `$`\n"
   ]
  },
  {
   "cell_type": "code",
   "execution_count": 17,
   "id": "285d77f0-94f8-422a-8bbc-c71faad9e595",
   "metadata": {},
   "outputs": [],
   "source": [
    "orders['order_amount'] = orders['order_amount'].str.replace('$', '').str.replace(',', '').astype(float)"
   ]
  },
  {
   "cell_type": "markdown",
   "id": "760991e3-75a3-4fcb-b32d-e34138f70f1d",
   "metadata": {},
   "source": [
    "* #### Converter `delivery_hour` para timedelta (apenas hora)"
   ]
  },
  {
   "cell_type": "code",
   "execution_count": 18,
   "id": "0891f024-f171-4143-86f1-c35f3f75870e",
   "metadata": {},
   "outputs": [],
   "source": [
    "orders['delivery_hour'] = pd.to_datetime(orders['delivery_hour'], format='%H:%M:%S').dt.time"
   ]
  },
  {
   "cell_type": "markdown",
   "id": "afeb3c74-664d-4b2b-afa9-fc21029743ef",
   "metadata": {},
   "source": [
    "* #### Visualizar Primeiras Linhas"
   ]
  },
  {
   "cell_type": "code",
   "execution_count": 19,
   "id": "a2babc2f-260e-4390-addb-cbd1c11d3769",
   "metadata": {},
   "outputs": [
    {
     "data": {
      "text/html": [
       "<div>\n",
       "<style scoped>\n",
       "    .dataframe tbody tr th:only-of-type {\n",
       "        vertical-align: middle;\n",
       "    }\n",
       "\n",
       "    .dataframe tbody tr th {\n",
       "        vertical-align: top;\n",
       "    }\n",
       "\n",
       "    .dataframe thead th {\n",
       "        text-align: right;\n",
       "    }\n",
       "</style>\n",
       "<table border=\"1\" class=\"dataframe\">\n",
       "  <thead>\n",
       "    <tr style=\"text-align: right;\">\n",
       "      <th></th>\n",
       "      <th>date</th>\n",
       "      <th>order_id</th>\n",
       "      <th>order_amount</th>\n",
       "      <th>region</th>\n",
       "      <th>items_delivered</th>\n",
       "      <th>items_missing</th>\n",
       "      <th>delivery_hour</th>\n",
       "      <th>driver_id</th>\n",
       "      <th>customer_id</th>\n",
       "    </tr>\n",
       "  </thead>\n",
       "  <tbody>\n",
       "    <tr>\n",
       "      <th>0</th>\n",
       "      <td>2023-01-01</td>\n",
       "      <td>c9da15aa-be24-4871-92a3-dfa7746fff69</td>\n",
       "      <td>1095.54</td>\n",
       "      <td>Winter Park</td>\n",
       "      <td>10</td>\n",
       "      <td>1</td>\n",
       "      <td>08:37:28</td>\n",
       "      <td>WDID10627</td>\n",
       "      <td>WCID5031</td>\n",
       "    </tr>\n",
       "    <tr>\n",
       "      <th>1</th>\n",
       "      <td>2023-01-01</td>\n",
       "      <td>ccacc183-09f8-4fd5-af35-009d18656326</td>\n",
       "      <td>659.11</td>\n",
       "      <td>Altamonte Springs</td>\n",
       "      <td>11</td>\n",
       "      <td>1</td>\n",
       "      <td>09:31:17</td>\n",
       "      <td>WDID10533</td>\n",
       "      <td>WCID5794</td>\n",
       "    </tr>\n",
       "    <tr>\n",
       "      <th>2</th>\n",
       "      <td>2023-01-01</td>\n",
       "      <td>f4e1d30b-c3d1-413f-99b8-93c0b46d68bf</td>\n",
       "      <td>251.45</td>\n",
       "      <td>Winter Park</td>\n",
       "      <td>18</td>\n",
       "      <td>1</td>\n",
       "      <td>10:43:49</td>\n",
       "      <td>WDID10559</td>\n",
       "      <td>WCID5599</td>\n",
       "    </tr>\n",
       "    <tr>\n",
       "      <th>3</th>\n",
       "      <td>2023-01-01</td>\n",
       "      <td>993d31f4-9358-41f0-a371-0021e55cef5d</td>\n",
       "      <td>598.83</td>\n",
       "      <td>Altamonte Springs</td>\n",
       "      <td>12</td>\n",
       "      <td>1</td>\n",
       "      <td>09:48:33</td>\n",
       "      <td>WDID10622</td>\n",
       "      <td>WCID5005</td>\n",
       "    </tr>\n",
       "    <tr>\n",
       "      <th>4</th>\n",
       "      <td>2023-01-01</td>\n",
       "      <td>3e0a8f1b-3cd6-4d64-90e3-6b38dc368925</td>\n",
       "      <td>27.18</td>\n",
       "      <td>Clermont</td>\n",
       "      <td>3</td>\n",
       "      <td>1</td>\n",
       "      <td>10:09:49</td>\n",
       "      <td>WDID10654</td>\n",
       "      <td>WCID5114</td>\n",
       "    </tr>\n",
       "  </tbody>\n",
       "</table>\n",
       "</div>"
      ],
      "text/plain": [
       "        date                              order_id  order_amount  \\\n",
       "0 2023-01-01  c9da15aa-be24-4871-92a3-dfa7746fff69       1095.54   \n",
       "1 2023-01-01  ccacc183-09f8-4fd5-af35-009d18656326        659.11   \n",
       "2 2023-01-01  f4e1d30b-c3d1-413f-99b8-93c0b46d68bf        251.45   \n",
       "3 2023-01-01  993d31f4-9358-41f0-a371-0021e55cef5d        598.83   \n",
       "4 2023-01-01  3e0a8f1b-3cd6-4d64-90e3-6b38dc368925         27.18   \n",
       "\n",
       "              region  items_delivered  items_missing delivery_hour  driver_id  \\\n",
       "0        Winter Park               10              1      08:37:28  WDID10627   \n",
       "1  Altamonte Springs               11              1      09:31:17  WDID10533   \n",
       "2        Winter Park               18              1      10:43:49  WDID10559   \n",
       "3  Altamonte Springs               12              1      09:48:33  WDID10622   \n",
       "4           Clermont                3              1      10:09:49  WDID10654   \n",
       "\n",
       "  customer_id  \n",
       "0    WCID5031  \n",
       "1    WCID5794  \n",
       "2    WCID5599  \n",
       "3    WCID5005  \n",
       "4    WCID5114  "
      ]
     },
     "execution_count": 19,
     "metadata": {},
     "output_type": "execute_result"
    }
   ],
   "source": [
    "orders.head()"
   ]
  },
  {
   "cell_type": "markdown",
   "id": "2cd2d4bd-3ce4-4ca3-bca6-994ed7f42718",
   "metadata": {},
   "source": [
    "### Análise Estatística"
   ]
  },
  {
   "cell_type": "markdown",
   "id": "000b6d6f-4189-4f8c-8da4-25a910d7eeb7",
   "metadata": {},
   "source": [
    "* #### Resumo Estatístico das Colunas Numéricas"
   ]
  },
  {
   "cell_type": "code",
   "execution_count": 20,
   "id": "637035df-516a-42d4-a528-28096be5c07d",
   "metadata": {},
   "outputs": [
    {
     "data": {
      "text/html": [
       "<div>\n",
       "<style scoped>\n",
       "    .dataframe tbody tr th:only-of-type {\n",
       "        vertical-align: middle;\n",
       "    }\n",
       "\n",
       "    .dataframe tbody tr th {\n",
       "        vertical-align: top;\n",
       "    }\n",
       "\n",
       "    .dataframe thead th {\n",
       "        text-align: right;\n",
       "    }\n",
       "</style>\n",
       "<table border=\"1\" class=\"dataframe\">\n",
       "  <thead>\n",
       "    <tr style=\"text-align: right;\">\n",
       "      <th></th>\n",
       "      <th>order_amount</th>\n",
       "      <th>items_delivered</th>\n",
       "      <th>items_missing</th>\n",
       "    </tr>\n",
       "  </thead>\n",
       "  <tbody>\n",
       "    <tr>\n",
       "      <th>count</th>\n",
       "      <td>10000.000000</td>\n",
       "      <td>10000.000000</td>\n",
       "      <td>10000.00000</td>\n",
       "    </tr>\n",
       "    <tr>\n",
       "      <th>mean</th>\n",
       "      <td>283.302238</td>\n",
       "      <td>9.969400</td>\n",
       "      <td>0.16570</td>\n",
       "    </tr>\n",
       "    <tr>\n",
       "      <th>std</th>\n",
       "      <td>181.681638</td>\n",
       "      <td>5.459693</td>\n",
       "      <td>0.41432</td>\n",
       "    </tr>\n",
       "    <tr>\n",
       "      <th>min</th>\n",
       "      <td>20.080000</td>\n",
       "      <td>1.000000</td>\n",
       "      <td>0.00000</td>\n",
       "    </tr>\n",
       "    <tr>\n",
       "      <th>25%</th>\n",
       "      <td>147.565000</td>\n",
       "      <td>5.000000</td>\n",
       "      <td>0.00000</td>\n",
       "    </tr>\n",
       "    <tr>\n",
       "      <th>50%</th>\n",
       "      <td>270.535000</td>\n",
       "      <td>10.000000</td>\n",
       "      <td>0.00000</td>\n",
       "    </tr>\n",
       "    <tr>\n",
       "      <th>75%</th>\n",
       "      <td>393.072500</td>\n",
       "      <td>15.000000</td>\n",
       "      <td>0.00000</td>\n",
       "    </tr>\n",
       "    <tr>\n",
       "      <th>max</th>\n",
       "      <td>1386.000000</td>\n",
       "      <td>19.000000</td>\n",
       "      <td>3.00000</td>\n",
       "    </tr>\n",
       "  </tbody>\n",
       "</table>\n",
       "</div>"
      ],
      "text/plain": [
       "       order_amount  items_delivered  items_missing\n",
       "count  10000.000000     10000.000000    10000.00000\n",
       "mean     283.302238         9.969400        0.16570\n",
       "std      181.681638         5.459693        0.41432\n",
       "min       20.080000         1.000000        0.00000\n",
       "25%      147.565000         5.000000        0.00000\n",
       "50%      270.535000        10.000000        0.00000\n",
       "75%      393.072500        15.000000        0.00000\n",
       "max     1386.000000        19.000000        3.00000"
      ]
     },
     "execution_count": 20,
     "metadata": {},
     "output_type": "execute_result"
    }
   ],
   "source": [
    "orders[['order_amount', 'items_delivered', 'items_missing']].describe()"
   ]
  },
  {
   "cell_type": "markdown",
   "id": "103dacde-6555-404a-80cc-d6199ad5cd9c",
   "metadata": {},
   "source": [
    "#### `order_amount` (Valor do Pedido):\n",
    "* **Média:** $283.30. A maioria dos pedidos tem valores moderados.\n",
    "\n",
    "  \n",
    "* **Desvio Padrão:** $181.68. Há uma grande variação nos valores dos pedidos.\n",
    "\n",
    "\n",
    "* **Mínimo e Máximo:** O menor pedido é de `$20.08`, enquanto o maior é de `$1386.00`, indicando a presença de pedidos de alto valor que podem ser investigados como possíveis outliers.\n",
    "\n",
    "\n",
    "#### `items_delivered` (Itens Entregues):\n",
    "* **Média:** 9.97 itens por pedido.\n",
    "\n",
    "  \n",
    "* **Desvio Padrão:** 5.46. A variação no número de itens entregues é moderada.\n",
    "\n",
    "\n",
    "* **Máximo:** O maior pedido contém 19 itens, o que parece razoável.\n",
    "\n",
    "\n",
    "#### `items_missing` (Itens Faltantes):\n",
    "* **Média:** 0.1657. A maioria dos pedidos não apresenta itens faltantes.\n",
    "\n",
    "\n",
    "* **Máximo:** Até 3 itens faltantes em um único pedido, o que pode indicar problemas específicos."
   ]
  },
  {
   "cell_type": "markdown",
   "id": "36b76c11-885d-4c6e-901f-b04101ed36c6",
   "metadata": {},
   "source": [
    "#### Explorar Outliers em `order_amount`\n",
    "* Usar metodo `IQR(Intervalo Quartil)` para detectar outliers nas variavéis numéricas"
   ]
  },
  {
   "cell_type": "code",
   "execution_count": 21,
   "id": "9d52f30e-0991-4601-9b88-9f1be3ef5aaa",
   "metadata": {},
   "outputs": [
    {
     "name": "stdout",
     "output_type": "stream",
     "text": [
      "Outliers em order_amount: 240 registros\n",
      "Outliers em items_delivered: 0 registros\n",
      "Outliers em items_missing: 1502 registros\n"
     ]
    }
   ],
   "source": [
    "# Identificação de outliers usando IQR\n",
    "for col in ['order_amount', 'items_delivered', 'items_missing']:\n",
    "    Q1 = orders[col].quantile(0.25)\n",
    "    Q3 = orders[col].quantile(0.75)\n",
    "    IQR = Q3 - Q1\n",
    "    lower_bound = Q1 - 1.5 * IQR\n",
    "    upper_bound = Q3 + 1.5 * IQR\n",
    "\n",
    "    outliers = orders[(orders[col] < lower_bound) | (orders[col] > upper_bound)]\n",
    "    print(f\"Outliers em {col}: {len(outliers)} registros\")"
   ]
  },
  {
   "cell_type": "markdown",
   "id": "9dbb151e-24f1-44fc-bed6-2a7b86bcb6db",
   "metadata": {},
   "source": [
    "#### Estatstica Resumidas dos Outliers"
   ]
  },
  {
   "cell_type": "code",
   "execution_count": 22,
   "id": "22ad1104-2a2b-42fb-a44c-c8517fe831f7",
   "metadata": {},
   "outputs": [
    {
     "name": "stdout",
     "output_type": "stream",
     "text": [
      "Resumo Estatístico dos Outliers em 'order_amount':\n",
      "\n",
      "                                date  order_amount  items_delivered  \\\n",
      "count                           1502   1502.000000      1502.000000   \n",
      "mean   2023-07-01 16:02:33.395472640    344.077324         9.986019   \n",
      "min              2023-01-01 00:00:00     20.540000         1.000000   \n",
      "25%              2023-04-05 00:00:00    161.295000         5.000000   \n",
      "50%              2023-07-04 00:00:00    303.500000        10.000000   \n",
      "75%              2023-09-30 00:00:00    445.735000        15.000000   \n",
      "max              2023-12-31 00:00:00   1354.710000        19.000000   \n",
      "std                              NaN    254.788532         5.544965   \n",
      "\n",
      "       items_missing  \n",
      "count    1502.000000  \n",
      "mean        1.103196  \n",
      "min         1.000000  \n",
      "25%         1.000000  \n",
      "50%         1.000000  \n",
      "75%         1.000000  \n",
      "max         3.000000  \n",
      "std         0.329541  \n",
      "\n",
      "\n",
      "Resumo Estatístico dos Outliers em 'items_missing':\n",
      "\n",
      "                                date  order_amount  items_delivered  \\\n",
      "count                           1502   1502.000000      1502.000000   \n",
      "mean   2023-07-01 16:02:33.395472640    344.077324         9.986019   \n",
      "min              2023-01-01 00:00:00     20.540000         1.000000   \n",
      "25%              2023-04-05 00:00:00    161.295000         5.000000   \n",
      "50%              2023-07-04 00:00:00    303.500000        10.000000   \n",
      "75%              2023-09-30 00:00:00    445.735000        15.000000   \n",
      "max              2023-12-31 00:00:00   1354.710000        19.000000   \n",
      "std                              NaN    254.788532         5.544965   \n",
      "\n",
      "       items_missing  \n",
      "count    1502.000000  \n",
      "mean        1.103196  \n",
      "min         1.000000  \n",
      "25%         1.000000  \n",
      "50%         1.000000  \n",
      "75%         1.000000  \n",
      "max         3.000000  \n",
      "std         0.329541  \n"
     ]
    }
   ],
   "source": [
    "# Estatísticas dos outliers de order_amount\n",
    "print(\"Resumo Estatístico dos Outliers em 'order_amount':\")\n",
    "print()\n",
    "print(outliers.describe())\n",
    "print()\n",
    "\n",
    "# Estatísticas dos outliers de items_missing\n",
    "print(\"\\nResumo Estatístico dos Outliers em 'items_missing':\")\n",
    "print()\n",
    "print(outliers.describe())"
   ]
  },
  {
   "cell_type": "markdown",
   "id": "0fff17f0-a344-4b32-a15f-05e3d92ed16d",
   "metadata": {},
   "source": [
    "#### Análise dos Outliers\n",
    "1.\tOutliers em `order_amount`:\n",
    "    * Os valores altos representam pedidos legítimos de alto valor.\n",
    "    * Não há evidências de erros ou inconsistências nos dados associados.\n",
    "    * **Ação:** Manter os outliers.\n",
    "      \n",
    "&nbsp;\n",
    "\n",
    "2.\tOutliers em `items_missing`:\n",
    "    * Os valores altos (até 3 itens faltantes) são plausíveis e podem indicar problemas logísticos reais.\n",
    "    * Não há evidências de valores absurdos ou erros nos registros.\n",
    "    * **Ação**: Manter os outliers."
   ]
  },
  {
   "cell_type": "markdown",
   "id": "7a7284e0-4f70-4fc4-8f70-ac004ba2724b",
   "metadata": {},
   "source": [
    "### Análise Descritiva\n",
    "* Verificar Distribuição das Variáveis"
   ]
  },
  {
   "cell_type": "code",
   "execution_count": 23,
   "id": "a6b1f2e8-a6fe-4d2a-85e8-3d9f58c7a89a",
   "metadata": {},
   "outputs": [
    {
     "data": {
      "image/png": "[encoded data removed]",
      "text/plain": [
       "<Figure size 800x400 with 1 Axes>"
      ]
     },
     "metadata": {},
     "output_type": "display_data"
    },
    {
     "data": {
      "image/png": "[encoded data removed]",
      "text/plain": [
       "<Figure size 800x400 with 1 Axes>"
      ]
     },
     "metadata": {},
     "output_type": "display_data"
    },
    {
     "data": {
      "image/png": "[encoded data removed]",
      "text/plain": [
       "<Figure size 800x400 with 1 Axes>"
      ]
     },
     "metadata": {},
     "output_type": "display_data"
    }
   ],
   "source": [
    "# Variáveis numéricas\n",
    "numerical_columns = ['order_amount', 'items_delivered', 'items_missing']\n",
    "\n",
    "for col in numerical_columns:\n",
    "    plt.figure(figsize=(8, 4))\n",
    "    sns.histplot(orders[col], kde=True, bins=30, color='blue')\n",
    "    plt.title(f'Distribuição de {col}')\n",
    "    plt.xlabel(col)\n",
    "    plt.ylabel('Frequência')\n",
    "    plt.show()"
   ]
  },
  {
   "cell_type": "markdown",
   "id": "b32e312e-c074-4cb9-9a16-5ed9ccf1b1d3",
   "metadata": {},
   "source": [
    "#### Distribuição do Valor dos Pedidos\n",
    "* A maioria dos valores de \"order_amount\" está concentrada entre 0 e 500, com um pico em torno de 400. Isso indica que a maioria dos pedidos tem valores nessa faixa.\n",
    "* Há uma queda acentuada na frequência após 500, com muito poucos valores de pedidos excedendo 600.\n",
    "\n",
    "\n",
    "#### Distribuição dos Itens Entregues\n",
    "* A distribuição é assimétrica, e uma diminuição na frequência à medida que o número de itens entregues aumenta. Existem muito poucos valores excedendo 15.\n",
    "\n",
    "#### Distribuição de Itens Perdidos\n",
    "* A maioria dos valores perdidos está concentrada em torno de 0, indicando que a maioria dos pedidos tem poucos ou nenhum item perdido.\n",
    "* Há um picos em torno de 1 e 2, sugerindo que alguns pedidos têm 1 item perdido.\n",
    "* Existem muito poucos valores além de 2, indicando que é raro encontrar pedidos com mais de 2 itens faltantes."
   ]
  },
  {
   "cell_type": "code",
   "execution_count": 24,
   "id": "c954ca7c-c5d8-43f9-919f-254864ede46f",
   "metadata": {},
   "outputs": [
    {
     "data": {
      "image/png": "[encoded data removed]",
      "text/plain": [
       "<Figure size 600x400 with 2 Axes>"
      ]
     },
     "metadata": {},
     "output_type": "display_data"
    }
   ],
   "source": [
    "# Matriz de correlação\n",
    "correlation_matrix = orders[['order_amount', 'items_delivered', 'items_missing']].corr()\n",
    "\n",
    "# Heatmap\n",
    "plt.figure(figsize=(6, 4))\n",
    "sns.heatmap(correlation_matrix, annot=True, cmap='coolwarm', fmt='.2f')\n",
    "plt.title('Matriz de Correlação')\n",
    "plt.show()"
   ]
  },
  {
   "cell_type": "markdown",
   "id": "2c7feb91-3a85-45a5-9b12-e28857c3eb0b",
   "metadata": {},
   "source": [
    "* **order_amount e items_delivered (0.01)**: Há uma correlação muito fraca entre o `order_amount` e os `items_deliverd`. Isso sugere que o valor do pedido não está fortemente relacionado ao número de itens entregues.\n",
    "\n",
    "* **order_amount e items_missing (0.13)**: Há uma correlação fraca positiva entre o `order_amount` e os `items_missing`. Isso indica que, à medida que o valor do pedido aumenta, há uma ligeira tendência de aumento no número de itens faltantes, mas essa relação não é forte.\n",
    "\n",
    "* **items_delivered e items_missing (0.01)**: Há uma correlação muito fraca entre os `items_deliverd` e os `items_missing`. Isso sugere que o número de itens entregues não está fortemente relacionado ao número de itens faltantes.\n",
    "\n",
    "Em resumo, as correlações entre essas variáveis são bastante fracas, indicando que não há uma relação forte entre o `valor dos pedidos`, os `itens entregues` e os `itens faltantes`."
   ]
  },
  {
   "cell_type": "markdown",
   "id": "51d93024-0a80-4217-9874-46a71be86847",
   "metadata": {},
   "source": [
    "#### Análise Regional (Pedidos por Região)\n",
    "* Analisar os pedidos por região para identificar áreas com maior volume de pedidos e calcular a taxa média de itens perdidos por região."
   ]
  },
  {
   "cell_type": "code",
   "execution_count": 25,
   "id": "dbb9a09f-5bfa-4081-b240-8cf4153b71ff",
   "metadata": {},
   "outputs": [
    {
     "data": {
      "text/html": [
       "<div>\n",
       "<style scoped>\n",
       "    .dataframe tbody tr th:only-of-type {\n",
       "        vertical-align: middle;\n",
       "    }\n",
       "\n",
       "    .dataframe tbody tr th {\n",
       "        vertical-align: top;\n",
       "    }\n",
       "\n",
       "    .dataframe thead th {\n",
       "        text-align: right;\n",
       "    }\n",
       "</style>\n",
       "<table border=\"1\" class=\"dataframe\">\n",
       "  <thead>\n",
       "    <tr style=\"text-align: right;\">\n",
       "      <th></th>\n",
       "      <th>Número de Pedidos</th>\n",
       "      <th>Número Total de Itens Perdidos</th>\n",
       "      <th>Média de Itens Perdidos</th>\n",
       "      <th>Taxa Média de Itens Perdidos</th>\n",
       "    </tr>\n",
       "    <tr>\n",
       "      <th>region</th>\n",
       "      <th></th>\n",
       "      <th></th>\n",
       "      <th></th>\n",
       "      <th></th>\n",
       "    </tr>\n",
       "  </thead>\n",
       "  <tbody>\n",
       "    <tr>\n",
       "      <th>Altamonte Springs</th>\n",
       "      <td>1426</td>\n",
       "      <td>253</td>\n",
       "      <td>17.741935</td>\n",
       "      <td>3.112516</td>\n",
       "    </tr>\n",
       "    <tr>\n",
       "      <th>Apopka</th>\n",
       "      <td>1422</td>\n",
       "      <td>249</td>\n",
       "      <td>17.510549</td>\n",
       "      <td>3.715102</td>\n",
       "    </tr>\n",
       "    <tr>\n",
       "      <th>Clermont</th>\n",
       "      <td>1384</td>\n",
       "      <td>243</td>\n",
       "      <td>17.557803</td>\n",
       "      <td>3.120694</td>\n",
       "    </tr>\n",
       "    <tr>\n",
       "      <th>Kissimmee</th>\n",
       "      <td>1421</td>\n",
       "      <td>219</td>\n",
       "      <td>15.411682</td>\n",
       "      <td>2.984860</td>\n",
       "    </tr>\n",
       "    <tr>\n",
       "      <th>Orlando</th>\n",
       "      <td>1401</td>\n",
       "      <td>233</td>\n",
       "      <td>16.630978</td>\n",
       "      <td>3.077768</td>\n",
       "    </tr>\n",
       "    <tr>\n",
       "      <th>Sanford</th>\n",
       "      <td>1461</td>\n",
       "      <td>225</td>\n",
       "      <td>15.400411</td>\n",
       "      <td>2.941039</td>\n",
       "    </tr>\n",
       "    <tr>\n",
       "      <th>Winter Park</th>\n",
       "      <td>1485</td>\n",
       "      <td>235</td>\n",
       "      <td>15.824916</td>\n",
       "      <td>2.878266</td>\n",
       "    </tr>\n",
       "  </tbody>\n",
       "</table>\n",
       "</div>"
      ],
      "text/plain": [
       "                   Número de Pedidos  Número Total de Itens Perdidos  \\\n",
       "region                                                                 \n",
       "Altamonte Springs               1426                             253   \n",
       "Apopka                          1422                             249   \n",
       "Clermont                        1384                             243   \n",
       "Kissimmee                       1421                             219   \n",
       "Orlando                         1401                             233   \n",
       "Sanford                         1461                             225   \n",
       "Winter Park                     1485                             235   \n",
       "\n",
       "                   Média de Itens Perdidos  Taxa Média de Itens Perdidos  \n",
       "region                                                                    \n",
       "Altamonte Springs                17.741935                      3.112516  \n",
       "Apopka                           17.510549                      3.715102  \n",
       "Clermont                         17.557803                      3.120694  \n",
       "Kissimmee                        15.411682                      2.984860  \n",
       "Orlando                          16.630978                      3.077768  \n",
       "Sanford                          15.400411                      2.941039  \n",
       "Winter Park                      15.824916                      2.878266  "
      ]
     },
     "execution_count": 25,
     "metadata": {},
     "output_type": "execute_result"
    }
   ],
   "source": [
    "# Calcular o número de pedidos por região\n",
    "region_counts = orders['region'].value_counts()\n",
    "\n",
    "# Calcular a taxa de itens faltantes por pedido\n",
    "orders['missing_rate'] = orders['items_missing'] / orders['items_delivered']\n",
    "\n",
    "# Calcular o número total de itens perdidos por região\n",
    "total_missing_by_region = orders.groupby('region')['items_missing'].sum()\n",
    "\n",
    "# Calcular a média de itens perdidos por região\n",
    "mean_missing_by_region = orders.groupby('region')['items_missing'].mean()\n",
    "\n",
    "# Calcular a taxa média de itens perdidos por região\n",
    "missing_rate_by_region = orders.groupby('region')['missing_rate'].mean()\n",
    "\n",
    "# Criar um DataFrame com os resultados\n",
    "result_df = pd.DataFrame({\n",
    "    'Número de Pedidos': region_counts,\n",
    "    'Número Total de Itens Perdidos': total_missing_by_region,\n",
    "    'Média de Itens Perdidos': mean_missing_by_region *100,\n",
    "    'Taxa Média de Itens Perdidos': missing_rate_by_region *100\n",
    "})\n",
    "\n",
    "\n",
    "# Exibir o DataFrame resultante\n",
    "result_df"
   ]
  },
  {
   "cell_type": "markdown",
   "id": "ea3f9f62-77dc-4eb2-9142-b159b4027837",
   "metadata": {},
   "source": [
    "#### Visualização da Taxa Média de Itens Perdidos por Região\n",
    "* Identificar quais regiões têm uma maior proporção de itens perdidos em relação ao total de itens entregues."
   ]
  },
  {
   "cell_type": "code",
   "execution_count": 26,
   "id": "2675db1c-8081-4b53-8c73-276bd3f135dc",
   "metadata": {},
   "outputs": [
    {
     "data": {
      "image/png": "[encoded data removed]",
      "text/plain": [
       "<Figure size 1000x600 with 1 Axes>"
      ]
     },
     "metadata": {},
     "output_type": "display_data"
    }
   ],
   "source": [
    "\n",
    "# Configurar o tamanho do gráfico\n",
    "plt.figure(figsize=(10, 6))\n",
    "\n",
    "# Criar o gráfico de barras para a taxa média de itens perdidos\n",
    "sns.barplot(x=result_df.index, y=result_df['Taxa Média de Itens Perdidos'], hue =result_df.index)\n",
    "\n",
    "# Personalizar o gráfico\n",
    "plt.title('Taxa Média de Itens Perdidos por Região', fontsize=16)\n",
    "plt.xlabel('Região', fontsize=12)\n",
    "plt.ylabel('Taxa Média de Itens Perdidos (%)', fontsize=12)\n",
    "plt.xticks(rotation=45, fontsize=10)\n",
    "plt.tight_layout()\n",
    "\n",
    "# Mostrar o gráfico\n",
    "plt.show()"
   ]
  },
  {
   "cell_type": "markdown",
   "id": "9e09c844-5a1e-4a8a-8bd9-d89622256bb0",
   "metadata": {},
   "source": [
    "* A região de Apopka apresenta a maior taxa média de itens perdidos, sugerindo que pode haver problemas específicos nessa área que precisam ser investigados e corrigidos.\n",
    "* Para reduzir a taxa de itens perdidos, é importante investigar as causas específicas nas regiões com as maiores taxas e implementar medidas corretivas. Isso pode incluir treinamento adicional para os motoristas, melhorias nos processos de embalagem e entrega, ou outras ações específicas para cada região."
   ]
  },
  {
   "cell_type": "markdown",
   "id": "0e8bf88a-5fc5-4eb6-92b9-a96f6d04a328",
   "metadata": {},
   "source": [
    "#### Taxa Média de Itens Faltantes por Motorista\n",
    "Calcular a taxa média de itens faltantes por motorista. Isso nos ajuda a identificar quais motoristas têm uma maior proporção de itens faltantes em suas entregas."
   ]
  },
  {
   "cell_type": "code",
   "execution_count": 27,
   "id": "be696922-460e-49a1-906d-a5edf24b7697",
   "metadata": {},
   "outputs": [
    {
     "name": "stdout",
     "output_type": "stream",
     "text": [
      "\n",
      "Taxa Média de Itens Faltantes por Motorista:\n"
     ]
    },
    {
     "data": {
      "text/plain": [
       "driver_id\n",
       "WDID10486    0.318182\n",
       "WDID09892    0.248524\n",
       "WDID10318    0.243290\n",
       "WDID10472    0.222727\n",
       "WDID10418    0.210467\n",
       "WDID10061    0.206349\n",
       "WDID10519    0.205682\n",
       "WDID09888    0.204545\n",
       "WDID10224    0.201604\n",
       "WDID10511    0.197403\n",
       "Name: missing_rate, dtype: float64"
      ]
     },
     "execution_count": 27,
     "metadata": {},
     "output_type": "execute_result"
    }
   ],
   "source": [
    "# Taxa média de itens faltantes por motorista\n",
    "missing_rate_by_driver = orders.groupby('driver_id')['missing_rate'].mean().sort_values(ascending=False)\n",
    "print(\"\\nTaxa Média de Itens Faltantes por Motorista:\")\n",
    "missing_rate_by_driver.head(10)"
   ]
  },
  {
   "cell_type": "markdown",
   "id": "28e2075f-48ed-4a45-bb69-68c09725af7b",
   "metadata": {},
   "source": [
    "* O motorista com o ID `WDID10486` tem a maior taxa média de itens faltantes, com aproximadamente 31.8%.\n",
    "\n",
    "* Motoristas com altas taxas médias de itens faltantes podem precisar de uma investigação mais detalhada para entender as causas dos itens faltantes e implementar melhorias nos processos de entrega.\n",
    "\n",
    "* Focar em motoristas com altas taxas de itens faltantes para identificar problemas específicos e implementar medidas corretivas, como treinamento adicional ou melhorias nos processos de embalagem e entrega."
   ]
  },
  {
   "cell_type": "markdown",
   "id": "83567e36-8948-45ec-b00d-2503591e8102",
   "metadata": {},
   "source": [
    "#### Taxa Média de Itens Faltantes por Cliente\n",
    "Para entender melhor a relação entre os clientes e os itens faltantes, calculamos a taxa média de itens faltantes por cliente. Isso nos ajuda a identificar quais clientes têm uma maior proporção de itens faltantes em suas entregas."
   ]
  },
  {
   "cell_type": "code",
   "execution_count": 28,
   "id": "bd08d061-54c6-4d4c-90ee-f1770a092fe8",
   "metadata": {},
   "outputs": [
    {
     "name": "stdout",
     "output_type": "stream",
     "text": [
      "\n",
      "Taxa Média de Itens Faltantes por Cliente:\n"
     ]
    },
    {
     "data": {
      "text/plain": [
       "customer_id\n",
       "WCID5611    0.366667\n",
       "WCID5227    0.343137\n",
       "WCID6085    0.285714\n",
       "WCID5022    0.278571\n",
       "WCID5949    0.259615\n",
       "WCID5748    0.250000\n",
       "WCID5208    0.250000\n",
       "WCID5017    0.250000\n",
       "WCID5713    0.250000\n",
       "WCID5743    0.225000\n",
       "Name: missing_rate, dtype: float64"
      ]
     },
     "execution_count": 28,
     "metadata": {},
     "output_type": "execute_result"
    }
   ],
   "source": [
    "# Taxa média de itens faltantes por cliente\n",
    "missing_rate_by_customer = orders.groupby('customer_id')['missing_rate'].mean().sort_values(ascending=False)\n",
    "print(\"\\nTaxa Média de Itens Faltantes por Cliente:\")\n",
    "missing_rate_by_customer.head(10)"
   ]
  },
  {
   "cell_type": "markdown",
   "id": "e0250461-b6ea-4a9b-9266-20825c2c042b",
   "metadata": {},
   "source": [
    "* O cliente com o ID `WCID5611` tem a maior taxa média de itens faltantes, com aproximadamente 36.7%.\n",
    "* Clientes com altas taxas médias de itens faltantes podem precisar de uma investigação mais detalhada para entender as causas dos itens faltantes e implementar melhorias nos processos de entrega.\n",
    "\n"
   ]
  },
  {
   "cell_type": "markdown",
   "id": "03dbca68-7f1c-4813-af7c-35faa759b73f",
   "metadata": {},
   "source": [
    "#### Número de Pedidos e Itens Perdidos por Mês\n",
    "Para entender melhor a distribuição dos pedidos e dos itens perdidos ao longo do ano, criamos um gráfico de barras que mostra o número de pedidos e o número de itens perdidos por mês."
   ]
  },
  {
   "cell_type": "code",
   "execution_count": 29,
   "id": "4df726af-41e0-49e6-9f6d-57197266b110",
   "metadata": {},
   "outputs": [
    {
     "data": {
      "image/png": "[encoded data removed]",
      "text/plain": [
       "<Figure size 1200x600 with 1 Axes>"
      ]
     },
     "metadata": {},
     "output_type": "display_data"
    }
   ],
   "source": [
    "import calendar  # Importar o módulo calendar\n",
    "import matplotlib.pyplot as plt\n",
    "import seaborn as sns\n",
    "\n",
    "# Garantir que a coluna 'date' esteja no formato datetime\n",
    "orders['date'] = pd.to_datetime(orders['date'])\n",
    "\n",
    "# Criar uma nova coluna com o nome dos meses\n",
    "orders['month_name'] = orders['date'].dt.month.apply(lambda x: calendar.month_name[x])\n",
    "\n",
    "# Número de pedidos por mês\n",
    "orders_per_month = orders.groupby('month_name').size()\n",
    "\n",
    "# Número de itens perdidos por mês\n",
    "items_lost_per_month = orders.groupby('month_name')['items_missing'].sum()\n",
    "\n",
    "# Garantir que os meses estejam em ordem cronológica\n",
    "month_order = list(calendar.month_name)[1:]  # Ignorar o primeiro elemento (vazio)\n",
    "orders_per_month = orders_per_month.reindex(month_order)\n",
    "items_lost_per_month = items_lost_per_month.reindex(month_order)\n",
    "\n",
    "# Criar o gráfico de barras agrupadas\n",
    "plt.figure(figsize=(12, 6))\n",
    "bar_width = 0.4  # Largura de cada barra\n",
    "indices = range(len(month_order))  # Índices para as barras no eixo X\n",
    "\n",
    "# Adicionar as barras\n",
    "plt.bar(indices, orders_per_month, width=bar_width, label='Número de Pedidos', color='skyblue')\n",
    "plt.bar([i + bar_width for i in indices], items_lost_per_month, width=bar_width, label='Número de Itens Perdidos', color='orange')\n",
    "\n",
    "# Personalizar o gráfico\n",
    "plt.title('Número de Pedidos e Itens Perdidos por Mês', fontsize=16)\n",
    "plt.xlabel('Mês', fontsize=12)\n",
    "plt.ylabel('Quantidade', fontsize=12)\n",
    "plt.xticks([i + bar_width / 2 for i in indices], month_order, rotation=45, fontsize=10)\n",
    "plt.legend(fontsize=10)\n",
    "plt.grid(axis='y', linestyle='--', alpha=0.7)\n",
    "\n",
    "# Mostrar o gráfico\n",
    "plt.tight_layout()\n",
    "plt.show()"
   ]
  },
  {
   "cell_type": "markdown",
   "id": "2ed27516-3814-42df-9022-d84fd3a7fcd4",
   "metadata": {},
   "source": [
    "* O número de pedidos é relativamente consistente ao longo do ano, com pequenas variações mensais.\n",
    "* A consistência no número de itens perdidos ao longo dos meses sugere que fatores sazonais não têm um impacto significativo nas perdas."
   ]
  },
  {
   "cell_type": "markdown",
   "id": "8fbab335-0e98-400f-bdb8-13023f439533",
   "metadata": {},
   "source": [
    "#### Itens Perdidos por Faixa de Tamanho do Pedido\n",
    "Entender a relação entre o tamanho do pedido e a quantidade de itens perdidos em diferentes faixas de tamanho."
   ]
  },
  {
   "cell_type": "code",
   "execution_count": 30,
   "id": "ed85d06d-f404-4880-8d1e-f30379040bd3",
   "metadata": {},
   "outputs": [
    {
     "name": "stderr",
     "output_type": "stream",
     "text": [
      "/var/folders/cl/xvlm11r503z804x79nzjhsbr0000gn/T/ipykernel_6457/3502033110.py:6: FutureWarning: The default of observed=False is deprecated and will be changed to True in a future version of pandas. Pass observed=False to retain current behavior or observed=True to adopt the future default and silence this warning.\n",
      "  grouped = orders.groupby('items_range')['items_missing'].mean()\n"
     ]
    },
    {
     "data": {
      "image/png": "[encoded data removed]",
      "text/plain": [
       "<Figure size 800x500 with 1 Axes>"
      ]
     },
     "metadata": {},
     "output_type": "display_data"
    }
   ],
   "source": [
    "# Criar faixas de tamanho do pedido\n",
    "orders['items_range'] = pd.cut(orders['items_delivered'], bins=[0, 5, 10, 15, 20], \n",
    "                               labels=['1-5', '6-10', '11-15', '16-20'])\n",
    "\n",
    "# Calcular a média de itens perdidos por faixa de tamanho do pedido\n",
    "grouped = orders.groupby('items_range')['items_missing'].mean()\n",
    "\n",
    "# Criar gráfico de barras\n",
    "plt.figure(figsize=(8, 5))\n",
    "sns.barplot(x=grouped.index, y=grouped.values, hue=grouped.index)\n",
    "\n",
    "# Personalizar\n",
    "plt.title('Itens Perdidos por Faixa de Tamanho do Pedido', fontsize=16)\n",
    "plt.xlabel('Faixa de Tamanho do Pedido', fontsize=12)\n",
    "plt.ylabel('Média de Itens Perdidos', fontsize=12)\n",
    "plt.grid(axis='y', alpha=0.3)\n",
    "\n",
    "# Mostrar o gráfico\n",
    "plt.tight_layout()\n",
    "plt.show()"
   ]
  },
  {
   "cell_type": "markdown",
   "id": "f576050c-1edf-4284-b447-07b1be6c6b61",
   "metadata": {},
   "source": [
    "* Observamos que a faixa de tamanho de pedido 16-20 tem a maior média de itens perdidos, com aproximadamente 0.175 itens perdidos em média.\n",
    "* Pedidos na faixa de tamanho 16-20 têm a maior média de itens perdidos, sugerindo que pedidos de tamanho médio-alto podem estar mais propensos a perdas. Isso pode ser devido a dificuldades logísticas ou de manuseio.\n",
    "* Para reduzir a quantidade de itens perdidos, é importante investigar as causas específicas das perdas em pedidos de tamanho médio-alto e implementar melhorias nos processos de embalagem e entrega."
   ]
  },
  {
   "cell_type": "markdown",
   "id": "e2f87c31-e8f8-432e-8607-4d8bf5f3e7c4",
   "metadata": {},
   "source": [
    "### Relatório dataset `orders`\n",
    "Realizamos uma análise exploratória detalhada do dataset `orders`, com foco em entender padrões relacionados a valores dos pedidos, itens entregues, itens faltantes e variáveis associadas a motoristas, clientes, regiões e tamanhos de pedidos.\n",
    "\n",
    "#### Recomendações\n",
    "1. **Regiões Problemáticas:**\n",
    "    * Realizar auditorias logísticas na região de Apopka para identificar problemas específicos (ex.: rotas ineficientes, motoristas associados).\n",
    "    * Implementar melhorias nos processos logísticos para reduzir perdas em regiões críticas.\n",
    "2. **Motoristas com Altas Taxas Médias:**\n",
    "    * Investigar motoristas como WDID10486 para identificar possíveis desvios ou problemas operacionais.\n",
    "    * Oferecer treinamento adicional aos motoristas problemáticos para melhorar a eficiência e reduzir erros.\n",
    "    * Monitorar motoristas reincidentes em reclamações e implementar auditorias regulares.\n",
    "3. **Clientes com Altas Taxas Médias:**\n",
    "    * Monitorar clientes como WCID5611 para verificar se há padrões consistentes que indiquem fraudes do consumidor.\n",
    "    * Implementar verificações adicionais para pedidos feitos por clientes reincidentes em reclamações (ex.: confirmação fotográfica dos produtos entregues).\n",
    "4. **Pedidos Maiores (16–20 Itens):**\n",
    "    * Revisar os processos logísticos e de manuseio para pedidos maiores, garantindo que sejam embalados e transportados adequadamente.\n",
    "    * Implementar verificações adicionais para pedidos grandes antes da entrega final.\n",
    "5. **Impacto Temporal:**\n",
    "    * Continuar monitorando os dados ao longo do tempo para garantir que os padrões identificados sejam consistentes e não sejam afetados por fatores sazonais futuros."
   ]
  },
  {
   "cell_type": "markdown",
   "id": "67f8155a-f335-406f-90ee-438c5ea3f9e8",
   "metadata": {},
   "source": [
    "#### Sugestões\n",
    "Tipos de dados que poderiam ser adicionados ao seu dataset para melhorar a qualidade das análises e permitir insights mais profundos:\n",
    "1. **Condições das Entregas:**\n",
    "    * Registro de avarias nos produtos entregues.\n",
    "    * **Por quê?** Ajuda a identificar problemas no manuseio ou transporte.\n",
    "2. **Tempo Médio de Entrega:**\n",
    "    * Tempo total desde a saída do centro de distribuição até a entrega final.\n",
    "    * **Por quê?** Pode indicar gargalos logísticos em determinadas rotas ou regiões.\n",
    "3. **Condições Climáticas Durante as Entregas:**\n",
    "    * Registro das condições climáticas (ex.: chuva, calor extremo) no momento das entregas.\n",
    "    * **Por quê?** Pode influenciar diretamente na eficiência logística e na segurança das entregas.\n",
    "4. **Feedback dos Clientes:**\n",
    "    * Avaliação da experiência do cliente com a entrega (ex.: pontualidade, condição dos produtos).\n",
    "\t* **Por quê?** Pode fornecer insights qualitativos sobre os problemas enfrentados."
   ]
  },
  {
   "cell_type": "markdown",
   "id": "6e322016-b70b-4eef-8586-314fad9392ed",
   "metadata": {},
   "source": [
    "## 3. Missing Data"
   ]
  },
  {
   "cell_type": "markdown",
   "id": "5a24fa6f-3161-46d5-9281-2f6e263f42ac",
   "metadata": {},
   "source": [
    "### Exploração Inicial\n",
    "* #### Verificando Valores Ausentes"
   ]
  },
  {
   "cell_type": "code",
   "execution_count": 31,
   "id": "af744249-aa9a-4c91-9c1e-bde60c9e3f09",
   "metadata": {},
   "outputs": [
    {
     "data": {
      "text/plain": [
       "order_id           0\n",
       "product_id_1       0\n",
       "product_id_2    1358\n",
       "product_id_3    1483\n",
       "dtype: int64"
      ]
     },
     "execution_count": 31,
     "metadata": {},
     "output_type": "execute_result"
    }
   ],
   "source": [
    "missing_data.isnull().sum()"
   ]
  },
  {
   "cell_type": "markdown",
   "id": "6cef6ef1-53b2-4aaa-819e-a44269aba730",
   "metadata": {},
   "source": [
    "* #### Analisar Estrutura do Dataset"
   ]
  },
  {
   "cell_type": "code",
   "execution_count": 32,
   "id": "2a7d056d-30b0-4372-ba79-e79e344ddfa5",
   "metadata": {},
   "outputs": [
    {
     "name": "stdout",
     "output_type": "stream",
     "text": [
      "<class 'pandas.core.frame.DataFrame'>\n",
      "RangeIndex: 1501 entries, 0 to 1500\n",
      "Data columns (total 4 columns):\n",
      " #   Column        Non-Null Count  Dtype \n",
      "---  ------        --------------  ----- \n",
      " 0   order_id      1501 non-null   object\n",
      " 1   product_id_1  1501 non-null   object\n",
      " 2   product_id_2  143 non-null    object\n",
      " 3   product_id_3  18 non-null     object\n",
      "dtypes: object(4)\n",
      "memory usage: 47.0+ KB\n"
     ]
    }
   ],
   "source": [
    "missing_data.info()"
   ]
  },
  {
   "cell_type": "markdown",
   "id": "6d6de793-93f2-406c-9f94-95e1d4659267",
   "metadata": {},
   "source": [
    "* As colunas `product_id_2` e `product_id_3` possuem muitos valores ausentes, o que é esperado, pois nem todos os pedidos têm múltiplos produtos faltantes.\n",
    "* Nenhuma ação de preenchimento é necessária no momento para esses valores ausentes, já que eles representam a estrutura natural dos dados."
   ]
  },
  {
   "cell_type": "markdown",
   "id": "7e8ed2a6-c4b0-4864-b4ae-14540f80286e",
   "metadata": {},
   "source": [
    "#### Verificar Valores Unicos nas Colunas\n",
    "* Realizar uma análise para verificar a quantidade de valores unicos presentes em cada coluna"
   ]
  },
  {
   "cell_type": "code",
   "execution_count": 33,
   "id": "5e83dbbf-df11-49ba-b6f8-a1f995a3942d",
   "metadata": {},
   "outputs": [
    {
     "name": "stdout",
     "output_type": "stream",
     "text": [
      "Valores únicos por coluna:\n",
      "order_id: 1501\n",
      "product_id_1: 145\n",
      "product_id_2: 103\n",
      "product_id_3: 18\n"
     ]
    }
   ],
   "source": [
    "# Verificar valores únicos em cada coluna de produtos\n",
    "print(\"Valores únicos por coluna:\")\n",
    "print('order_id:', missing_data['order_id'].nunique())\n",
    "print(\"product_id_1:\", missing_data['product_id_1'].nunique())\n",
    "print(\"product_id_2:\", missing_data['product_id_2'].nunique())\n",
    "print(\"product_id_3:\", missing_data['product_id_3'].nunique())\n"
   ]
  },
  {
   "cell_type": "markdown",
   "id": "01f451fb-5f55-40a9-9fbe-e547c570171e",
   "metadata": {},
   "source": [
    "* A coluna `order_id`está limpa e sem duplicatas.\n",
    "* A diversidade de produtos dimunui à medida que avançamos de `product_id_1` para `product_id_3`, o que é esperado, já que menos pedidos tem multiplos produtos faltantes  "
   ]
  },
  {
   "cell_type": "markdown",
   "id": "42145e73-7a74-4dae-92e6-9a2e84bae3b4",
   "metadata": {},
   "source": [
    "#### Combinar Produtos Não Entregues em um Lista Unica\n",
    "* Combinar todos os produtos reportados como não entregues em uma unica coluna\n",
    "* Lidar com valores ausentes (`NaN`) para simplificar análises futuras."
   ]
  },
  {
   "cell_type": "code",
   "execution_count": 34,
   "id": "d250d2e8-b397-4225-9e1d-f3c3d6f67961",
   "metadata": {},
   "outputs": [
    {
     "name": "stdout",
     "output_type": "stream",
     "text": [
      "Valores Ausentes\n",
      "order_id            0\n",
      "products_missing    0\n",
      "dtype: int64\n"
     ]
    },
    {
     "data": {
      "text/html": [
       "<div>\n",
       "<style scoped>\n",
       "    .dataframe tbody tr th:only-of-type {\n",
       "        vertical-align: middle;\n",
       "    }\n",
       "\n",
       "    .dataframe tbody tr th {\n",
       "        vertical-align: top;\n",
       "    }\n",
       "\n",
       "    .dataframe thead th {\n",
       "        text-align: right;\n",
       "    }\n",
       "</style>\n",
       "<table border=\"1\" class=\"dataframe\">\n",
       "  <thead>\n",
       "    <tr style=\"text-align: right;\">\n",
       "      <th></th>\n",
       "      <th>order_id</th>\n",
       "      <th>product_id_1</th>\n",
       "      <th>product_id_2</th>\n",
       "      <th>product_id_3</th>\n",
       "      <th>products_missing</th>\n",
       "    </tr>\n",
       "  </thead>\n",
       "  <tbody>\n",
       "    <tr>\n",
       "      <th>0</th>\n",
       "      <td>c7a343f7-3f1d-497c-8004-b9ede2d48fb1</td>\n",
       "      <td>PWPX0982761090982</td>\n",
       "      <td>PWPX0982761090982</td>\n",
       "      <td>PWPX0982761090982</td>\n",
       "      <td>[PWPX0982761090982, PWPX0982761090982, PWPX098...</td>\n",
       "    </tr>\n",
       "    <tr>\n",
       "      <th>1</th>\n",
       "      <td>20698293-8399-4fda-af1e-b61a9ebb8a0a</td>\n",
       "      <td>PWPX0982761090983</td>\n",
       "      <td>PWPX0982761090983</td>\n",
       "      <td>PWPX0982761090983</td>\n",
       "      <td>[PWPX0982761090983, PWPX0982761090983, PWPX098...</td>\n",
       "    </tr>\n",
       "    <tr>\n",
       "      <th>2</th>\n",
       "      <td>d7f690a0-c1c2-4b36-b05f-2b7e641ea1ac</td>\n",
       "      <td>PWPX0982761090984</td>\n",
       "      <td>PWPX0982761090984</td>\n",
       "      <td>PWPX0982761090984</td>\n",
       "      <td>[PWPX0982761090984, PWPX0982761090984, PWPX098...</td>\n",
       "    </tr>\n",
       "    <tr>\n",
       "      <th>3</th>\n",
       "      <td>d5cea1eb-7016-451b-9426-51973f4d6e14</td>\n",
       "      <td>PWPX0982761090985</td>\n",
       "      <td>PWPX0982761090985</td>\n",
       "      <td>PWPX0982761090985</td>\n",
       "      <td>[PWPX0982761090985, PWPX0982761090985, PWPX098...</td>\n",
       "    </tr>\n",
       "    <tr>\n",
       "      <th>4</th>\n",
       "      <td>2f7cbda8-793a-4a1d-bb66-3a514bee5dc4</td>\n",
       "      <td>PWPX0982761090986</td>\n",
       "      <td>PWPX0982761090986</td>\n",
       "      <td>PWPX0982761090986</td>\n",
       "      <td>[PWPX0982761090986, PWPX0982761090986, PWPX098...</td>\n",
       "    </tr>\n",
       "  </tbody>\n",
       "</table>\n",
       "</div>"
      ],
      "text/plain": [
       "                               order_id       product_id_1       product_id_2  \\\n",
       "0  c7a343f7-3f1d-497c-8004-b9ede2d48fb1  PWPX0982761090982  PWPX0982761090982   \n",
       "1  20698293-8399-4fda-af1e-b61a9ebb8a0a  PWPX0982761090983  PWPX0982761090983   \n",
       "2  d7f690a0-c1c2-4b36-b05f-2b7e641ea1ac  PWPX0982761090984  PWPX0982761090984   \n",
       "3  d5cea1eb-7016-451b-9426-51973f4d6e14  PWPX0982761090985  PWPX0982761090985   \n",
       "4  2f7cbda8-793a-4a1d-bb66-3a514bee5dc4  PWPX0982761090986  PWPX0982761090986   \n",
       "\n",
       "        product_id_3                                   products_missing  \n",
       "0  PWPX0982761090982  [PWPX0982761090982, PWPX0982761090982, PWPX098...  \n",
       "1  PWPX0982761090983  [PWPX0982761090983, PWPX0982761090983, PWPX098...  \n",
       "2  PWPX0982761090984  [PWPX0982761090984, PWPX0982761090984, PWPX098...  \n",
       "3  PWPX0982761090985  [PWPX0982761090985, PWPX0982761090985, PWPX098...  \n",
       "4  PWPX0982761090986  [PWPX0982761090986, PWPX0982761090986, PWPX098...  "
      ]
     },
     "execution_count": 34,
     "metadata": {},
     "output_type": "execute_result"
    }
   ],
   "source": [
    "# Combinar produtos não entregues em uma lista única\n",
    "missing_data['products_missing'] = missing_data[['product_id_1', 'product_id_2', 'product_id_3']].apply(\n",
    "    lambda row: [p for p in row if pd.notnull(p)], axis=1\n",
    ")\n",
    "\n",
    "print('Valores Ausentes')\n",
    "print(missing_data[['order_id', 'products_missing']].isnull().sum()) # Verificar se existe valores nulos)\n",
    "\n",
    "# Visualizar a nova coluna\n",
    "missing_data.head()"
   ]
  },
  {
   "cell_type": "markdown",
   "id": "38cde83f-fc0f-4d63-99be-37fc85b4ebc9",
   "metadata": {},
   "source": [
    "* A combinação facilita a contagem do numero total de produtos não entregues por pedido e permite identificar padrões nos produtos mais frequentemente reportados como faltantes."
   ]
  },
  {
   "cell_type": "markdown",
   "id": "6742f9a8-14f3-45d4-bb8b-90dd97957f49",
   "metadata": {},
   "source": [
    "#### Análise Estatística \n",
    "* Contar produtos não entregues por pedido\n",
    "* Resumo estatístico da contagem de produtos não entregues\n",
    "  "
   ]
  },
  {
   "cell_type": "code",
   "execution_count": 35,
   "id": "e91a93aa-8e1c-4e9a-964c-ed63f6632424",
   "metadata": {},
   "outputs": [
    {
     "data": {
      "text/plain": [
       "count    1501.000000\n",
       "mean        1.107262\n",
       "std         0.346151\n",
       "min         1.000000\n",
       "25%         1.000000\n",
       "50%         1.000000\n",
       "75%         1.000000\n",
       "max         3.000000\n",
       "Name: num_products_missing, dtype: float64"
      ]
     },
     "execution_count": 35,
     "metadata": {},
     "output_type": "execute_result"
    }
   ],
   "source": [
    "# Contar o número de produtos faltantes por pedido\n",
    "missing_data['num_products_missing'] = missing_data['products_missing'].apply(len)\n",
    "\n",
    "# Resumo estatístico da contagem de produtos faltantes\n",
    "missing_data['num_products_missing'].describe()"
   ]
  },
  {
   "cell_type": "markdown",
   "id": "afc2a481-64bb-4b6d-8083-cc8bc14c171f",
   "metadata": {},
   "source": [
    "* Pedidos com mais de 1 produto faltante podem indicar problemas específicos, como falhas logísticas ou operacionais em pedidos maiores.\n",
    "* Pedidos com até 3 produtos faltantes são raros e podem ser analisados separadamente para identificar padrões ou anomalias."
   ]
  },
  {
   "cell_type": "markdown",
   "id": "36bb1b42-1429-46ad-8cd0-fc79c074620d",
   "metadata": {},
   "source": [
    "#### Produtos Mais Frequentemente Reportados Como Faltantes\n",
    "* Realizar uma análise para identificar os produtos mais frequentemente reportados como não entregues"
   ]
  },
  {
   "cell_type": "code",
   "execution_count": 36,
   "id": "4e2d5a8c-e47a-43c6-889c-32a21e0054bf",
   "metadata": {},
   "outputs": [
    {
     "name": "stdout",
     "output_type": "stream",
     "text": [
      "Produtos mais frequentemente reportados como faltantes:\n"
     ]
    },
    {
     "data": {
      "text/plain": [
       "[('PWPX0982761090993', 19),\n",
       " ('PWPX0982761090997', 19),\n",
       " ('PWPX0982761090987', 18),\n",
       " ('PWPX0982761090983', 17),\n",
       " ('PWPX0982761090992', 17),\n",
       " ('PWPX0982761090994', 17),\n",
       " ('PWPX0982761091078', 17),\n",
       " ('PWPX0982761091013', 16),\n",
       " ('PWPX0982761091054', 16),\n",
       " ('PWPX0982761090982', 15)]"
      ]
     },
     "execution_count": 36,
     "metadata": {},
     "output_type": "execute_result"
    }
   ],
   "source": [
    "from collections import Counter\n",
    "\n",
    "# Combinar todos os produtos não entregues em uma lista única\n",
    "all_missing_products = [p for products in missing_data['products_missing'] for p in products]\n",
    "\n",
    "# Contar frequência de cada produto faltante\n",
    "product_counts = Counter(all_missing_products)\n",
    "\n",
    "# Exibir os 10 produtos mais frequentemente reportados como faltantes\n",
    "print(\"Produtos mais frequentemente reportados como faltantes:\")\n",
    "product_counts.most_common(10)"
   ]
  },
  {
   "cell_type": "markdown",
   "id": "cba3f8fa-156c-4afb-9a3a-f533f33784da",
   "metadata": {},
   "source": [
    "* Esses produtos podem ser investigados mais profundamente para identificar padrões, como categorias específicas ou regiões onde esses itens são mais frequentemente reportados.\n",
    "* A frequência de cada produto foi contada utilizando a biblioteca `collections.Counter`."
   ]
  },
  {
   "cell_type": "markdown",
   "id": "90adaa63-2ca1-4f01-8441-bdae178242b8",
   "metadata": {},
   "source": [
    "### Relatório dataset `missing_data`\n",
    "Realizada uma análise exploratória detalhada do dataset `missing_data`, que contém informações sobre produtos não entregues em pedidos.\n",
    "\n",
    "#### Recomendações\n",
    "1. **Auditorias Logísticas para Produtos Mais Reportados:**\n",
    "    * Realizar auditorias nos processos logísticos para os produtos mais frequentemente reportados como faltantes (ex.: `'PWPX0982761090993'`, `'PWPX0982761090987'`).\n",
    "    * Verificar se há padrões relacionados a motoristas, regiões ou horários específicos para esses produtos.\n",
    "2.\t**Monitoramento de Pedidos com Múltiplos Itens Faltantes:**\n",
    "    * Implementar verificações adicionais para pedidos com mais de 1 produto faltante, pois podem estar associados a falhas operacionais recorrentes.\n",
    "3.\t**Melhorias no Manuseio e Embalagem:**\n",
    "    * Revisar os processos de manuseio e embalagem dos produtos mais frequentemente reportados como faltantes para identificar possíveis vulnerabilidades.\n",
    "4.\t**Treinamento Adicional para Motoristas:**\n",
    "    * Oferecer treinamento específico aos motoristas associados a pedidos com múltiplos itens faltantes para reduzir erros durante o transporte."
   ]
  },
  {
   "cell_type": "markdown",
   "id": "5fa1874e-f1e3-466a-a670-413deba92971",
   "metadata": {},
   "source": [
    "## 4. Drivers Data"
   ]
  },
  {
   "cell_type": "markdown",
   "id": "3adf9938-6633-4c18-b3ee-c52e829d0bd7",
   "metadata": {},
   "source": [
    "### Exploração Inicial\n",
    "* #### Verificar Valores Ausentes"
   ]
  },
  {
   "cell_type": "code",
   "execution_count": 37,
   "id": "2d34f403-2bf0-43cb-b3c8-37dd0ad20464",
   "metadata": {},
   "outputs": [
    {
     "data": {
      "text/plain": [
       "driver_id      0\n",
       "driver_name    0\n",
       "age            0\n",
       "Trips          0\n",
       "dtype: int64"
      ]
     },
     "execution_count": 37,
     "metadata": {},
     "output_type": "execute_result"
    }
   ],
   "source": [
    "drivers_data.isnull().sum()"
   ]
  },
  {
   "cell_type": "markdown",
   "id": "37848248-6cad-4beb-b1db-78edd34beda0",
   "metadata": {},
   "source": [
    "Não foram encontrados valores ausentes em nenhuma das colunas do dataset"
   ]
  },
  {
   "cell_type": "markdown",
   "id": "1d6e5b30-70af-4384-8334-128546c162ae",
   "metadata": {},
   "source": [
    "* #### Analisar Estrutura do Dataset"
   ]
  },
  {
   "cell_type": "code",
   "execution_count": 38,
   "id": "e99a8cc9-c255-4ea0-91ce-ed8a71011468",
   "metadata": {},
   "outputs": [
    {
     "name": "stdout",
     "output_type": "stream",
     "text": [
      "<class 'pandas.core.frame.DataFrame'>\n",
      "RangeIndex: 1247 entries, 0 to 1246\n",
      "Data columns (total 4 columns):\n",
      " #   Column       Non-Null Count  Dtype \n",
      "---  ------       --------------  ----- \n",
      " 0   driver_id    1247 non-null   object\n",
      " 1   driver_name  1247 non-null   object\n",
      " 2   age          1247 non-null   int64 \n",
      " 3   Trips        1247 non-null   int64 \n",
      "dtypes: int64(2), object(2)\n",
      "memory usage: 39.1+ KB\n"
     ]
    }
   ],
   "source": [
    "drivers_data.info()"
   ]
  },
  {
   "cell_type": "markdown",
   "id": "f5fbd1bd-3e25-42f1-a0c9-a10d80f783b2",
   "metadata": {},
   "source": [
    "Os dados tipos de dados estao corretos e não é necessário realizar ajustes nos tipos de dados."
   ]
  },
  {
   "cell_type": "markdown",
   "id": "9d8d2fbd-914e-417f-a00d-26871b272bce",
   "metadata": {},
   "source": [
    "#### Visualizar Primeiras Linhas do Dataset"
   ]
  },
  {
   "cell_type": "code",
   "execution_count": 39,
   "id": "a809891d-82dd-4577-8088-6ffa289a5450",
   "metadata": {},
   "outputs": [
    {
     "data": {
      "text/html": [
       "<div>\n",
       "<style scoped>\n",
       "    .dataframe tbody tr th:only-of-type {\n",
       "        vertical-align: middle;\n",
       "    }\n",
       "\n",
       "    .dataframe tbody tr th {\n",
       "        vertical-align: top;\n",
       "    }\n",
       "\n",
       "    .dataframe thead th {\n",
       "        text-align: right;\n",
       "    }\n",
       "</style>\n",
       "<table border=\"1\" class=\"dataframe\">\n",
       "  <thead>\n",
       "    <tr style=\"text-align: right;\">\n",
       "      <th></th>\n",
       "      <th>driver_id</th>\n",
       "      <th>driver_name</th>\n",
       "      <th>age</th>\n",
       "      <th>Trips</th>\n",
       "    </tr>\n",
       "  </thead>\n",
       "  <tbody>\n",
       "    <tr>\n",
       "      <th>0</th>\n",
       "      <td>WDID09873</td>\n",
       "      <td>Pamela Moore</td>\n",
       "      <td>18</td>\n",
       "      <td>64</td>\n",
       "    </tr>\n",
       "    <tr>\n",
       "      <th>1</th>\n",
       "      <td>WDID09874</td>\n",
       "      <td>Billy Lawson</td>\n",
       "      <td>18</td>\n",
       "      <td>37</td>\n",
       "    </tr>\n",
       "    <tr>\n",
       "      <th>2</th>\n",
       "      <td>WDID09875</td>\n",
       "      <td>Stephen Randolph</td>\n",
       "      <td>18</td>\n",
       "      <td>64</td>\n",
       "    </tr>\n",
       "    <tr>\n",
       "      <th>3</th>\n",
       "      <td>WDID09876</td>\n",
       "      <td>Jordan Daniel</td>\n",
       "      <td>18</td>\n",
       "      <td>53</td>\n",
       "    </tr>\n",
       "    <tr>\n",
       "      <th>4</th>\n",
       "      <td>WDID09877</td>\n",
       "      <td>James White</td>\n",
       "      <td>18</td>\n",
       "      <td>14</td>\n",
       "    </tr>\n",
       "  </tbody>\n",
       "</table>\n",
       "</div>"
      ],
      "text/plain": [
       "   driver_id       driver_name  age  Trips\n",
       "0  WDID09873      Pamela Moore   18     64\n",
       "1  WDID09874      Billy Lawson   18     37\n",
       "2  WDID09875  Stephen Randolph   18     64\n",
       "3  WDID09876     Jordan Daniel   18     53\n",
       "4  WDID09877       James White   18     14"
      ]
     },
     "execution_count": 39,
     "metadata": {},
     "output_type": "execute_result"
    }
   ],
   "source": [
    "drivers_data.head()"
   ]
  },
  {
   "cell_type": "markdown",
   "id": "0cc8e37f-067d-407d-af27-83245a5af119",
   "metadata": {},
   "source": [
    "#### Verificar de Valores Unicos"
   ]
  },
  {
   "cell_type": "code",
   "execution_count": 40,
   "id": "2fb3e24f-06d1-4495-a849-c437fb17c83a",
   "metadata": {},
   "outputs": [
    {
     "name": "stdout",
     "output_type": "stream",
     "text": [
      "driver_id: 1247\n",
      "driver_name: 1229\n"
     ]
    }
   ],
   "source": [
    "print(\"driver_id:\", drivers_data['driver_id'].nunique())\n",
    "print(\"driver_name:\", drivers_data['driver_name'].nunique())"
   ]
  },
  {
   "cell_type": "markdown",
   "id": "0ac09408-fe7c-474a-9716-7cef91e6f342",
   "metadata": {},
   "source": [
    "* A coluna `driver_id` está consistente e única para cada motorista.\n",
    "* A coluna `driver_name` apresenta 18 nomes duplicados, o que pode indicar:\n",
    "    * Motoristas diferentes que compartilham o mesmo nome (ex.: nomes comuns).\n",
    "    * Possíveis duplicatas ou inconsistências nos dados."
   ]
  },
  {
   "cell_type": "markdown",
   "id": "b76837bb-ab7d-40bf-a463-92bf6ed6bb43",
   "metadata": {},
   "source": [
    "#### Verificar Relação Entre Nomes Duplicados e IDs Unicos\n",
    "* Realizar uma análise para identificar motoristas com nomes duplicados (`driver_name`) e verificar os IDs únicos (`driver_id`) associados a esses nomes.\n",
    "* Entender se os nomes duplicados representam motoristas diferentes ou possíveis inconsistências nos dados."
   ]
  },
  {
   "cell_type": "code",
   "execution_count": 41,
   "id": "ca68efe5-21d7-4eb0-a10d-2c75b855fa8d",
   "metadata": {},
   "outputs": [
    {
     "name": "stdout",
     "output_type": "stream",
     "text": [
      "Relação entre nomes duplicados e IDs:\n"
     ]
    },
    {
     "data": {
      "text/plain": [
       "driver_name\n",
       "Ashley Brown              [WDID10398, WDID10984]\n",
       "Brittany Morgan           [WDID10082, WDID10282]\n",
       "Christopher Richardson    [WDID10767, WDID10786]\n",
       "Daniel Hall               [WDID10222, WDID10434]\n",
       "David Davis               [WDID10352, WDID11054]\n",
       "Jasmine Smith             [WDID10529, WDID10286]\n",
       "Jennifer Martin           [WDID10639, WDID10803]\n",
       "Jennifer Miller           [WDID10613, WDID10668]\n",
       "Jeremy Allen              [WDID10623, WDID10005]\n",
       "Jessica Patterson         [WDID10489, WDID09991]\n",
       "John Hutchinson           [WDID10635, WDID10856]\n",
       "Matthew Brown             [WDID10527, WDID10147]\n",
       "Michael Martin            [WDID10249, WDID10963]\n",
       "Patricia Vance            [WDID10447, WDID09902]\n",
       "Scott Wallace             [WDID10536, WDID11006]\n",
       "Timothy Brown             [WDID10506, WDID10517]\n",
       "William Brown             [WDID10645, WDID09920]\n",
       "William Tucker            [WDID10775, WDID10934]\n",
       "Name: driver_id, dtype: object"
      ]
     },
     "execution_count": 41,
     "metadata": {},
     "output_type": "execute_result"
    }
   ],
   "source": [
    "# Contar os nomes duplicados\n",
    "duplicated_names = drivers_data['driver_name'].value_counts()[drivers_data['driver_name'].value_counts() > 1]\n",
    "\n",
    "# Filtrar os registros com nomes duplicados\n",
    "duplicated_drivers = drivers_data[drivers_data['driver_name'].isin(duplicated_names.index)]\n",
    "\n",
    "# Verificar a relação entre os nomes duplicados e os IDs únicos\n",
    "relation = duplicated_drivers.groupby('driver_name')['driver_id'].apply(list)\n",
    "print(\"Relação entre nomes duplicados e IDs:\")\n",
    "relation\n"
   ]
  },
  {
   "cell_type": "markdown",
   "id": "f8d0529d-dff9-4eac-8e8a-bb011b4db0b7",
   "metadata": {},
   "source": [
    "* #### Comparar Idade e Numero de viagens para Motoristas com Nomes Duplicados"
   ]
  },
  {
   "cell_type": "code",
   "execution_count": 42,
   "id": "2533cf03-ced1-480a-86b7-7bf7114c65b1",
   "metadata": {},
   "outputs": [
    {
     "data": {
      "text/html": [
       "<div>\n",
       "<style scoped>\n",
       "    .dataframe tbody tr th:only-of-type {\n",
       "        vertical-align: middle;\n",
       "    }\n",
       "\n",
       "    .dataframe tbody tr th {\n",
       "        vertical-align: top;\n",
       "    }\n",
       "\n",
       "    .dataframe thead th {\n",
       "        text-align: right;\n",
       "    }\n",
       "</style>\n",
       "<table border=\"1\" class=\"dataframe\">\n",
       "  <thead>\n",
       "    <tr style=\"text-align: right;\">\n",
       "      <th></th>\n",
       "      <th></th>\n",
       "      <th>age</th>\n",
       "      <th>Trips</th>\n",
       "    </tr>\n",
       "    <tr>\n",
       "      <th>driver_name</th>\n",
       "      <th></th>\n",
       "      <th></th>\n",
       "      <th></th>\n",
       "    </tr>\n",
       "  </thead>\n",
       "  <tbody>\n",
       "    <tr>\n",
       "      <th rowspan=\"2\" valign=\"top\">Ashley Brown</th>\n",
       "      <th>828</th>\n",
       "      <td>24</td>\n",
       "      <td>72</td>\n",
       "    </tr>\n",
       "    <tr>\n",
       "      <th>1112</th>\n",
       "      <td>53</td>\n",
       "      <td>33</td>\n",
       "    </tr>\n",
       "    <tr>\n",
       "      <th rowspan=\"2\" valign=\"top\">Brittany Morgan</th>\n",
       "      <th>48</th>\n",
       "      <td>19</td>\n",
       "      <td>60</td>\n",
       "    </tr>\n",
       "    <tr>\n",
       "      <th>740</th>\n",
       "      <td>19</td>\n",
       "      <td>76</td>\n",
       "    </tr>\n",
       "    <tr>\n",
       "      <th rowspan=\"2\" valign=\"top\">Christopher Richardson</th>\n",
       "      <th>895</th>\n",
       "      <td>46</td>\n",
       "      <td>12</td>\n",
       "    </tr>\n",
       "    <tr>\n",
       "      <th>914</th>\n",
       "      <td>60</td>\n",
       "      <td>43</td>\n",
       "    </tr>\n",
       "    <tr>\n",
       "      <th rowspan=\"2\" valign=\"top\">Daniel Hall</th>\n",
       "      <th>74</th>\n",
       "      <td>20</td>\n",
       "      <td>40</td>\n",
       "    </tr>\n",
       "    <tr>\n",
       "      <th>855</th>\n",
       "      <td>20</td>\n",
       "      <td>14</td>\n",
       "    </tr>\n",
       "    <tr>\n",
       "      <th rowspan=\"2\" valign=\"top\">David Davis</th>\n",
       "      <th>792</th>\n",
       "      <td>23</td>\n",
       "      <td>50</td>\n",
       "    </tr>\n",
       "    <tr>\n",
       "      <th>1182</th>\n",
       "      <td>60</td>\n",
       "      <td>40</td>\n",
       "    </tr>\n",
       "    <tr>\n",
       "      <th rowspan=\"2\" valign=\"top\">Jasmine Smith</th>\n",
       "      <th>209</th>\n",
       "      <td>59</td>\n",
       "      <td>66</td>\n",
       "    </tr>\n",
       "    <tr>\n",
       "      <th>744</th>\n",
       "      <td>21</td>\n",
       "      <td>74</td>\n",
       "    </tr>\n",
       "    <tr>\n",
       "      <th rowspan=\"2\" valign=\"top\">Jennifer Martin</th>\n",
       "      <th>319</th>\n",
       "      <td>37</td>\n",
       "      <td>59</td>\n",
       "    </tr>\n",
       "    <tr>\n",
       "      <th>931</th>\n",
       "      <td>32</td>\n",
       "      <td>67</td>\n",
       "    </tr>\n",
       "    <tr>\n",
       "      <th rowspan=\"2\" valign=\"top\">Jennifer Miller</th>\n",
       "      <th>293</th>\n",
       "      <td>29</td>\n",
       "      <td>72</td>\n",
       "    </tr>\n",
       "    <tr>\n",
       "      <th>348</th>\n",
       "      <td>61</td>\n",
       "      <td>63</td>\n",
       "    </tr>\n",
       "    <tr>\n",
       "      <th rowspan=\"2\" valign=\"top\">Jeremy Allen</th>\n",
       "      <th>303</th>\n",
       "      <td>44</td>\n",
       "      <td>28</td>\n",
       "    </tr>\n",
       "    <tr>\n",
       "      <th>534</th>\n",
       "      <td>18</td>\n",
       "      <td>31</td>\n",
       "    </tr>\n",
       "    <tr>\n",
       "      <th rowspan=\"2\" valign=\"top\">Jessica Patterson</th>\n",
       "      <th>169</th>\n",
       "      <td>48</td>\n",
       "      <td>24</td>\n",
       "    </tr>\n",
       "    <tr>\n",
       "      <th>520</th>\n",
       "      <td>18</td>\n",
       "      <td>35</td>\n",
       "    </tr>\n",
       "    <tr>\n",
       "      <th rowspan=\"2\" valign=\"top\">John Hutchinson</th>\n",
       "      <th>315</th>\n",
       "      <td>35</td>\n",
       "      <td>70</td>\n",
       "    </tr>\n",
       "    <tr>\n",
       "      <th>984</th>\n",
       "      <td>64</td>\n",
       "      <td>14</td>\n",
       "    </tr>\n",
       "    <tr>\n",
       "      <th rowspan=\"2\" valign=\"top\">Matthew Brown</th>\n",
       "      <th>207</th>\n",
       "      <td>48</td>\n",
       "      <td>68</td>\n",
       "    </tr>\n",
       "    <tr>\n",
       "      <th>632</th>\n",
       "      <td>19</td>\n",
       "      <td>39</td>\n",
       "    </tr>\n",
       "    <tr>\n",
       "      <th rowspan=\"2\" valign=\"top\">Michael Martin</th>\n",
       "      <th>85</th>\n",
       "      <td>21</td>\n",
       "      <td>78</td>\n",
       "    </tr>\n",
       "    <tr>\n",
       "      <th>1091</th>\n",
       "      <td>29</td>\n",
       "      <td>66</td>\n",
       "    </tr>\n",
       "    <tr>\n",
       "      <th rowspan=\"2\" valign=\"top\">Patricia Vance</th>\n",
       "      <th>139</th>\n",
       "      <td>18</td>\n",
       "      <td>40</td>\n",
       "    </tr>\n",
       "    <tr>\n",
       "      <th>431</th>\n",
       "      <td>18</td>\n",
       "      <td>38</td>\n",
       "    </tr>\n",
       "    <tr>\n",
       "      <th rowspan=\"2\" valign=\"top\">Scott Wallace</th>\n",
       "      <th>216</th>\n",
       "      <td>63</td>\n",
       "      <td>71</td>\n",
       "    </tr>\n",
       "    <tr>\n",
       "      <th>1134</th>\n",
       "      <td>35</td>\n",
       "      <td>55</td>\n",
       "    </tr>\n",
       "    <tr>\n",
       "      <th rowspan=\"2\" valign=\"top\">Timothy Brown</th>\n",
       "      <th>186</th>\n",
       "      <td>37</td>\n",
       "      <td>12</td>\n",
       "    </tr>\n",
       "    <tr>\n",
       "      <th>197</th>\n",
       "      <td>37</td>\n",
       "      <td>49</td>\n",
       "    </tr>\n",
       "    <tr>\n",
       "      <th rowspan=\"2\" valign=\"top\">William Brown</th>\n",
       "      <th>325</th>\n",
       "      <td>56</td>\n",
       "      <td>48</td>\n",
       "    </tr>\n",
       "    <tr>\n",
       "      <th>449</th>\n",
       "      <td>18</td>\n",
       "      <td>29</td>\n",
       "    </tr>\n",
       "    <tr>\n",
       "      <th rowspan=\"2\" valign=\"top\">William Tucker</th>\n",
       "      <th>903</th>\n",
       "      <td>62</td>\n",
       "      <td>33</td>\n",
       "    </tr>\n",
       "    <tr>\n",
       "      <th>1062</th>\n",
       "      <td>65</td>\n",
       "      <td>62</td>\n",
       "    </tr>\n",
       "  </tbody>\n",
       "</table>\n",
       "</div>"
      ],
      "text/plain": [
       "                             age  Trips\n",
       "driver_name                            \n",
       "Ashley Brown           828    24     72\n",
       "                       1112   53     33\n",
       "Brittany Morgan        48     19     60\n",
       "                       740    19     76\n",
       "Christopher Richardson 895    46     12\n",
       "                       914    60     43\n",
       "Daniel Hall            74     20     40\n",
       "                       855    20     14\n",
       "David Davis            792    23     50\n",
       "                       1182   60     40\n",
       "Jasmine Smith          209    59     66\n",
       "                       744    21     74\n",
       "Jennifer Martin        319    37     59\n",
       "                       931    32     67\n",
       "Jennifer Miller        293    29     72\n",
       "                       348    61     63\n",
       "Jeremy Allen           303    44     28\n",
       "                       534    18     31\n",
       "Jessica Patterson      169    48     24\n",
       "                       520    18     35\n",
       "John Hutchinson        315    35     70\n",
       "                       984    64     14\n",
       "Matthew Brown          207    48     68\n",
       "                       632    19     39\n",
       "Michael Martin         85     21     78\n",
       "                       1091   29     66\n",
       "Patricia Vance         139    18     40\n",
       "                       431    18     38\n",
       "Scott Wallace          216    63     71\n",
       "                       1134   35     55\n",
       "Timothy Brown          186    37     12\n",
       "                       197    37     49\n",
       "William Brown          325    56     48\n",
       "                       449    18     29\n",
       "William Tucker         903    62     33\n",
       "                       1062   65     62"
      ]
     },
     "execution_count": 42,
     "metadata": {},
     "output_type": "execute_result"
    }
   ],
   "source": [
    "# Comparar idade e número de viagens para motoristas com nomes duplicados\n",
    "comparison = duplicated_drivers.groupby('driver_name')[['age', 'Trips']].apply(lambda x: x.drop_duplicates())\n",
    "comparison\n"
   ]
  },
  {
   "cell_type": "markdown",
   "id": "e8cf7bb6-e554-4512-9148-f34a53e1319a",
   "metadata": {},
   "source": [
    "**Motoristas Diferentes com o Mesmo Nome:**\n",
    "* Em muitos casos, os registros associados a nomes duplicados apresentam diferenças significativas em idade e/ou número de viagens.\n",
    "* Isso sugere que são motoristas diferentes que compartilham o mesmo nome.\n",
    "\n",
    "**Possíveis Duplicatas:**\n",
    "* Em alguns casos (ex.: `Brittany Morgan`), os motoristas têm a mesma idade, mas números de viagens diferentes. Sem mais informações, não é possível confirmar se são duplicatas ou motoristas distintos.\n",
    "\n",
    "**Casos Notáveis:**\n",
    "* Alguns nomes (ex.: `Timothy Brown`) têm a mesma idade em ambos os registros, mas números de viagens significativamente diferentes."
   ]
  },
  {
   "cell_type": "markdown",
   "id": "c63b8122-486a-4c8c-b0cf-07f4b11df386",
   "metadata": {},
   "source": [
    "#### Filtrar Motoristar com Nomes Duplicados e Mesma Idade"
   ]
  },
  {
   "cell_type": "code",
   "execution_count": 43,
   "id": "b6f027c1-cd0d-45ea-b24d-ac4aa7a607ca",
   "metadata": {},
   "outputs": [
    {
     "data": {
      "text/html": [
       "<div>\n",
       "<style scoped>\n",
       "    .dataframe tbody tr th:only-of-type {\n",
       "        vertical-align: middle;\n",
       "    }\n",
       "\n",
       "    .dataframe tbody tr th {\n",
       "        vertical-align: top;\n",
       "    }\n",
       "\n",
       "    .dataframe thead th {\n",
       "        text-align: right;\n",
       "    }\n",
       "</style>\n",
       "<table border=\"1\" class=\"dataframe\">\n",
       "  <thead>\n",
       "    <tr style=\"text-align: right;\">\n",
       "      <th></th>\n",
       "      <th>driver_name</th>\n",
       "      <th>driver_id</th>\n",
       "      <th>age</th>\n",
       "    </tr>\n",
       "  </thead>\n",
       "  <tbody>\n",
       "    <tr>\n",
       "      <th>48</th>\n",
       "      <td>Brittany Morgan</td>\n",
       "      <td>WDID10082</td>\n",
       "      <td>19</td>\n",
       "    </tr>\n",
       "    <tr>\n",
       "      <th>74</th>\n",
       "      <td>Daniel Hall</td>\n",
       "      <td>WDID10222</td>\n",
       "      <td>20</td>\n",
       "    </tr>\n",
       "    <tr>\n",
       "      <th>139</th>\n",
       "      <td>Patricia Vance</td>\n",
       "      <td>WDID10447</td>\n",
       "      <td>18</td>\n",
       "    </tr>\n",
       "    <tr>\n",
       "      <th>186</th>\n",
       "      <td>Timothy Brown</td>\n",
       "      <td>WDID10506</td>\n",
       "      <td>37</td>\n",
       "    </tr>\n",
       "    <tr>\n",
       "      <th>197</th>\n",
       "      <td>Timothy Brown</td>\n",
       "      <td>WDID10517</td>\n",
       "      <td>37</td>\n",
       "    </tr>\n",
       "    <tr>\n",
       "      <th>431</th>\n",
       "      <td>Patricia Vance</td>\n",
       "      <td>WDID09902</td>\n",
       "      <td>18</td>\n",
       "    </tr>\n",
       "    <tr>\n",
       "      <th>740</th>\n",
       "      <td>Brittany Morgan</td>\n",
       "      <td>WDID10282</td>\n",
       "      <td>19</td>\n",
       "    </tr>\n",
       "    <tr>\n",
       "      <th>855</th>\n",
       "      <td>Daniel Hall</td>\n",
       "      <td>WDID10434</td>\n",
       "      <td>20</td>\n",
       "    </tr>\n",
       "  </tbody>\n",
       "</table>\n",
       "</div>"
      ],
      "text/plain": [
       "         driver_name  driver_id  age\n",
       "48   Brittany Morgan  WDID10082   19\n",
       "74       Daniel Hall  WDID10222   20\n",
       "139   Patricia Vance  WDID10447   18\n",
       "186    Timothy Brown  WDID10506   37\n",
       "197    Timothy Brown  WDID10517   37\n",
       "431   Patricia Vance  WDID09902   18\n",
       "740  Brittany Morgan  WDID10282   19\n",
       "855      Daniel Hall  WDID10434   20"
      ]
     },
     "execution_count": 43,
     "metadata": {},
     "output_type": "execute_result"
    }
   ],
   "source": [
    "# Identificar motoristas com nomes duplicados e mesma idade\n",
    "duplicates = drivers_data.groupby(['driver_name', 'age']).filter(lambda x: len(x['driver_id'].unique()) > 1)\n",
    "\n",
    "# Obter os registros duplicados\n",
    "duplicate_names = duplicates[['driver_name', 'driver_id', 'age']].drop_duplicates()\n",
    "duplicate_names\n"
   ]
  },
  {
   "cell_type": "markdown",
   "id": "756b01f6-5aa2-439d-bf56-26197c5ab3bf",
   "metadata": {},
   "source": [
    "* **Duplicatas reais:** O mesmo motorista registrado mais de uma vez no dataset com IDs diferentes.\n",
    "* **Motoristas distintos:** Pessoas diferentes que compartilham o mesmo nome e idade (possível em datasets reais, especialmente com nomes comuns).\n",
    "\n",
    "Sem informações adicionais (ex.: endereço, número de telefone ou histórico de viagens), não é possível confirmar se são duplicatas ou registros distintos."
   ]
  },
  {
   "cell_type": "markdown",
   "id": "3855228c-47eb-4b8c-882d-8a5db15297c2",
   "metadata": {},
   "source": [
    "#### Resumo Estatistico da Idade dos Motoristas"
   ]
  },
  {
   "cell_type": "code",
   "execution_count": 44,
   "id": "c740e798-07c1-4c89-bc6e-01ab666ee616",
   "metadata": {},
   "outputs": [
    {
     "data": {
      "text/plain": [
       "count    1247.000000\n",
       "mean       34.170810\n",
       "std        15.441928\n",
       "min        18.000000\n",
       "25%        20.000000\n",
       "50%        30.000000\n",
       "75%        48.000000\n",
       "max        65.000000\n",
       "Name: age, dtype: float64"
      ]
     },
     "execution_count": 44,
     "metadata": {},
     "output_type": "execute_result"
    }
   ],
   "source": [
    "drivers_data['age'].describe()"
   ]
  },
  {
   "cell_type": "markdown",
   "id": "b0202bf6-eb8c-461b-be20-f1d378d21cd6",
   "metadata": {},
   "source": [
    "* **Idade Mínima:** O motorista mais jovem tem 18 anos, o que pode ser esperado dado que essa é geralmente a idade mínima para dirigir.\n",
    "* **Idade Máxima:** O motorista mais velho tem 65 anos.\n",
    "* **Distribuição Geral:**\n",
    "    * A mediana de 30 anos indica que metade dos motoristas tem até essa idade.\n",
    "    * A maioria dos motoristas está concentrada entre os 20 e 48 anos (entre o primeiro e o terceiro quartil).\n",
    "\n",
    "\n",
    "Não há valores extremos óbvios (outliers) fora do intervalo esperado para idades de motoristas."
   ]
  },
  {
   "cell_type": "markdown",
   "id": "aa8f8625-bf1e-4381-9840-bdad32d3617b",
   "metadata": {},
   "source": [
    "#### Distribuição de Motoristas por Faixa Etária \n",
    "* Agrupar idade de motoristas em faixas etárias para facilitar análise\n",
    "* Gerar gráfico de barras para visualizar o numero de motoristas em cada faixa etária"
   ]
  },
  {
   "cell_type": "code",
   "execution_count": 45,
   "id": "2cd8b435-b82d-46c6-8d54-73797c8cc529",
   "metadata": {},
   "outputs": [
    {
     "data": {
      "image/png": "[encoded data removed]",
      "text/plain": [
       "<Figure size 800x400 with 1 Axes>"
      ]
     },
     "metadata": {},
     "output_type": "display_data"
    }
   ],
   "source": [
    "# Criar faixas etárias\n",
    "drivers_data['age_group'] = pd.cut(drivers_data['age'], bins=[18, 25, 35, 45, 55, 65], labels=['18-25', '26-35', '36-45', '46-55', '56-65'], include_lowest=True)\n",
    "\n",
    "# Contar motoristas por faixa etária\n",
    "age_group_counts = drivers_data['age_group'].value_counts()\n",
    "\n",
    "# Visualizar a distribuição das faixas etárias\n",
    "import seaborn as sns\n",
    "import matplotlib.pyplot as plt\n",
    "\n",
    "plt.figure(figsize=(8, 4))\n",
    "sns.barplot(x=age_group_counts.index, y=age_group_counts.values, hue=age_group_counts.index, palette='viridis')\n",
    "plt.title('Distribuição de Motoristas por Faixa Etária')\n",
    "plt.xlabel('Faixa Etária')\n",
    "plt.ylabel('Número de Motoristas')\n",
    "plt.show()\n"
   ]
  },
  {
   "cell_type": "markdown",
   "id": "a6aeb8df-a793-4be2-a843-f7601467bc22",
   "metadata": {},
   "source": [
    "#### Visualizar Numero de Viagens por Faixa Etária\n",
    "* Gerar boxplot para visualizar a distribuição do numero de viagens(`Trips`) realizadas pelos motoristas de cada faixa etária"
   ]
  },
  {
   "cell_type": "code",
   "execution_count": 46,
   "id": "7269a762-2b6c-4751-829e-ca5cc5ee2deb",
   "metadata": {},
   "outputs": [
    {
     "name": "stderr",
     "output_type": "stream",
     "text": [
      "/var/folders/cl/xvlm11r503z804x79nzjhsbr0000gn/T/ipykernel_6457/1328850445.py:3: FutureWarning: \n",
      "\n",
      "Passing `palette` without assigning `hue` is deprecated and will be removed in v0.14.0. Assign the `x` variable to `hue` and set `legend=False` for the same effect.\n",
      "\n",
      "  sns.boxplot(x='age_group', y='Trips', data=drivers_data,  palette='viridis')\n"
     ]
    },
    {
     "data": {
      "image/png": "[encoded data removed]",
      "text/plain": [
       "<Figure size 800x400 with 1 Axes>"
      ]
     },
     "metadata": {},
     "output_type": "display_data"
    }
   ],
   "source": [
    "# Boxplot do número de viagens por faixa etária\n",
    "plt.figure(figsize=(8, 4))\n",
    "sns.boxplot(x='age_group', y='Trips', data=drivers_data,  palette='viridis')\n",
    "plt.title('Número de Viagens por Faixa Etária')\n",
    "plt.xlabel('Faixa Etária')\n",
    "plt.ylabel('Número de Viagens')\n",
    "plt.show()"
   ]
  },
  {
   "cell_type": "markdown",
   "id": "9761e1d9-8818-453a-ba1f-bbec43ccdd9a",
   "metadata": {},
   "source": [
    "#### Distribuição Percentual por Faixa Etária (Gráfico de Pizza)\n",
    "* Gerar um grafico para visualizar distribuição percentual de mototistas por faixa etária"
   ]
  },
  {
   "cell_type": "code",
   "execution_count": 47,
   "id": "2166face-0d9a-4fb6-ab3b-64308db2f04b",
   "metadata": {},
   "outputs": [
    {
     "data": {
      "image/png": "[encoded data removed]",
      "text/plain": [
       "<Figure size 800x600 with 1 Axes>"
      ]
     },
     "metadata": {},
     "output_type": "display_data"
    }
   ],
   "source": [
    "age_group_percentages = drivers_data['age_group'].value_counts(normalize=True) * 100\n",
    "\n",
    "# Criar o gráfico de pizza\n",
    "plt.figure(figsize=(8, 6))\n",
    "wedges, texts, autotexts = plt.pie(\n",
    "    age_group_percentages.values,\n",
    "    labels=None,  # Remover os rótulos do gráfico\n",
    "    autopct='%1.1f%%',\n",
    "    startangle=90\n",
    ")\n",
    "\n",
    "# Adicionar título\n",
    "plt.title('Distribuição Percentual por Faixa Etária')\n",
    "\n",
    "# Adicionar legenda\n",
    "plt.legend(wedges, age_group_percentages.index, title=\"Faixa Etária\", loc=\"upper right\")\n",
    "\n",
    "# Garantir que o gráfico seja circular\n",
    "plt.axis('equal')\n",
    "plt.show()"
   ]
  },
  {
   "cell_type": "markdown",
   "id": "e97985e2-5e3a-4b0f-98f5-1639e0006dd5",
   "metadata": {},
   "source": [
    "* **Faixa Etária Predominante:** A faixa etária de 18-25 anos representa a maior proporção, com 44.0% do total. Isso indica que a maioria dos motoristas está nessa faixa etária.\n",
    "* **Distribuição Equilibrada:** As outras faixas etárias têm porcentagens relativamente próximas, variando entre 14.9% e 13.1%, o que sugere uma distribuição equilibrada entre as diferentes faixas etárias.\n",
    "* **Ações Recomendadas:** Considerar a faixa etária predominante ao planejar treinamentos e programas de desenvolvimento para os motoristas, garantindo que as necessidades específicas de cada grupo etário sejam atendidas."
   ]
  },
  {
   "cell_type": "markdown",
   "id": "13e6d93d-ca05-41a1-a79c-c5e856878c2c",
   "metadata": {},
   "source": [
    "#### Resumo Estatistico do Numero de Viagens\n",
    "* Gerar resumo estatistico de numero de viagens realizadas por motoristas.\n",
    "* Criar gráfico para visualizar a distribuição do numero de viagens e identificar possiveis outliers."
   ]
  },
  {
   "cell_type": "code",
   "execution_count": 48,
   "id": "44a41d66-67e7-4cf0-bb1e-e677932929ce",
   "metadata": {},
   "outputs": [
    {
     "name": "stdout",
     "output_type": "stream",
     "text": [
      "count    1247.000000\n",
      "mean       45.665597\n",
      "std        19.747758\n",
      "min        11.000000\n",
      "25%        28.500000\n",
      "50%        46.000000\n",
      "75%        63.000000\n",
      "max        78.000000\n",
      "Name: Trips, dtype: float64\n"
     ]
    },
    {
     "data": {
      "image/png": "[encoded data removed]",
      "text/plain": [
       "<Figure size 800x400 with 1 Axes>"
      ]
     },
     "metadata": {},
     "output_type": "display_data"
    }
   ],
   "source": [
    "# Resumo estatístico do número de viagens\n",
    "print(drivers_data['Trips'].describe())\n",
    "\n",
    "# Boxplot para identificar outliers\n",
    "plt.figure(figsize=(8, 4))\n",
    "sns.boxplot(x=drivers_data['Trips'], color='green')\n",
    "plt.title('Distribuição do Número de Viagens (Trips)')\n",
    "plt.xlabel('Número de Viagens')\n",
    "plt.show()\n"
   ]
  },
  {
   "cell_type": "markdown",
   "id": "26263755-8cab-4225-bd43-6757978ff7ff",
   "metadata": {},
   "source": [
    "* A distribuição do número de viagens é relativamente simétrica, com a maioria dos motoristas realizando entre 28.5 e 63 viagens.\n",
    "\n",
    "* A ausência de outliers sugere que não há motoristas com um número de viagens excepcionalmente alto ou baixo, o que pode indicar uma distribuição equilibrada de trabalho entre os motoristas."
   ]
  },
  {
   "cell_type": "markdown",
   "id": "2e0402fe-f1a4-4cba-b3f2-3f295153a576",
   "metadata": {},
   "source": [
    "#### Correlação Entre Idade e Número de Viagens\n",
    "* Calcular a correlação entre as variáveis `age` (idade) e `Trips` (número de viagens) para verificar se há uma relação significativa entre elas."
   ]
  },
  {
   "cell_type": "code",
   "execution_count": 49,
   "id": "ed76f8a2-f7f7-413d-ab93-0ce48a2442da",
   "metadata": {},
   "outputs": [
    {
     "data": {
      "image/png": "[encoded data removed]",
      "text/plain": [
       "<Figure size 600x400 with 2 Axes>"
      ]
     },
     "metadata": {},
     "output_type": "display_data"
    }
   ],
   "source": [
    "# Calcular correlação entre idade e número de viagens\n",
    "correlation = drivers_data[['age', 'Trips']].corr()\n",
    "# Criar o heatmap\n",
    "plt.figure(figsize=(6, 4))\n",
    "sns.heatmap(correlation, annot=True, cmap='coolwarm', fmt='.2f', cbar=True)\n",
    "plt.title('Matriz de Correlação entre Idade e Número de Viagens')\n",
    "plt.show()\n",
    "\n"
   ]
  },
  {
   "cell_type": "markdown",
   "id": "9740b0d6-36c7-4df4-8444-2c31f642a8c5",
   "metadata": {},
   "source": [
    "* A correlação entre idade e número de viagens é muito fraca, com um valor próximo de zero.\n",
    "* Não há uma relação significativa entre a idade dos motoristas e o número de viagens que eles realizam.\n",
    "* Isso sugere que a idade não é um fator determinante para a quantidade de viagens realizadas pelos motoristas."
   ]
  },
  {
   "cell_type": "markdown",
   "id": "c36bec66-a04a-4290-a307-b53b0bcef1a7",
   "metadata": {},
   "source": [
    "### Relatorio dataset `drivers_data`\n",
    "Realizada uma análise exploratória detalhada do dataset `drivers_data`, que contém informações sobre os motoristas, incluindo seus IDs, nomes, idades e número de viagens realizadas.\n",
    "\n",
    "#### Recomendações\n",
    "1. **Verificação de Dados Duplicados:**\n",
    "    * Realizar uma auditoria nos registros dos motoristas com nomes duplicados para confirmar se são pessoas diferentes ou duplicatas reais.\n",
    "    * Caso sejam duplicatas reais, consolidar os registros para evitar inconsistências futuras.\n",
    "2.\t**Treinamento Personalizado por Faixa Etária:**\n",
    "    * Desenvolver programas específicos para atender às necessidades da faixa etária predominante (18–25 anos), como:\n",
    "    * Treinamento em habilidades operacionais básicas.\n",
    "    * Incentivos para retenção a longo prazo.\n",
    "    * Criar programas voltados para motoristas mais experientes (ex.: mentorias ou incentivos financeiros).\n",
    "3.\t**Monitoramento Contínuo do Número de Viagens:**\n",
    "    * Continuar monitorando a distribuição do número de viagens para garantir que o trabalho permaneça equilibrado entre os motoristas.\n",
    "    * Investigar casos onde motoristas realizem consistentemente menos viagens para identificar possíveis problemas (ex.: indisponibilidade ou rotas ineficientes).\n",
    "4.\t**Foco em Fatores Operacionais Relevantes:**\n",
    "    * Como a idade não está correlacionada ao número de viagens, priorizar a análise de outros fatores operacionais (ex.: rotas atribuídas, regiões atendidas) para otimizar o desempenho dos motoristas.\n",
    "Pontos Fortes da Análise"
   ]
  },
  {
   "cell_type": "markdown",
   "id": "6c4a9b46-5a81-4d27-8951-9fb60aaf8105",
   "metadata": {},
   "source": [
    "#### Sugestões\n",
    "Tipos de dados que poderiam ser adicionados ao seu dataset para melhorar a qualidade das análises e permitir insights mais profundos:\n",
    "\n",
    "1. **Feedback dos Clientes:**\n",
    "    * Avaliação da experiência do cliente com a entrega (ex.: pontualidade, condição dos produtos).\n",
    "\t* **Por quê?** Pode fornecer insights qualitativos sobre os problemas enfrentados."
   ]
  },
  {
   "cell_type": "markdown",
   "id": "aa40c434-de9a-4edd-a071-21db4363bcdb",
   "metadata": {},
   "source": [
    "## 5. Customer Data"
   ]
  },
  {
   "cell_type": "markdown",
   "id": "b09f3794-97d3-4403-a816-e694de58124b",
   "metadata": {},
   "source": [
    "### Exploração Inicial\n",
    "#### Verificar Valores Ausentes"
   ]
  },
  {
   "cell_type": "code",
   "execution_count": 50,
   "id": "be8511bb-778c-4470-b1f6-a3bbaec21e39",
   "metadata": {},
   "outputs": [
    {
     "data": {
      "text/plain": [
       "customer_id      0\n",
       "customer_name    0\n",
       "customer_age     0\n",
       "dtype: int64"
      ]
     },
     "execution_count": 50,
     "metadata": {},
     "output_type": "execute_result"
    }
   ],
   "source": [
    "customer_data.isnull().sum()"
   ]
  },
  {
   "cell_type": "markdown",
   "id": "b180c622-2900-484a-a1b2-99abe909e9f9",
   "metadata": {},
   "source": [
    "Não foram encontrados valores ausentes em nenhuma das colunas do dataset"
   ]
  },
  {
   "cell_type": "markdown",
   "id": "113ac06d-fc73-412d-be12-9f447296ad35",
   "metadata": {},
   "source": [
    "#### Analisar Estrutura do Dataset"
   ]
  },
  {
   "cell_type": "code",
   "execution_count": 51,
   "id": "79fdf5a7-d5db-47bd-8924-da90008129fa",
   "metadata": {},
   "outputs": [
    {
     "name": "stdout",
     "output_type": "stream",
     "text": [
      "<class 'pandas.core.frame.DataFrame'>\n",
      "RangeIndex: 1239 entries, 0 to 1238\n",
      "Data columns (total 3 columns):\n",
      " #   Column         Non-Null Count  Dtype \n",
      "---  ------         --------------  ----- \n",
      " 0   customer_id    1239 non-null   object\n",
      " 1   customer_name  1239 non-null   object\n",
      " 2   customer_age   1239 non-null   int64 \n",
      "dtypes: int64(1), object(2)\n",
      "memory usage: 29.2+ KB\n"
     ]
    }
   ],
   "source": [
    "customer_data.info()"
   ]
  },
  {
   "cell_type": "markdown",
   "id": "69630e4f-9c43-4bd1-ac0e-ac021725bb47",
   "metadata": {},
   "source": [
    "Os dados tipos de dados estao corretos e não é necessário realizar ajustes nos tipos de dados."
   ]
  },
  {
   "cell_type": "markdown",
   "id": "e264e19b-ef3f-4d1b-a8b9-7d09875790f2",
   "metadata": {},
   "source": [
    "#### Visualizar Primeiras Linhas do Dataset"
   ]
  },
  {
   "cell_type": "code",
   "execution_count": 52,
   "id": "04075443-e73f-43e6-ba44-ca87184da476",
   "metadata": {},
   "outputs": [
    {
     "data": {
      "text/html": [
       "<div>\n",
       "<style scoped>\n",
       "    .dataframe tbody tr th:only-of-type {\n",
       "        vertical-align: middle;\n",
       "    }\n",
       "\n",
       "    .dataframe tbody tr th {\n",
       "        vertical-align: top;\n",
       "    }\n",
       "\n",
       "    .dataframe thead th {\n",
       "        text-align: right;\n",
       "    }\n",
       "</style>\n",
       "<table border=\"1\" class=\"dataframe\">\n",
       "  <thead>\n",
       "    <tr style=\"text-align: right;\">\n",
       "      <th></th>\n",
       "      <th>customer_id</th>\n",
       "      <th>customer_name</th>\n",
       "      <th>customer_age</th>\n",
       "    </tr>\n",
       "  </thead>\n",
       "  <tbody>\n",
       "    <tr>\n",
       "      <th>0</th>\n",
       "      <td>WCID5170</td>\n",
       "      <td>Elijah Taylor</td>\n",
       "      <td>30</td>\n",
       "    </tr>\n",
       "    <tr>\n",
       "      <th>1</th>\n",
       "      <td>WCID5901</td>\n",
       "      <td>Alexis Ross</td>\n",
       "      <td>58</td>\n",
       "    </tr>\n",
       "    <tr>\n",
       "      <th>2</th>\n",
       "      <td>WCID5652</td>\n",
       "      <td>Carla Knox</td>\n",
       "      <td>23</td>\n",
       "    </tr>\n",
       "    <tr>\n",
       "      <th>3</th>\n",
       "      <td>WCID5578</td>\n",
       "      <td>Matthew Beard</td>\n",
       "      <td>61</td>\n",
       "    </tr>\n",
       "    <tr>\n",
       "      <th>4</th>\n",
       "      <td>WCID5905</td>\n",
       "      <td>Julie Reese</td>\n",
       "      <td>80</td>\n",
       "    </tr>\n",
       "    <tr>\n",
       "      <th>5</th>\n",
       "      <td>WCID5218</td>\n",
       "      <td>William Bryan</td>\n",
       "      <td>73</td>\n",
       "    </tr>\n",
       "    <tr>\n",
       "      <th>6</th>\n",
       "      <td>WCID5625</td>\n",
       "      <td>Alex Berry</td>\n",
       "      <td>74</td>\n",
       "    </tr>\n",
       "    <tr>\n",
       "      <th>7</th>\n",
       "      <td>WCID5165</td>\n",
       "      <td>David Mccoy</td>\n",
       "      <td>59</td>\n",
       "    </tr>\n",
       "    <tr>\n",
       "      <th>8</th>\n",
       "      <td>WCID5018</td>\n",
       "      <td>Mark Mcmahon</td>\n",
       "      <td>78</td>\n",
       "    </tr>\n",
       "    <tr>\n",
       "      <th>9</th>\n",
       "      <td>WCID5857</td>\n",
       "      <td>Douglas Roth</td>\n",
       "      <td>81</td>\n",
       "    </tr>\n",
       "  </tbody>\n",
       "</table>\n",
       "</div>"
      ],
      "text/plain": [
       "  customer_id  customer_name  customer_age\n",
       "0    WCID5170  Elijah Taylor            30\n",
       "1    WCID5901    Alexis Ross            58\n",
       "2    WCID5652     Carla Knox            23\n",
       "3    WCID5578  Matthew Beard            61\n",
       "4    WCID5905    Julie Reese            80\n",
       "5    WCID5218  William Bryan            73\n",
       "6    WCID5625     Alex Berry            74\n",
       "7    WCID5165    David Mccoy            59\n",
       "8    WCID5018   Mark Mcmahon            78\n",
       "9    WCID5857   Douglas Roth            81"
      ]
     },
     "execution_count": 52,
     "metadata": {},
     "output_type": "execute_result"
    }
   ],
   "source": [
    "customer_data.head(10)"
   ]
  },
  {
   "cell_type": "markdown",
   "id": "178d78c7-0811-441b-b064-e5ef4e49d9af",
   "metadata": {},
   "source": [
    "#### Verificar Valores Unicos"
   ]
  },
  {
   "cell_type": "code",
   "execution_count": 53,
   "id": "a9dc130f-b2ea-4aa6-918d-50983f638961",
   "metadata": {},
   "outputs": [
    {
     "name": "stdout",
     "output_type": "stream",
     "text": [
      "customer_id: 1239\n",
      "customer_name: 1230\n"
     ]
    }
   ],
   "source": [
    "print(\"customer_id:\", customer_data['customer_id'].nunique())\n",
    "print(\"customer_name:\", customer_data['customer_name'].nunique())"
   ]
  },
  {
   "cell_type": "markdown",
   "id": "4b7205b2-de78-4275-8a29-dba4a305aed0",
   "metadata": {},
   "source": [
    "* A coluna `customer_id` está consistente e única para cada cliente.\n",
    "* A coluna `customer_name` apresenta 9 nomes duplicados, o que pode indicar:\n",
    "    * Clientes diferentes que compartilham o mesmo nome (ex.: nomes comuns).\n",
    "    * Possíveis duplicatas ou inconsistências nos dados."
   ]
  },
  {
   "cell_type": "markdown",
   "id": "05191c8e-0f1b-4fb7-be9f-425b8325d754",
   "metadata": {},
   "source": [
    "#### Verificar Relação Entre Nomes Duplicados e IDs Unicos\n",
    "* Realizar uma análise para identificar clientes com nomes duplicados (`customer_name`) e verificar os IDs únicos (`customer_id`) associados a esses nomes.\n",
    "* Entender se os nomes duplicados representam clientes diferentes ou possíveis inconsistências nos dados."
   ]
  },
  {
   "cell_type": "code",
   "execution_count": 54,
   "id": "b8e527b9-ae22-4b02-a570-e251cc9ca36c",
   "metadata": {},
   "outputs": [
    {
     "name": "stdout",
     "output_type": "stream",
     "text": [
      "Relação entre nomes duplicados e IDs:\n"
     ]
    },
    {
     "data": {
      "text/plain": [
       "customer_name\n",
       "Angela Smith         [WCID5836, WCID5659]\n",
       "Christine Garcia     [WCID5328, WCID5749]\n",
       "David Wilson         [WCID6012, WCID5558]\n",
       "James Johnson        [WCID5791, WCID5324]\n",
       "John Bell            [WCID5442, WCID5617]\n",
       "John Williams        [WCID5209, WCID5373]\n",
       "Justin Hill          [WCID5196, WCID5822]\n",
       "Kimberly Gonzalez    [WCID5786, WCID5966]\n",
       "Sharon Allen         [WCID5729, WCID5903]\n",
       "Name: customer_id, dtype: object"
      ]
     },
     "execution_count": 54,
     "metadata": {},
     "output_type": "execute_result"
    }
   ],
   "source": [
    "# Contar os nomes duplicados\n",
    "duplicated_customer_names = customer_data['customer_name'].value_counts()[customer_data['customer_name'].value_counts() > 1]\n",
    "\n",
    "# Filtrar os registros com nomes duplicados\n",
    "duplicated_customer = customer_data[customer_data['customer_name'].isin(duplicated_customer_names.index)]\n",
    "\n",
    "# Verificar a relação entre os nomes duplicados e os IDs únicos\n",
    "relation_customer = duplicated_customer.groupby('customer_name')['customer_id'].apply(list)\n",
    "print(\"Relação entre nomes duplicados e IDs:\")\n",
    "relation_customer"
   ]
  },
  {
   "cell_type": "markdown",
   "id": "ab44f9a9-581a-4766-8f4f-d69abb4e1f8e",
   "metadata": {},
   "source": [
    "* Identificamos nomes duplicados com IDs diferentes"
   ]
  },
  {
   "cell_type": "markdown",
   "id": "699999d6-86a1-40f8-95b3-419793e94dc3",
   "metadata": {},
   "source": [
    "#### Comparar Idade com Nomes Duplicados"
   ]
  },
  {
   "cell_type": "code",
   "execution_count": 55,
   "id": "eadbdc69-6a4f-4819-acfd-bdd50707b509",
   "metadata": {},
   "outputs": [
    {
     "data": {
      "text/html": [
       "<div>\n",
       "<style scoped>\n",
       "    .dataframe tbody tr th:only-of-type {\n",
       "        vertical-align: middle;\n",
       "    }\n",
       "\n",
       "    .dataframe tbody tr th {\n",
       "        vertical-align: top;\n",
       "    }\n",
       "\n",
       "    .dataframe thead th {\n",
       "        text-align: right;\n",
       "    }\n",
       "</style>\n",
       "<table border=\"1\" class=\"dataframe\">\n",
       "  <thead>\n",
       "    <tr style=\"text-align: right;\">\n",
       "      <th></th>\n",
       "      <th></th>\n",
       "      <th>customer_age</th>\n",
       "    </tr>\n",
       "    <tr>\n",
       "      <th>customer_name</th>\n",
       "      <th></th>\n",
       "      <th></th>\n",
       "    </tr>\n",
       "  </thead>\n",
       "  <tbody>\n",
       "    <tr>\n",
       "      <th rowspan=\"2\" valign=\"top\">Angela Smith</th>\n",
       "      <th>299</th>\n",
       "      <td>24</td>\n",
       "    </tr>\n",
       "    <tr>\n",
       "      <th>654</th>\n",
       "      <td>81</td>\n",
       "    </tr>\n",
       "    <tr>\n",
       "      <th rowspan=\"2\" valign=\"top\">Christine Garcia</th>\n",
       "      <th>500</th>\n",
       "      <td>68</td>\n",
       "    </tr>\n",
       "    <tr>\n",
       "      <th>919</th>\n",
       "      <td>66</td>\n",
       "    </tr>\n",
       "    <tr>\n",
       "      <th rowspan=\"2\" valign=\"top\">David Wilson</th>\n",
       "      <th>868</th>\n",
       "      <td>77</td>\n",
       "    </tr>\n",
       "    <tr>\n",
       "      <th>1067</th>\n",
       "      <td>46</td>\n",
       "    </tr>\n",
       "    <tr>\n",
       "      <th rowspan=\"2\" valign=\"top\">James Johnson</th>\n",
       "      <th>122</th>\n",
       "      <td>51</td>\n",
       "    </tr>\n",
       "    <tr>\n",
       "      <th>775</th>\n",
       "      <td>62</td>\n",
       "    </tr>\n",
       "    <tr>\n",
       "      <th rowspan=\"2\" valign=\"top\">John Bell</th>\n",
       "      <th>690</th>\n",
       "      <td>34</td>\n",
       "    </tr>\n",
       "    <tr>\n",
       "      <th>1013</th>\n",
       "      <td>64</td>\n",
       "    </tr>\n",
       "    <tr>\n",
       "      <th rowspan=\"2\" valign=\"top\">John Williams</th>\n",
       "      <th>560</th>\n",
       "      <td>68</td>\n",
       "    </tr>\n",
       "    <tr>\n",
       "      <th>1031</th>\n",
       "      <td>29</td>\n",
       "    </tr>\n",
       "    <tr>\n",
       "      <th rowspan=\"2\" valign=\"top\">Justin Hill</th>\n",
       "      <th>511</th>\n",
       "      <td>39</td>\n",
       "    </tr>\n",
       "    <tr>\n",
       "      <th>898</th>\n",
       "      <td>23</td>\n",
       "    </tr>\n",
       "    <tr>\n",
       "      <th rowspan=\"2\" valign=\"top\">Kimberly Gonzalez</th>\n",
       "      <th>314</th>\n",
       "      <td>32</td>\n",
       "    </tr>\n",
       "    <tr>\n",
       "      <th>322</th>\n",
       "      <td>49</td>\n",
       "    </tr>\n",
       "    <tr>\n",
       "      <th rowspan=\"2\" valign=\"top\">Sharon Allen</th>\n",
       "      <th>203</th>\n",
       "      <td>45</td>\n",
       "    </tr>\n",
       "    <tr>\n",
       "      <th>817</th>\n",
       "      <td>34</td>\n",
       "    </tr>\n",
       "  </tbody>\n",
       "</table>\n",
       "</div>"
      ],
      "text/plain": [
       "                        customer_age\n",
       "customer_name                       \n",
       "Angela Smith      299             24\n",
       "                  654             81\n",
       "Christine Garcia  500             68\n",
       "                  919             66\n",
       "David Wilson      868             77\n",
       "                  1067            46\n",
       "James Johnson     122             51\n",
       "                  775             62\n",
       "John Bell         690             34\n",
       "                  1013            64\n",
       "John Williams     560             68\n",
       "                  1031            29\n",
       "Justin Hill       511             39\n",
       "                  898             23\n",
       "Kimberly Gonzalez 314             32\n",
       "                  322             49\n",
       "Sharon Allen      203             45\n",
       "                  817             34"
      ]
     },
     "execution_count": 55,
     "metadata": {},
     "output_type": "execute_result"
    }
   ],
   "source": [
    "# Comparar idade com nomes duplicados\n",
    "comparison_customer = duplicated_customer.groupby('customer_name')[['customer_age']].apply(lambda x: x.drop_duplicates())\n",
    "comparison_customer"
   ]
  },
  {
   "cell_type": "markdown",
   "id": "89600880-bc72-4854-8d6b-1e51e22db089",
   "metadata": {},
   "source": [
    "**Clientes Diferentes com o Mesmo Nome:**\n",
    "* Em muitos casos, os registros associados a nomes duplicados apresentam diferenças significativas em idade e/ou número de viagens.\n",
    "* Isso sugere que são clientes diferentes que compartilham o mesmo nome.\n"
   ]
  },
  {
   "cell_type": "markdown",
   "id": "53157185-4010-4830-b996-978323517fc8",
   "metadata": {},
   "source": [
    "#### Resumo Estatistico da Idade dos Clientes"
   ]
  },
  {
   "cell_type": "code",
   "execution_count": 56,
   "id": "948a266c-19c1-45f4-8e98-4714ed3371f7",
   "metadata": {},
   "outputs": [
    {
     "data": {
      "text/plain": [
       "count    1239.000000\n",
       "mean       54.421308\n",
       "std        20.911501\n",
       "min        18.000000\n",
       "25%        36.000000\n",
       "50%        55.000000\n",
       "75%        73.000000\n",
       "max        90.000000\n",
       "Name: customer_age, dtype: float64"
      ]
     },
     "execution_count": 56,
     "metadata": {},
     "output_type": "execute_result"
    }
   ],
   "source": [
    "customer_data['customer_age'].describe()"
   ]
  },
  {
   "cell_type": "markdown",
   "id": "e2c7a5df-803c-4ab3-9995-5ccb03ead698",
   "metadata": {},
   "source": [
    "* A distribuição da idade dos clientes é ampla, variando de 18 a 90 anos.\n",
    "* A idade média e a mediana são próximas, sugerindo uma distribuição relativamente simétrica.\n",
    "* O desvio padrão indica uma variabilidade considerável nas idades dos clientes, com uma faixa etária ampla."
   ]
  },
  {
   "cell_type": "markdown",
   "id": "e020b638-edc7-441c-afd0-5c87e144677c",
   "metadata": {},
   "source": [
    "#### Distribuição de Clientes por Faixa Etária \n",
    "* Agrupar idade de clientes em faixas etárias para facilitar análise\n",
    "* Gerar gráfico de barras para visualizar o numero de clientes em cada faixa etária"
   ]
  },
  {
   "cell_type": "code",
   "execution_count": 57,
   "id": "fff6a640-84a7-440d-bc03-94fcc2bb4fd5",
   "metadata": {},
   "outputs": [
    {
     "data": {
      "image/png": "[encoded data removed]",
      "text/plain": [
       "<Figure size 800x400 with 1 Axes>"
      ]
     },
     "metadata": {},
     "output_type": "display_data"
    }
   ],
   "source": [
    "# Criar faixas etárias\n",
    "customer_data['age_group'] = pd.cut(customer_data['customer_age'], bins=[18, 25, 35, 45, 55, 65, 75, 85, 90], labels=['18-25', '26-35', '36-45', '46-55', '56-65', '66-75', '76-85', '85+'], include_lowest=True)\n",
    "\n",
    "# Contar motoristas por faixa etária\n",
    "customer_age_group_counts = customer_data['age_group'].value_counts()\n",
    "\n",
    "# Visualizar a distribuição das faixas etárias\n",
    "import seaborn as sns\n",
    "import matplotlib.pyplot as plt\n",
    "\n",
    "plt.figure(figsize=(8, 4))\n",
    "sns.barplot(x=customer_age_group_counts.index, y=customer_age_group_counts.values, hue=customer_age_group_counts.index, palette='viridis')\n",
    "plt.title('Distribuição de Clientes por Faixa Etária')\n",
    "plt.xlabel('Faixa Etária')\n",
    "plt.ylabel('Número de Clientes')\n",
    "plt.show()\n"
   ]
  },
  {
   "cell_type": "markdown",
   "id": "62477618-a7f8-4a94-8233-1c5f7ef5a488",
   "metadata": {},
   "source": [
    "#### Distribuição Percentual por Faixa Etária (Gráfico de Pizza)\n",
    "* Gerar um grafico para visualizar distribuição percentual de clientes por faixa etária"
   ]
  },
  {
   "cell_type": "code",
   "execution_count": 58,
   "id": "087cabb4-84ea-4db3-b49e-c9a05b41cb7a",
   "metadata": {},
   "outputs": [
    {
     "data": {
      "image/png": "[encoded data removed]",
      "text/plain": [
       "<Figure size 800x600 with 1 Axes>"
      ]
     },
     "metadata": {},
     "output_type": "display_data"
    }
   ],
   "source": [
    "customer_age_group_percentages = customer_data['age_group'].value_counts(normalize=True) * 100\n",
    "\n",
    "# Criar o gráfico de pizza\n",
    "plt.figure(figsize=(8, 6))\n",
    "wedges, texts, autotexts = plt.pie(\n",
    "    customer_age_group_percentages.values,\n",
    "    labels=None,  # Remover os rótulos do gráfico\n",
    "    autopct='%1.1f%%',\n",
    "    startangle=90\n",
    ")\n",
    "\n",
    "# Adicionar título\n",
    "plt.title('Distribuição Percentual por Faixa Etária')\n",
    "\n",
    "# Adicionar legenda\n",
    "plt.legend(wedges, customer_age_group_percentages.index, title=\"Faixa Etária\", loc=\"upper right\")\n",
    "\n",
    "# Garantir que o gráfico seja circular\n",
    "plt.axis('equal')\n",
    "plt.show()"
   ]
  },
  {
   "cell_type": "markdown",
   "id": "a31c2f2b-f81c-4236-8a8e-a16a67563d77",
   "metadata": {},
   "source": [
    "\n",
    "**Faixa Etária Predominante:** A faixa etária de 56-65 anos representa a maior proporção, com 15.1% do total. Isso pode indicar que a maioria dos clientes está nessa faixa etária.\n",
    "\n",
    "**Distribuição Equilibrada:** As outras faixas etárias têm porcentagens relativamente próximas, variando entre 10.8% e 14.1%, o que sugere uma distribuição equilibrada entre as diferentes faixas etárias.\n",
    "\n",
    "**Menor Proporção:** A faixa etária de 85+ anos tem a menor proporção, com 6.9%, o que pode indicar uma menor presença de clientes nessa faixa etária.\n",
    "\n",
    "Esses insights podem ser úteis para entender a composição etária da população e para planejar estratégias de marketing e atendimento ao cliente direcionadas a diferentes grupos etários."
   ]
  },
  {
   "cell_type": "markdown",
   "id": "1394530d-d016-4003-8cc6-fe02cc025ec9",
   "metadata": {},
   "source": [
    "### Relatório dataset `customer_data`\n",
    "Realizada uma análise exploratória detalhada do dataset `customer_data`, que contém informações sobre os clientes, incluindo IDs, nomes e idades.\n",
    "\n",
    "#### Recomendações\n",
    "1. **Verificação de Dados Duplicados:**\n",
    "    * Realizar uma auditoria nos registros dos clientes com nomes duplicados para confirmar se são pessoas diferentes ou duplicatas reais.\n",
    "    * Caso sejam duplicatas reais, consolidar os registros para evitar inconsistências futuras.\n",
    "2.\t**Segmentação por Faixa Etária:**\n",
    "    * Criar estratégias específicas para atender às necessidades dos diferentes grupos etários:\n",
    "    * Para os clientes mais jovens (18–25 anos): Oferecer promoções ou programas de fidelidade voltados para produtos populares entre esse público.\n",
    "    * Para os clientes mais velhos (56–65 anos ou mais): Garantir um atendimento personalizado e priorizar produtos voltados para saúde e bem-estar.\n",
    "3.\t**Monitoramento Contínuo:**\n",
    "    * Continuar monitorando as características demográficas dos clientes para garantir que as estratégias estejam alinhadas com as necessidades da base de clientes.\n",
    "4.\t**Pesquisas Qualitativas:**\n",
    "    * Realizar pesquisas qualitativas com os grupos etários predominantes (ex.: 56–65 anos) para entender melhor suas preferências e desafios relacionados às entregas"
   ]
  },
  {
   "cell_type": "markdown",
   "id": "4ad10cf9-6e8e-4810-9d82-65bfaba5a030",
   "metadata": {},
   "source": [
    "### Sugestões\n",
    "Tipos de dados que poderiam ser adicionados ao seu dataset para melhorar a qualidade das análises e permitir insights mais profundos:\n",
    "1. **Histórico de Reclamações por Cliente:**\n",
    "    * Número total de reclamações feitas por cliente.\n",
    "    * **Por quê?** Ajuda a identificar clientes reincidentes que podem estar abusando do sistema (fraudes do consumidor).\n",
    "2. **Feedback dos Clientes:**\n",
    "    * Avaliação da experiência do cliente com a entrega (ex.: pontualidade, condição dos produtos).\n",
    "    * **Por quê?** Pode fornecer insights qualitativos sobre os problemas enfrentados."
   ]
  },
  {
   "cell_type": "markdown",
   "id": "26964213-1d96-4e2d-b3ae-9518b3aeb3ee",
   "metadata": {},
   "source": [
    "## Salvar datasets limpos no EDA Notebook"
   ]
  },
  {
   "cell_type": "code",
   "execution_count": 59,
   "id": "84a6ddf1-fa41-4aee-9336-80bf7b457491",
   "metadata": {},
   "outputs": [],
   "source": [
    "# Salvar datasets limpos no EDA Notebook\n",
    "drivers_data.to_csv('drivers_data_cleaned.csv', index=False)\n",
    "orders.to_csv('orders_cleaned.csv', index=False)\n",
    "missing_data.to_csv('missing_data_cleaned.csv', index=False)\n",
    "products.to_csv('products_cleaned.csv', index=False)\n",
    "customer_data.to_csv('customer_data_cleaned.csv', index=False)"
   ]
  }
 ],
 "metadata": {
  "kernelspec": {
   "display_name": "Python 3 (ipykernel)",
   "language": "python",
   "name": "python3"
  },
  "language_info": {
   "codemirror_mode": {
    "name": "ipython",
    "version": 3
   },
   "file_extension": ".py",
   "mimetype": "text/x-python",
   "name": "python",
   "nbconvert_exporter": "python",
   "pygments_lexer": "ipython3",
   "version": "3.11.10"
  }
 },
 "nbformat": 4,
 "nbformat_minor": 5
}
